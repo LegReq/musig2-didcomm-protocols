{
 "cells": [
  {
   "cell_type": "markdown",
   "id": "5f299e26-679e-4533-8ec7-894d47c70b1b",
   "metadata": {},
   "source": [
    "# Fred"
   ]
  },
  {
   "cell_type": "code",
   "execution_count": 2,
   "id": "7b046e31-1bda-482d-af32-d77a5de60253",
   "metadata": {},
   "outputs": [],
   "source": [
    "import json\n",
    "from aries_askar import Key, KeyAlg\n",
    "from didcomm_messaging.crypto.backend.askar import AskarCryptoService, AskarSecretKey\n",
    "from didcomm_messaging.crypto.backend.basic import InMemorySecretsManager\n",
    "from didcomm_messaging.packaging import PackagingService\n",
    "from didcomm_messaging.multiformats import multibase\n",
    "from didcomm_messaging.multiformats import multicodec\n",
    "from didcomm_messaging.resolver.peer import Peer2, Peer4\n",
    "from didcomm_messaging.resolver import PrefixResolver\n",
    "from did_peer_2 import KeySpec, generate, json\n",
    "from didcomm_messaging import DIDCommMessaging\n",
    "from didcomm_messaging.routing import RoutingService\n",
    "from pydid.did import DID\n"
   ]
  },
  {
   "cell_type": "markdown",
   "id": "120562dd-ea1e-4398-8e90-5f982864b44b",
   "metadata": {},
   "source": [
    "# Define DIDComm Messaging Service Endpoint"
   ]
  },
  {
   "cell_type": "code",
   "execution_count": 3,
   "id": "7f7711b6-85cc-4a77-9515-6e9f195db792",
   "metadata": {},
   "outputs": [],
   "source": [
    "didcomm_host = \"localhost\"\n",
    "didcomm_port = 8766\n",
    "didcomm_messaging_uri = f\"ws://{didcomm_host}:{didcomm_port}\""
   ]
  },
  {
   "cell_type": "markdown",
   "id": "f8d53a90-d724-4f06-9b0e-fd2525d2cff2",
   "metadata": {},
   "source": [
    "# Create DID"
   ]
  },
  {
   "cell_type": "code",
   "execution_count": 4,
   "id": "ee67574d-c5d7-4c56-a909-6105e99e8c42",
   "metadata": {},
   "outputs": [],
   "source": [
    "secrets = InMemorySecretsManager()\n",
    "crypto = AskarCryptoService()\n",
    "verkey = Key.generate(KeyAlg.ED25519)\n",
    "xkey = Key.generate(KeyAlg.X25519)\n",
    "did = generate(\n",
    "    [\n",
    "        KeySpec.verification(\n",
    "            multibase.encode(\n",
    "                multicodec.wrap(\"ed25519-pub\", verkey.get_public_bytes()),\n",
    "                \"base58btc\",\n",
    "            )\n",
    "        ),\n",
    "        KeySpec.key_agreement(\n",
    "            multibase.encode(\n",
    "                multicodec.wrap(\"x25519-pub\", xkey.get_public_bytes()), \"base58btc\"\n",
    "            )\n",
    "        ),\n",
    "    ],\n",
    "    [\n",
    "                {\n",
    "                    \"type\": \"DIDCommMessaging\",\n",
    "                    \"serviceEndpoint\": {\n",
    "                        \"uri\": didcomm_messaging_uri,\n",
    "                        \"accept\": [\"didcomm/v2\"],\n",
    "                        \"routingKeys\": [],\n",
    "                    },\n",
    "                },\n",
    "    ],\n",
    ")\n",
    "await secrets.add_secret(AskarSecretKey(verkey, f\"{did}#key-1\"))\n",
    "await secrets.add_secret(AskarSecretKey(xkey, f\"{did}#key-2\"))\n"
   ]
  },
  {
   "cell_type": "code",
   "execution_count": 5,
   "id": "b34e2518-3891-4600-aa7a-51f9b50bdf4e",
   "metadata": {},
   "outputs": [
    {
     "data": {
      "text/plain": [
       "<didcomm_messaging.crypto.backend.basic.InMemorySecretsManager at 0x7648a11202c0>"
      ]
     },
     "execution_count": 5,
     "metadata": {},
     "output_type": "execute_result"
    }
   ],
   "source": [
    "secrets"
   ]
  },
  {
   "cell_type": "code",
   "execution_count": 6,
   "id": "169446a8-166d-468a-996d-9bba7e7e5cc6",
   "metadata": {},
   "outputs": [
    {
     "name": "stdout",
     "output_type": "stream",
     "text": [
      "{\n",
      "  \"@context\": [\n",
      "    \"https://www.w3.org/ns/did/v1\",\n",
      "    \"https://w3id.org/security/multikey/v1\"\n",
      "  ],\n",
      "  \"id\": \"did:peer:2.Vz6Mkskipyoo2GKrzaHhCLvJFT6YcUQqL5g37YTMjmXHLXWuw.Ez6LSnEHXZ79YBBdcYtC9xEFj5uR2Jhej1323XqpNJwqnJ7b3.SeyJ0IjoiZG0iLCJzIjp7InVyaSI6IndzOi8vbG9jYWxob3N0Ojg3NjYiLCJhIjpbImRpZGNvbW0vdjIiXSwiciI6W119fQ\",\n",
      "  \"verificationMethod\": [\n",
      "    {\n",
      "      \"type\": \"Multikey\",\n",
      "      \"id\": \"#key-1\",\n",
      "      \"controller\": \"did:peer:2.Vz6Mkskipyoo2GKrzaHhCLvJFT6YcUQqL5g37YTMjmXHLXWuw.Ez6LSnEHXZ79YBBdcYtC9xEFj5uR2Jhej1323XqpNJwqnJ7b3.SeyJ0IjoiZG0iLCJzIjp7InVyaSI6IndzOi8vbG9jYWxob3N0Ojg3NjYiLCJhIjpbImRpZGNvbW0vdjIiXSwiciI6W119fQ\",\n",
      "      \"publicKeyMultibase\": \"z6Mkskipyoo2GKrzaHhCLvJFT6YcUQqL5g37YTMjmXHLXWuw\"\n",
      "    },\n",
      "    {\n",
      "      \"type\": \"Multikey\",\n",
      "      \"id\": \"#key-2\",\n",
      "      \"controller\": \"did:peer:2.Vz6Mkskipyoo2GKrzaHhCLvJFT6YcUQqL5g37YTMjmXHLXWuw.Ez6LSnEHXZ79YBBdcYtC9xEFj5uR2Jhej1323XqpNJwqnJ7b3.SeyJ0IjoiZG0iLCJzIjp7InVyaSI6IndzOi8vbG9jYWxob3N0Ojg3NjYiLCJhIjpbImRpZGNvbW0vdjIiXSwiciI6W119fQ\",\n",
      "      \"publicKeyMultibase\": \"z6LSnEHXZ79YBBdcYtC9xEFj5uR2Jhej1323XqpNJwqnJ7b3\"\n",
      "    }\n",
      "  ],\n",
      "  \"authentication\": [\n",
      "    \"#key-1\"\n",
      "  ],\n",
      "  \"keyAgreement\": [\n",
      "    \"#key-2\"\n",
      "  ],\n",
      "  \"service\": [\n",
      "    {\n",
      "      \"type\": \"DIDCommMessaging\",\n",
      "      \"serviceEndpoint\": {\n",
      "        \"uri\": \"ws://localhost:8766\",\n",
      "        \"accept\": [\n",
      "          \"didcomm/v2\"\n",
      "        ],\n",
      "        \"routingKeys\": []\n",
      "      },\n",
      "      \"id\": \"#service\"\n",
      "    }\n",
      "  ],\n",
      "  \"alsoKnownAs\": [\n",
      "    \"did:peer:3zQmcFTHS5iKD4jpghVN46qRYJvbxgsk2fHDQvhNvQSWYZ37\"\n",
      "  ]\n",
      "}\n"
     ]
    }
   ],
   "source": [
    "resolver = PrefixResolver({\"did:peer:2\": Peer2(), \"did:peer:4\": Peer4()})\n",
    "\n",
    "did_document = await resolver.resolve(did)\n",
    "print(json.dumps(did_document, indent=2))"
   ]
  },
  {
   "cell_type": "markdown",
   "id": "6664c95c-6865-4488-a93d-1af3c1f73d50",
   "metadata": {},
   "source": [
    "# Instantiate DIDComm Messaging \n",
    "\n",
    "This is used to pack and unpack DIDComm messages."
   ]
  },
  {
   "cell_type": "code",
   "execution_count": 7,
   "id": "72bd7406-33ac-409f-b14f-d75f1ad8b556",
   "metadata": {},
   "outputs": [],
   "source": [
    "packaging = PackagingService()\n",
    "router = RoutingService()\n",
    "\n",
    "dmp = DIDCommMessaging(\n",
    "    crypto=crypto,\n",
    "    secrets=secrets,\n",
    "    resolver=resolver,\n",
    "    packaging=packaging,\n",
    "    routing=router,\n",
    ")"
   ]
  },
  {
   "cell_type": "markdown",
   "id": "88e9b332-adcc-467b-b650-60f02283076f",
   "metadata": {},
   "source": [
    "# Create send message functon\n",
    "\n",
    "Sends packed DIDComm messages to a websocket endpoint"
   ]
  },
  {
   "cell_type": "code",
   "execution_count": 8,
   "id": "c02033b0-70ec-4a8c-ba12-c160144b4abf",
   "metadata": {},
   "outputs": [],
   "source": [
    "async def send_message(message, to, frm):\n",
    "    packy = await dmp.pack(\n",
    "        message=message,\n",
    "        to=to,\n",
    "        frm=frm,\n",
    "    )\n",
    "    packed = packy.message            \n",
    "    # Get the first http endpoint from the last DID in the DID chain\n",
    "    endpoint = packy.get_endpoint(\"ws\")\n",
    "    async with websockets.connect(endpoint) as websocket:\n",
    "        message = \"Hello from the client!\"\n",
    "        print(f\"Sending message: {packed}\")\n",
    "        await websocket.send(packed)  # Send message to the server\n",
    "        \n",
    "        response = await websocket.recv()  # Wait for the server's response\n",
    "        print(f\"Received response: {response}\")"
   ]
  },
  {
   "cell_type": "code",
   "execution_count": null,
   "id": "07b9a017-7aab-48ab-a535-774a4fc84fad",
   "metadata": {},
   "outputs": [],
   "source": []
  },
  {
   "cell_type": "markdown",
   "id": "25b069a4-d412-4989-9624-33b9cd7b417b",
   "metadata": {},
   "source": [
    "# Setup DIDComm Messaging Websocket\n",
    "\n",
    "This is where DIDComm messages are sent to the coordinator"
   ]
  },
  {
   "cell_type": "code",
   "execution_count": 9,
   "id": "98b72579-6c5e-4bf6-9bd4-c709c876e290",
   "metadata": {},
   "outputs": [],
   "source": [
    "import asyncio\n",
    "import websockets\n",
    "\n",
    "inbox = []\n",
    "\n",
    "\n",
    "# This handler will be called for every client connection.\n",
    "async def handle_messages(websocket):\n",
    "    print(\"Client connected\")\n",
    "    try:\n",
    "        async for message in websocket:\n",
    "            print(f\"Received: {message}\")\n",
    "            # Echo the received message back to the client.\n",
    "            # await websocket.send(f\"Echo: {message}\")\n",
    "\n",
    "            unpacked =  await dmp.packaging.unpack(crypto, resolver, secrets,message)\n",
    "            msg = json.loads(unpacked[0].decode())\n",
    "            inbox.append(msg)\n",
    "            print(f\"Unpacked Message : {unpacked}\")\n",
    "    except websockets.exceptions.ConnectionClosed as e:\n",
    "        print(\"Connection closed\", e)\n",
    "\n",
    "# The main function to start the server.\n",
    "async def run_websocket():\n",
    "    # Start the server on localhost at port 8765.\n",
    "    async with websockets.serve(handle_messages, didcomm_host, didcomm_port):\n",
    "        print(f\"WebSocket server started on {didcomm_messaging_uri}\")\n",
    "        # Run the server until it is manually stopped.\n",
    "        await asyncio.Future()  # Run forever"
   ]
  },
  {
   "cell_type": "code",
   "execution_count": 10,
   "id": "dee7332b-f836-431b-9dc0-8a09be96a162",
   "metadata": {},
   "outputs": [
    {
     "data": {
      "text/plain": [
       "<Task pending name='Task-7' coro=<run_websocket() running at /tmp/ipykernel_9483/2641164070.py:24>>"
      ]
     },
     "execution_count": 10,
     "metadata": {},
     "output_type": "execute_result"
    },
    {
     "name": "stdout",
     "output_type": "stream",
     "text": [
      "WebSocket server started on ws://localhost:8766\n",
      "Client connected\n",
      "Received: b'{\"protected\": \"eyJ0eXAiOiAiYXBwbGljYXRpb24vZGlkY29tbStlbmNyeXB0ZWQiLCAiYWxnIjogIkVDREgtMVBVK0EyNTZLVyIsICJlbmMiOiAiQTI1NkNCQy1IUzUxMiIsICJhcHUiOiAiWkdsa09uQmxaWEk2TWk1V2VqWk5hM04yVkhCak5YcGlWM0ptWkZwRGJ6Tk9lV3BCUWxGUlZVUnhRemQ1YTNONVFtczNVRmx0UTNGUk56UnBMa1Y2Tmt4VFoxSk5XVWhPUkhaeGNqa3pXR2xDY0RWeFRuUkdNWFI2VVRGamJUTm5TMkZ2WlZsMWEyTnlia1ZDTVhBdVUyVjVTakJKYW05cFdrY3dhVXhEU25wSmFuQTNTVzVXZVdGVFNUWkpibVI2VDJrNGRtSkhPV3BaVjNodllqTk9NRTlxWnpOT2FsVnBURU5LYUVscWNHSkpiVkp3V2tkT2RtSlhNSFprYWtscFdGTjNhV05wU1RaWE1URTVabEVqYTJWNUxUSSIsICJhcHYiOiAiUTZSTG1vOHVrNHV0V3lkZXpIdnJrdWo4OUZPbDZIbDJNUjBka1ZoTHN0RSIsICJlcGsiOiB7ImNydiI6ICJYMjU1MTkiLCAia3R5IjogIk9LUCIsICJ4IjogImlDaExqSWQ2cU5hZC12eGtXdTJYQzFtZXBNR0d5Ty00N2RBWm5pM081SDAifSwgInNraWQiOiAiZGlkOnBlZXI6Mi5WejZNa3N2VHBjNXpiV3JmZFpDbzNOeWpBQlFRVURxQzd5a3N5Qms3UFltQ3FRNzRpLkV6NkxTZ1JNWUhORHZxcjkzWGlCcDVxTnRGMXR6UTFjbTNnS2FvZVl1a2NybkVCMXAuU2V5SjBJam9pWkcwaUxDSnpJanA3SW5WeWFTSTZJbmR6T2k4dmJHOWpZV3hvYjNOME9qZzNOalVpTENKaElqcGJJbVJwWkdOdmJXMHZkaklpWFN3aWNpSTZXMTE5ZlEja2V5LTIifQ\", \"recipients\": [{\"encrypted_key\": \"LKw7f6XpnjHaW1EDA_QFRZ-G-mC1AGJevRTzY0-AUpXfeR4dVtrpslCynOBiKn64JupAXMcvmQqu6ItJnUvukmDdQLhnKlbL\", \"header\": {\"kid\": \"did:peer:2.Vz6Mkskipyoo2GKrzaHhCLvJFT6YcUQqL5g37YTMjmXHLXWuw.Ez6LSnEHXZ79YBBdcYtC9xEFj5uR2Jhej1323XqpNJwqnJ7b3.SeyJ0IjoiZG0iLCJzIjp7InVyaSI6IndzOi8vbG9jYWxob3N0Ojg3NjYiLCJhIjpbImRpZGNvbW0vdjIiXSwiciI6W119fQ#key-2\"}}], \"iv\": \"ouVpsW1B4Z6OSAQpGTlkfw\", \"ciphertext\": \"VFdOinxTJx2wmuQCtVX4yz3xE7oyAKXZTgiKBVHHgv0_iN6SmJZdqAJxWCbqF0DaW_5Tjn04l5ccUFpvLlHQjfSvEIj-303ok2-C13ChK_Xp3eyUgiOzjgPFLd7HLs9EZtbSKeYVpYxhVLJW83lE3VYKQwVMoYfynK0aV72dAM1gGVDvDzmxoHqzdgekC-pp0CA8SCVcwBAXIkeT4DFEIzGSyKoSs3XJLorLyptLyVBJ5sMNqT7ZTk4on5v1nDyFFsZ9pArEuY9DJ5t0p_igjgjf8fV8gywx7EWTPMV9frsW_a9StTcibn9x8EQapu4HcGNOn4cq4S8X3empevWwEjeFN0PHPtQKeJGV1eET2_jhMygylk5OezQnUO1jDq1YQlSUtg6jpbCkg0V6F1Gk4V-0fY97BNrAYFjpIBxKo0s_zc50l0CrO3SRFXy6pM9hvMmbJSscd3VsB3YzIVh1Kyr8uuL9G8rSAL9Q01zikS-Nok7nq7oM85Q7zsssn9KjFLhJdtq9wvmFyKhe4djCxZ9eN02XklXmihPYuth4UuakWkbVg1I_yascivTnkSXifEQ4aI0Nw9gbJrYE23E_xJeA_5PVSX4fpNt1m-4xaptprclbKXKKDo4K9B5VUN6GrjPw2Eu_HJ4-juZPkzEC6dxErA56GsC-U4CBLrUjYFyk3-1ihbYN5eqrtU-5Kbw54yXRo6abqY1cAnSc2wJj0GVlNqFxhbbaCwlVc3oEgzM\", \"tag\": \"8JgEF1UU0JzSsfuVy4Ttj1raJEB_Il9Xa6vGHIoZun8\"}'\n",
      "Unpacked Message : (b'{\"type\": \"https://didcomm.org/musig2/subscribe/accept\", \"id\": \"6ba57cc3-55e2-47fd-b5e4-42189ce85857\", \"body\": {}, \"from\": \"did:peer:2.Vz6MksvTpc5zbWrfdZCo3NyjABQQUDqC7yksyBk7PYmCqQ74i.Ez6LSgRMYHNDvqr93XiBp5qNtF1tzQ1cm3gKaoeYukcrnEB1p.SeyJ0IjoiZG0iLCJzIjp7InVyaSI6IndzOi8vbG9jYWxob3N0Ojg3NjUiLCJhIjpbImRpZGNvbW0vdjIiXSwiciI6W119fQ\", \"to\": \"did:peer:2.Vz6Mkskipyoo2GKrzaHhCLvJFT6YcUQqL5g37YTMjmXHLXWuw.Ez6LSnEHXZ79YBBdcYtC9xEFj5uR2Jhej1323XqpNJwqnJ7b3.SeyJ0IjoiZG0iLCJzIjp7InVyaSI6IndzOi8vbG9jYWxob3N0Ojg3NjYiLCJhIjpbImRpZGNvbW0vdjIiXSwiciI6W119fQ\"}', PackedMessageMetadata(wrapper=JweEnvelope(recipients=[<didcomm_messaging.crypto.jwe.JweRecipient object at 0x7648a0fcbad0>], protected={'typ': 'application/didcomm+encrypted', 'alg': 'ECDH-1PU+A256KW', 'enc': 'A256CBC-HS512', 'apu': 'ZGlkOnBlZXI6Mi5WejZNa3N2VHBjNXpiV3JmZFpDbzNOeWpBQlFRVURxQzd5a3N5Qms3UFltQ3FRNzRpLkV6NkxTZ1JNWUhORHZxcjkzWGlCcDVxTnRGMXR6UTFjbTNnS2FvZVl1a2NybkVCMXAuU2V5SjBJam9pWkcwaUxDSnpJanA3SW5WeWFTSTZJbmR6T2k4dmJHOWpZV3hvYjNOME9qZzNOalVpTENKaElqcGJJbVJwWkdOdmJXMHZkaklpWFN3aWNpSTZXMTE5ZlEja2V5LTI', 'apv': 'Q6RLmo8uk4utWydezHvrkuj89FOl6Hl2MR0dkVhLstE', 'epk': {'crv': 'X25519', 'kty': 'OKP', 'x': 'iChLjId6qNad-vxkWu2XC1mepMGGyO-47dAZni3O5H0'}, 'skid': 'did:peer:2.Vz6MksvTpc5zbWrfdZCo3NyjABQQUDqC7yksyBk7PYmCqQ74i.Ez6LSgRMYHNDvqr93XiBp5qNtF1tzQ1cm3gKaoeYukcrnEB1p.SeyJ0IjoiZG0iLCJzIjp7InVyaSI6IndzOi8vbG9jYWxob3N0Ojg3NjUiLCJhIjpbImRpZGNvbW0vdjIiXSwiciI6W119fQ#key-2'}, protected_b64='eyJ0eXAiOiAiYXBwbGljYXRpb24vZGlkY29tbStlbmNyeXB0ZWQiLCAiYWxnIjogIkVDREgtMVBVK0EyNTZLVyIsICJlbmMiOiAiQTI1NkNCQy1IUzUxMiIsICJhcHUiOiAiWkdsa09uQmxaWEk2TWk1V2VqWk5hM04yVkhCak5YcGlWM0ptWkZwRGJ6Tk9lV3BCUWxGUlZVUnhRemQ1YTNONVFtczNVRmx0UTNGUk56UnBMa1Y2Tmt4VFoxSk5XVWhPUkhaeGNqa3pXR2xDY0RWeFRuUkdNWFI2VVRGamJUTm5TMkZ2WlZsMWEyTnlia1ZDTVhBdVUyVjVTakJKYW05cFdrY3dhVXhEU25wSmFuQTNTVzVXZVdGVFNUWkpibVI2VDJrNGRtSkhPV3BaVjNodllqTk9NRTlxWnpOT2FsVnBURU5LYUVscWNHSkpiVkp3V2tkT2RtSlhNSFprYWtscFdGTjNhV05wU1RaWE1URTVabEVqYTJWNUxUSSIsICJhcHYiOiAiUTZSTG1vOHVrNHV0V3lkZXpIdnJrdWo4OUZPbDZIbDJNUjBka1ZoTHN0RSIsICJlcGsiOiB7ImNydiI6ICJYMjU1MTkiLCAia3R5IjogIk9LUCIsICJ4IjogImlDaExqSWQ2cU5hZC12eGtXdTJYQzFtZXBNR0d5Ty00N2RBWm5pM081SDAifSwgInNraWQiOiAiZGlkOnBlZXI6Mi5WejZNa3N2VHBjNXpiV3JmZFpDbzNOeWpBQlFRVURxQzd5a3N5Qms3UFltQ3FRNzRpLkV6NkxTZ1JNWUhORHZxcjkzWGlCcDVxTnRGMXR6UTFjbTNnS2FvZVl1a2NybkVCMXAuU2V5SjBJam9pWkcwaUxDSnpJanA3SW5WeWFTSTZJbmR6T2k4dmJHOWpZV3hvYjNOME9qZzNOalVpTENKaElqcGJJbVJwWkdOdmJXMHZkaklpWFN3aWNpSTZXMTE5ZlEja2V5LTIifQ', ciphertext=b'TWN\\x8a|S\\'\\x1d\\xb0\\x9a\\xe4\\x02\\xb5U\\xf8\\xcb=\\xf1\\x13\\xba2\\x00\\xa5\\xd9N\\x08\\x8a\\x05Q\\xc7\\x82\\xfd?\\x88\\xde\\x92\\x98\\x96]\\xa8\\x02qX&\\xea\\x17@\\xda[\\xfeS\\x8e}8\\x97\\x97\\x1cPZo.Q\\xd0\\x8d\\xf4\\xaf\\x10\\x88\\xfe\\xdfM\\xe8\\x93o\\x82\\xd7p\\xa1+\\xf5\\xe9\\xdd\\xec\\x94\\x82#\\xb3\\x8e\\x03\\xc5-\\xde\\xc7.\\xcfDf\\xd6\\xd2)\\xe6\\x15\\xa5\\x8caT\\xb2V\\xf3yD\\xddV\\nC\\x05L\\xa1\\x87\\xf2\\x9c\\xad\\x1aW\\xbd\\x9d\\x00\\xcd`\\x19P\\xef\\x0f9\\xb1\\xa0z\\xb3v\\x07\\xa4\\x0b\\xeai\\xd0 <H%\\\\\\xc0\\x10\\x17\"G\\x93\\xe01D#1\\x92\\xc8\\xaa\\x12\\xb3u\\xc9.\\x8a\\xcb\\xca\\x9bK\\xc9PI\\xe6\\xc3\\r\\xa9>\\xd9NN(\\x9f\\x9b\\xf5\\x9c<\\x85\\x16\\xc6}\\xa4\\n\\xc4\\xb9\\x8fC\\'\\x9bt\\xa7\\xf8\\xa0\\x8e\\x08\\xdf\\xf1\\xf5|\\x83,1\\xecE\\x93<\\xc5}~\\xbb\\x16\\xfd\\xafR\\xb57\"n\\x7fq\\xf0D\\x1a\\xa6\\xee\\x07pcN\\x9f\\x87*\\xe1/\\x17\\xdd\\xe9\\xa9z\\xf5\\xb0\\x127\\x857C\\xc7>\\xd4\\nx\\x91\\x95\\xd5\\xe1\\x13\\xdb\\xf8\\xe13(2\\x96NN{4\\'P\\xedc\\x0e\\xadXBT\\x94\\xb6\\x0e\\xa3\\xa5\\xb0\\xa4\\x83Ez\\x17Q\\xa4\\xe1_\\xb4}\\x8f{\\x04\\xda\\xc0`X\\xe9 \\x1cJ\\xa3K?\\xcd\\xcet\\x97@\\xab;t\\x91\\x15|\\xba\\xa4\\xcfa\\xbc\\xc9\\x9b%+\\x1cwul\\x07v3!Xu+*\\xfc\\xba\\xe2\\xfd\\x1b\\xca\\xd2\\x00\\xbfP\\xd3\\\\\\xe2\\x91/\\x8d\\xa2N\\xe7\\xab\\xba\\x0c\\xf3\\x94;\\xce\\xcb,\\x9f\\xd2\\xa3\\x14\\xb8Iv\\xda\\xbd\\xc2\\xf9\\x85\\xc8\\xa8^\\xe1\\xd8\\xc2\\xc5\\x9f^7M\\x97\\x92U\\xe6\\x8a\\x13\\xd8\\xba\\xd8xR\\xe6\\xa4ZF\\xd5\\x83R?\\xc9\\xab\\x1c\\x8a\\xf4\\xe7\\x91%\\xe2|D8h\\x8d\\r\\xc3\\xd8\\x1b&\\xb6\\x04\\xdbq?\\xc4\\x97\\x80\\xff\\x93\\xd5I~\\x1f\\xa4\\xdbu\\x9b\\xee1j\\x9bi\\xad\\xc9[)r\\x8a\\x0e\\x8e\\n\\xf4\\x1eUP\\xde\\x86\\xae3\\xf0\\xd8K\\xbf\\x1c\\x9e>\\x8e\\xe6O\\x931\\x02\\xe9\\xdcD\\xac\\x0ez\\x1a\\xc0\\xbeS\\x80\\x81.\\xb5#`\\\\\\xa4\\xdf\\xedb\\x85\\xb6\\r\\xe5\\xea\\xab\\xb5O\\xb9)\\xbc9\\xe3%\\xd1\\xa3\\xa6\\x9b\\xa9\\x8d\\\\\\x02t\\x9c\\xdb\\x02c\\xd0ee6\\xa1q\\x85\\xb6\\xda\\x0b\\tUsz\\x04\\x833', iv=b'\\xa2\\xe5i\\xb1mA\\xe1\\x9e\\x8eH\\x04)\\x199d\\x7f', tag=b'\\xf0\\x98\\x04\\x17U\\x14\\xd0\\x9c\\xd2\\xb1\\xfb\\x95\\xcb\\x84\\xed\\x8fZ\\xda$@\\x7f\"_Wk\\xab\\xc6\\x1c\\x8a\\x19\\xba\\x7f', aad=None, unprotected={}, with_protected_recipients=False, with_flatten_recipients=False), method='ECDH-1PU', recip_key=<didcomm_messaging.crypto.backend.askar.AskarSecretKey object at 0x7648a1a76150>, sender_kid='did:peer:2.Vz6MksvTpc5zbWrfdZCo3NyjABQQUDqC7yksyBk7PYmCqQ74i.Ez6LSgRMYHNDvqr93XiBp5qNtF1tzQ1cm3gKaoeYukcrnEB1p.SeyJ0IjoiZG0iLCJzIjp7InVyaSI6IndzOi8vbG9jYWxob3N0Ojg3NjUiLCJhIjpbImRpZGNvbW0vdjIiXSwiciI6W119fQ#key-2'))\n",
      "Client connected\n",
      "Received: b'{\"protected\": \"eyJ0eXAiOiAiYXBwbGljYXRpb24vZGlkY29tbStlbmNyeXB0ZWQiLCAiYWxnIjogIkVDREgtMVBVK0EyNTZLVyIsICJlbmMiOiAiQTI1NkNCQy1IUzUxMiIsICJhcHUiOiAiWkdsa09uQmxaWEk2TWk1V2VqWk5hM04yVkhCak5YcGlWM0ptWkZwRGJ6Tk9lV3BCUWxGUlZVUnhRemQ1YTNONVFtczNVRmx0UTNGUk56UnBMa1Y2Tmt4VFoxSk5XVWhPUkhaeGNqa3pXR2xDY0RWeFRuUkdNWFI2VVRGamJUTm5TMkZ2WlZsMWEyTnlia1ZDTVhBdVUyVjVTakJKYW05cFdrY3dhVXhEU25wSmFuQTNTVzVXZVdGVFNUWkpibVI2VDJrNGRtSkhPV3BaVjNodllqTk9NRTlxWnpOT2FsVnBURU5LYUVscWNHSkpiVkp3V2tkT2RtSlhNSFprYWtscFdGTjNhV05wU1RaWE1URTVabEVqYTJWNUxUSSIsICJhcHYiOiAiUTZSTG1vOHVrNHV0V3lkZXpIdnJrdWo4OUZPbDZIbDJNUjBka1ZoTHN0RSIsICJlcGsiOiB7ImNydiI6ICJYMjU1MTkiLCAia3R5IjogIk9LUCIsICJ4IjogImNkVGhsLXp0ZUliMWtjYktoMUxZUUVHUkN4a01iQXJWQVVxRHdCR0hFRm8ifSwgInNraWQiOiAiZGlkOnBlZXI6Mi5WejZNa3N2VHBjNXpiV3JmZFpDbzNOeWpBQlFRVURxQzd5a3N5Qms3UFltQ3FRNzRpLkV6NkxTZ1JNWUhORHZxcjkzWGlCcDVxTnRGMXR6UTFjbTNnS2FvZVl1a2NybkVCMXAuU2V5SjBJam9pWkcwaUxDSnpJanA3SW5WeWFTSTZJbmR6T2k4dmJHOWpZV3hvYjNOME9qZzNOalVpTENKaElqcGJJbVJwWkdOdmJXMHZkaklpWFN3aWNpSTZXMTE5ZlEja2V5LTIifQ\", \"recipients\": [{\"encrypted_key\": \"Z_yeZqE1M5ouykEiteN_Hhg_FCn7lHJP_AOiBAzeyaUZZk--9CLOKu-fs28oeztNuWu5KG7ZP2tCiYilIVH67O-kDP16JTYm\", \"header\": {\"kid\": \"did:peer:2.Vz6Mkskipyoo2GKrzaHhCLvJFT6YcUQqL5g37YTMjmXHLXWuw.Ez6LSnEHXZ79YBBdcYtC9xEFj5uR2Jhej1323XqpNJwqnJ7b3.SeyJ0IjoiZG0iLCJzIjp7InVyaSI6IndzOi8vbG9jYWxob3N0Ojg3NjYiLCJhIjpbImRpZGNvbW0vdjIiXSwiciI6W119fQ#key-2\"}}], \"iv\": \"P1a6jXZL415OG7aG7FukCg\", \"ciphertext\": \"CRZxz6N5zs1GvB0Mh47T_NszaymeU43EXZgAA08htqhX5VIc5HWrWQ67Q3EINF9haqIBSXp30yXQCPrtzNXsh9uL8tw8zDGfp--7r24_TbP5fx5Xhub2x3ARa5HmfJxkcwQh80-TObjwISvQVyE6JBNQvx_-jTP9aibcLASpgLeDxeWdwIVsCwiulBpkUdNceiW0In555QrlKR4Q0yf3Mk-GzvfNXkLjq3cX6zvwxIicT3RWg-B2w6bAxOlMKPDM2ivojfyGEMQMcsn4zImBqOVWUurbTbQJlB34ol5R6VuLKXuUfTk-RTu27Rodfrgyhu3B0b3xAh6x7Fp9a85iloxvHmka1jBB1kx3jruB6B8GJeTaiBQCZUcRbCLNI-785Os_mYjPlDq_RUYNIUgij3-PNEwu9kr1ZdohlhvBsT0XHhHL-P6LjTifTFCBtWKUGtA9JzOCqd3CRETj1tbcONDRQwOopoP4Mc4tunKsjz_crX5UKjfFWtZFQ1wFNQ5_wE_ASSnLQxfQo29s-ffQ2uT-aJOzWP1zaFvXUPEbou3c3Js90N4PMtUiZNE797XHo6S9DxGDMk-BJIJiNxdGZToxgz18kDoC4QEx_Xmg4uvsRlb08qzmIgUdQyXoMaiXcMKw0l2HnGfm-qYcnqyWaV_i0EblFGPkD8EHE5yqC752SGn13HW144fMLdkwGZsIL8Bh6t-yML8kT9atooBXZypWQ0OVvhOAYuoNVs7QdHBAhTJaLWK6cG8NRsBEWtFzlqmVLY9uZK301GmWEiH-Hej4VE-SvC0SkD-BCZm-MIM\", \"tag\": \"2IdRf2dpeOoExB0KpkTGv5iSITrGxh3YTwzEi2hXPgc\"}'\n",
      "Unpacked Message : (b'{\"type\": \"https://didcomm.org/musig2/keygen/new_cohort\", \"id\": \"c005a99f-093e-4597-ab5c-dee23fe174e3\", \"thread_id\": \"5d51fed4-1e48-4da1-a495-0296dd73167e\", \"body\": {}, \"from\": \"did:peer:2.Vz6MksvTpc5zbWrfdZCo3NyjABQQUDqC7yksyBk7PYmCqQ74i.Ez6LSgRMYHNDvqr93XiBp5qNtF1tzQ1cm3gKaoeYukcrnEB1p.SeyJ0IjoiZG0iLCJzIjp7InVyaSI6IndzOi8vbG9jYWxob3N0Ojg3NjUiLCJhIjpbImRpZGNvbW0vdjIiXSwiciI6W119fQ\", \"to\": [\"did:peer:2.Vz6Mkskipyoo2GKrzaHhCLvJFT6YcUQqL5g37YTMjmXHLXWuw.Ez6LSnEHXZ79YBBdcYtC9xEFj5uR2Jhej1323XqpNJwqnJ7b3.SeyJ0IjoiZG0iLCJzIjp7InVyaSI6IndzOi8vbG9jYWxob3N0Ojg3NjYiLCJhIjpbImRpZGNvbW0vdjIiXSwiciI6W119fQ\"]}', PackedMessageMetadata(wrapper=JweEnvelope(recipients=[<didcomm_messaging.crypto.jwe.JweRecipient object at 0x7648a0fcbe00>], protected={'typ': 'application/didcomm+encrypted', 'alg': 'ECDH-1PU+A256KW', 'enc': 'A256CBC-HS512', 'apu': 'ZGlkOnBlZXI6Mi5WejZNa3N2VHBjNXpiV3JmZFpDbzNOeWpBQlFRVURxQzd5a3N5Qms3UFltQ3FRNzRpLkV6NkxTZ1JNWUhORHZxcjkzWGlCcDVxTnRGMXR6UTFjbTNnS2FvZVl1a2NybkVCMXAuU2V5SjBJam9pWkcwaUxDSnpJanA3SW5WeWFTSTZJbmR6T2k4dmJHOWpZV3hvYjNOME9qZzNOalVpTENKaElqcGJJbVJwWkdOdmJXMHZkaklpWFN3aWNpSTZXMTE5ZlEja2V5LTI', 'apv': 'Q6RLmo8uk4utWydezHvrkuj89FOl6Hl2MR0dkVhLstE', 'epk': {'crv': 'X25519', 'kty': 'OKP', 'x': 'cdThl-zteIb1kcbKh1LYQEGRCxkMbArVAUqDwBGHEFo'}, 'skid': 'did:peer:2.Vz6MksvTpc5zbWrfdZCo3NyjABQQUDqC7yksyBk7PYmCqQ74i.Ez6LSgRMYHNDvqr93XiBp5qNtF1tzQ1cm3gKaoeYukcrnEB1p.SeyJ0IjoiZG0iLCJzIjp7InVyaSI6IndzOi8vbG9jYWxob3N0Ojg3NjUiLCJhIjpbImRpZGNvbW0vdjIiXSwiciI6W119fQ#key-2'}, protected_b64='eyJ0eXAiOiAiYXBwbGljYXRpb24vZGlkY29tbStlbmNyeXB0ZWQiLCAiYWxnIjogIkVDREgtMVBVK0EyNTZLVyIsICJlbmMiOiAiQTI1NkNCQy1IUzUxMiIsICJhcHUiOiAiWkdsa09uQmxaWEk2TWk1V2VqWk5hM04yVkhCak5YcGlWM0ptWkZwRGJ6Tk9lV3BCUWxGUlZVUnhRemQ1YTNONVFtczNVRmx0UTNGUk56UnBMa1Y2Tmt4VFoxSk5XVWhPUkhaeGNqa3pXR2xDY0RWeFRuUkdNWFI2VVRGamJUTm5TMkZ2WlZsMWEyTnlia1ZDTVhBdVUyVjVTakJKYW05cFdrY3dhVXhEU25wSmFuQTNTVzVXZVdGVFNUWkpibVI2VDJrNGRtSkhPV3BaVjNodllqTk9NRTlxWnpOT2FsVnBURU5LYUVscWNHSkpiVkp3V2tkT2RtSlhNSFprYWtscFdGTjNhV05wU1RaWE1URTVabEVqYTJWNUxUSSIsICJhcHYiOiAiUTZSTG1vOHVrNHV0V3lkZXpIdnJrdWo4OUZPbDZIbDJNUjBka1ZoTHN0RSIsICJlcGsiOiB7ImNydiI6ICJYMjU1MTkiLCAia3R5IjogIk9LUCIsICJ4IjogImNkVGhsLXp0ZUliMWtjYktoMUxZUUVHUkN4a01iQXJWQVVxRHdCR0hFRm8ifSwgInNraWQiOiAiZGlkOnBlZXI6Mi5WejZNa3N2VHBjNXpiV3JmZFpDbzNOeWpBQlFRVURxQzd5a3N5Qms3UFltQ3FRNzRpLkV6NkxTZ1JNWUhORHZxcjkzWGlCcDVxTnRGMXR6UTFjbTNnS2FvZVl1a2NybkVCMXAuU2V5SjBJam9pWkcwaUxDSnpJanA3SW5WeWFTSTZJbmR6T2k4dmJHOWpZV3hvYjNOME9qZzNOalVpTENKaElqcGJJbVJwWkdOdmJXMHZkaklpWFN3aWNpSTZXMTE5ZlEja2V5LTIifQ', ciphertext=b'\\t\\x16q\\xcf\\xa3y\\xce\\xcdF\\xbc\\x1d\\x0c\\x87\\x8e\\xd3\\xfc\\xdb3k)\\x9eS\\x8d\\xc4]\\x98\\x00\\x03O!\\xb6\\xa8W\\xe5R\\x1c\\xe4u\\xabY\\x0e\\xbbCq\\x084_aj\\xa2\\x01Izw\\xd3%\\xd0\\x08\\xfa\\xed\\xcc\\xd5\\xec\\x87\\xdb\\x8b\\xf2\\xdc<\\xcc1\\x9f\\xa7\\xef\\xbb\\xafn?M\\xb3\\xf9\\x7f\\x1eW\\x86\\xe6\\xf6\\xc7p\\x11k\\x91\\xe6|\\x9cds\\x04!\\xf3O\\x939\\xb8\\xf0!+\\xd0W!:$\\x13P\\xbf\\x1f\\xfe\\x8d3\\xfdj&\\xdc,\\x04\\xa9\\x80\\xb7\\x83\\xc5\\xe5\\x9d\\xc0\\x85l\\x0b\\x08\\xae\\x94\\x1adQ\\xd3\\\\z%\\xb4\"~y\\xe5\\n\\xe5)\\x1e\\x10\\xd3\\'\\xf72O\\x86\\xce\\xf7\\xcd^B\\xe3\\xabw\\x17\\xeb;\\xf0\\xc4\\x88\\x9cOtV\\x83\\xe0v\\xc3\\xa6\\xc0\\xc4\\xe9L(\\xf0\\xcc\\xda+\\xe8\\x8d\\xfc\\x86\\x10\\xc4\\x0cr\\xc9\\xf8\\xcc\\x89\\x81\\xa8\\xe5VR\\xea\\xdbM\\xb4\\t\\x94\\x1d\\xf8\\xa2^Q\\xe9[\\x8b){\\x94}9>E;\\xb6\\xed\\x1a\\x1d~\\xb82\\x86\\xed\\xc1\\xd1\\xbd\\xf1\\x02\\x1e\\xb1\\xecZ}k\\xceb\\x96\\x8co\\x1ei\\x1a\\xd60A\\xd6Lw\\x8e\\xbb\\x81\\xe8\\x1f\\x06%\\xe4\\xda\\x88\\x14\\x02eG\\x11l\"\\xcd#\\xee\\xfc\\xe4\\xeb?\\x99\\x88\\xcf\\x94:\\xbfEF\\r!H\"\\x8f\\x7f\\x8f4L.\\xf6J\\xf5e\\xda!\\x96\\x1b\\xc1\\xb1=\\x17\\x1e\\x11\\xcb\\xf8\\xfe\\x8b\\x8d8\\x9fLP\\x81\\xb5b\\x94\\x1a\\xd0=\\'3\\x82\\xa9\\xdd\\xc2DD\\xe3\\xd6\\xd6\\xdc8\\xd0\\xd1C\\x03\\xa8\\xa6\\x83\\xf81\\xce-\\xbar\\xac\\x8f?\\xdc\\xad~T*7\\xc5Z\\xd6EC\\\\\\x055\\x0e\\x7f\\xc0O\\xc0I)\\xcbC\\x17\\xd0\\xa3ol\\xf9\\xf7\\xd0\\xda\\xe4\\xfeh\\x93\\xb3X\\xfdsh[\\xd7P\\xf1\\x1b\\xa2\\xed\\xdc\\xdc\\x9b=\\xd0\\xde\\x0f2\\xd5\"d\\xd1;\\xf7\\xb5\\xc7\\xa3\\xa4\\xbd\\x0f\\x11\\x832O\\x81$\\x82b7\\x17Fe:1\\x83=|\\x90:\\x02\\xe1\\x011\\xfdy\\xa0\\xe2\\xeb\\xecFV\\xf4\\xf2\\xac\\xe6\"\\x05\\x1dC%\\xe81\\xa8\\x97p\\xc2\\xb0\\xd2]\\x87\\x9cg\\xe6\\xfa\\xa6\\x1c\\x9e\\xac\\x96i_\\xe2\\xd0F\\xe5\\x14c\\xe4\\x0f\\xc1\\x07\\x13\\x9c\\xaa\\x0b\\xbevHi\\xf5\\xdcu\\xb5\\xe3\\x87\\xcc-\\xd90\\x19\\x9b\\x08/\\xc0a\\xea\\xdf\\xb20\\xbf$O\\xd6\\xad\\xa2\\x80Wg*VCC\\x95\\xbe\\x13\\x80b\\xea\\rV\\xce\\xd0tp@\\x852Z-b\\xbapo\\rF\\xc0DZ\\xd1s\\x96\\xa9\\x95-\\x8fnd\\xad\\xf4\\xd4i\\x96\\x12!\\xfe\\x1d\\xe8\\xf8TO\\x92\\xbc-\\x12\\x90?\\x81\\t\\x99\\xbe0\\x83', iv=b'?V\\xba\\x8dvK\\xe3^N\\x1b\\xb6\\x86\\xec[\\xa4\\n', tag=b'\\xd8\\x87Q\\x7fgix\\xea\\x04\\xc4\\x1d\\n\\xa6D\\xc6\\xbf\\x98\\x92!:\\xc6\\xc6\\x1d\\xd8O\\x0c\\xc4\\x8bhW>\\x07', aad=None, unprotected={}, with_protected_recipients=False, with_flatten_recipients=False), method='ECDH-1PU', recip_key=<didcomm_messaging.crypto.backend.askar.AskarSecretKey object at 0x7648a1a76150>, sender_kid='did:peer:2.Vz6MksvTpc5zbWrfdZCo3NyjABQQUDqC7yksyBk7PYmCqQ74i.Ez6LSgRMYHNDvqr93XiBp5qNtF1tzQ1cm3gKaoeYukcrnEB1p.SeyJ0IjoiZG0iLCJzIjp7InVyaSI6IndzOi8vbG9jYWxob3N0Ojg3NjUiLCJhIjpbImRpZGNvbW0vdjIiXSwiciI6W119fQ#key-2'))\n"
     ]
    }
   ],
   "source": [
    "asyncio.create_task(run_websocket())"
   ]
  },
  {
   "cell_type": "code",
   "execution_count": null,
   "id": "8e805e9b-b514-4857-bc33-5f0c483490b6",
   "metadata": {},
   "outputs": [],
   "source": []
  },
  {
   "cell_type": "markdown",
   "id": "d56bfe94-4414-4284-909b-82275f6e003e",
   "metadata": {},
   "source": [
    "# Get Coordinator DID\n",
    "\n",
    "How this happens is out of band. "
   ]
  },
  {
   "cell_type": "code",
   "execution_count": 11,
   "id": "87699b28-549f-42bf-9771-16aecb92c028",
   "metadata": {},
   "outputs": [],
   "source": [
    "coordinator_did='did:peer:2.Vz6MksvTpc5zbWrfdZCo3NyjABQQUDqC7yksyBk7PYmCqQ74i.Ez6LSgRMYHNDvqr93XiBp5qNtF1tzQ1cm3gKaoeYukcrnEB1p.SeyJ0IjoiZG0iLCJzIjp7InVyaSI6IndzOi8vbG9jYWxob3N0Ojg3NjUiLCJhIjpbImRpZGNvbW0vdjIiXSwiciI6W119fQ'\n"
   ]
  },
  {
   "cell_type": "markdown",
   "id": "cb33a27b-c3b3-469d-a690-be304ccf35b7",
   "metadata": {},
   "source": [
    "# Subscribe to MuSig2 Coordinator"
   ]
  },
  {
   "cell_type": "code",
   "execution_count": 12,
   "id": "ceeaf47c-ef3f-4fd2-90d0-3078118571fc",
   "metadata": {},
   "outputs": [],
   "source": [
    "import uuid\n",
    "message = {\n",
    "        \"type\": \"https://didcomm.org/musig2/subscribe\",\n",
    "        \"id\": str(uuid.uuid4()),\n",
    "        \"body\": {},\n",
    "        \"from\": did,\n",
    "        \"to\": coordinator_did,\n",
    "}"
   ]
  },
  {
   "cell_type": "code",
   "execution_count": 13,
   "id": "c4a7408a-2bc3-4194-8d2e-10bb2e48f694",
   "metadata": {},
   "outputs": [],
   "source": [
    "packy = await dmp.pack(\n",
    "    message=message,\n",
    "    to=coordinator_did,\n",
    "    frm=did,\n",
    ")\n",
    "packed = packy.message    "
   ]
  },
  {
   "cell_type": "code",
   "execution_count": 14,
   "id": "98feaf28-bf67-41f4-a9a3-4ce08aa036c7",
   "metadata": {},
   "outputs": [
    {
     "data": {
      "text/plain": [
       "[{'encrypted_key': 'HbMC8Y01xiedCinz5aovWCwvOHqg1AYkjvzhcCYdcsaWV34SscHQiG6VISnxfuaQFvpNa-KrSp4xtb_4ctfYREpmAsz6fCSe',\n",
       "  'header': {'kid': 'did:peer:2.Vz6MksvTpc5zbWrfdZCo3NyjABQQUDqC7yksyBk7PYmCqQ74i.Ez6LSgRMYHNDvqr93XiBp5qNtF1tzQ1cm3gKaoeYukcrnEB1p.SeyJ0IjoiZG0iLCJzIjp7InVyaSI6IndzOi8vbG9jYWxob3N0Ojg3NjUiLCJhIjpbImRpZGNvbW0vdjIiXSwiciI6W119fQ#key-2'}}]"
      ]
     },
     "execution_count": 14,
     "metadata": {},
     "output_type": "execute_result"
    }
   ],
   "source": [
    "json.loads(packed)[\"recipients\"]"
   ]
  },
  {
   "cell_type": "code",
   "execution_count": 15,
   "id": "532be48f-bb2e-47f6-9c29-3671c2879b93",
   "metadata": {},
   "outputs": [
    {
     "data": {
      "text/plain": [
       "{'protected': 'eyJ0eXAiOiAiYXBwbGljYXRpb24vZGlkY29tbStlbmNyeXB0ZWQiLCAiYWxnIjogIkVDREgtMVBVK0EyNTZLVyIsICJlbmMiOiAiQTI1NkNCQy1IUzUxMiIsICJhcHUiOiAiWkdsa09uQmxaWEk2TWk1V2VqWk5hM05yYVhCNWIyOHlSMHR5ZW1GSWFFTk1ka3BHVkRaWlkxVlJjVXcxWnpNM1dWUk5hbTFZU0V4WVYzVjNMa1Y2Tmt4VGJrVklXRm8zT1ZsQ1FtUmpXWFJET1hoRlJtbzFkVkl5U21obGFqRXpNak5ZY1hCT1NuZHhia28zWWpNdVUyVjVTakJKYW05cFdrY3dhVXhEU25wSmFuQTNTVzVXZVdGVFNUWkpibVI2VDJrNGRtSkhPV3BaVjNodllqTk9NRTlxWnpOT2FsbHBURU5LYUVscWNHSkpiVkp3V2tkT2RtSlhNSFprYWtscFdGTjNhV05wU1RaWE1URTVabEVqYTJWNUxUSSIsICJhcHYiOiAiN1B2cUNRS0pvbDQwN3pwLW5jeHBKSTZvZmNoQkxBeGJFVVhYSl9COHJEdyIsICJlcGsiOiB7ImNydiI6ICJYMjU1MTkiLCAia3R5IjogIk9LUCIsICJ4IjogIktYUEFEZFZzNWs1LXNtUFNscHFkT2N1M0FKTzFxanN3eE5OUTNYdUc2aFkifSwgInNraWQiOiAiZGlkOnBlZXI6Mi5WejZNa3NraXB5b28yR0tyemFIaENMdkpGVDZZY1VRcUw1ZzM3WVRNam1YSExYV3V3LkV6NkxTbkVIWFo3OVlCQmRjWXRDOXhFRmo1dVIySmhlajEzMjNYcXBOSndxbko3YjMuU2V5SjBJam9pWkcwaUxDSnpJanA3SW5WeWFTSTZJbmR6T2k4dmJHOWpZV3hvYjNOME9qZzNOallpTENKaElqcGJJbVJwWkdOdmJXMHZkaklpWFN3aWNpSTZXMTE5ZlEja2V5LTIifQ',\n",
       " 'recipients': [{'encrypted_key': 'HbMC8Y01xiedCinz5aovWCwvOHqg1AYkjvzhcCYdcsaWV34SscHQiG6VISnxfuaQFvpNa-KrSp4xtb_4ctfYREpmAsz6fCSe',\n",
       "   'header': {'kid': 'did:peer:2.Vz6MksvTpc5zbWrfdZCo3NyjABQQUDqC7yksyBk7PYmCqQ74i.Ez6LSgRMYHNDvqr93XiBp5qNtF1tzQ1cm3gKaoeYukcrnEB1p.SeyJ0IjoiZG0iLCJzIjp7InVyaSI6IndzOi8vbG9jYWxob3N0Ojg3NjUiLCJhIjpbImRpZGNvbW0vdjIiXSwiciI6W119fQ#key-2'}}],\n",
       " 'iv': 'cttkIYRky-QGcIOOxHrp0A',\n",
       " 'ciphertext': 'sTfhWGT_NpQL6iMSxR9vTNBKvsOLFnqTZlCgkwaxjRW7brUVe22NsPRiBc0K0D0CdNkaafvXQjM5iyBm0FvMoqITyZReV4_xY_F3SOiaFhLO3jfmhsY9TCYHck_jbXjHlM0BH-5CRKzZ-h7MHU60ZwA6H2qHmAdPf7Fh3bnhLN8JwEp-paZfa6cJiY3JooEXrZ-7_zre2QQty9Kbqx46cm-bibF2oXAP8qgD0x3q5ZY_ERZLUQjo31WWCGa7xr9hdRLlSwP9JrOXn8LgKvsm8gG96CVXRh1lI1DmW9nOzOqtJcQfSIDkqNHRyaOOnhF2aCWyOvXvvaJheDQ9wIK3BDg3ADAQSl3Fl7Y53VHa946yUx25BDIradJlfGErkDN_tIagYWbtn1s5VgOtHHFyExwSHflmHIBZW5eJz6dMRqxrLrkBryXhz_286bfAt7moq9MWSjwVAQaOFechLAi-lzgeXzKPYXaadIPSu2-ZTaeazr1nDlZYcpbeTGZK4ziCOiM1mWXjfiwjJ-TlHOEiVvSrYmsjXXDzGs0lHDN7GuZwAyPXI4GWAng1eoqFDXi7AKm-y3oRMDQBQX3tDvkG60dB-K4tAIESd_Sg1z-Z2ymHnR2fLZLBdXISxBsOjVDqIJR2bVOt_-Opv0Gqv3j8J3Yz1qp_rC2MufgKKeg4KINLX01zOdvz5iYXfjkwoZmdhlDS8HqJS7dIHaF5xNpViw',\n",
       " 'tag': '_q_sHSLFci66LfAk_V8-EYXeQUPLZVpdMzdZ3vU_NDo'}"
      ]
     },
     "execution_count": 15,
     "metadata": {},
     "output_type": "execute_result"
    }
   ],
   "source": [
    "json.loads(packed)"
   ]
  },
  {
   "cell_type": "code",
   "execution_count": 16,
   "id": "a7858f60-a4a6-4da2-936e-7ef0a004c5a9",
   "metadata": {},
   "outputs": [
    {
     "data": {
      "text/plain": [
       "<Task pending name='Task-10' coro=<send_message() running at /tmp/ipykernel_9483/1218273840.py:1>>"
      ]
     },
     "execution_count": 16,
     "metadata": {},
     "output_type": "execute_result"
    },
    {
     "name": "stdout",
     "output_type": "stream",
     "text": [
      "Sending message: b'{\"protected\": \"eyJ0eXAiOiAiYXBwbGljYXRpb24vZGlkY29tbStlbmNyeXB0ZWQiLCAiYWxnIjogIkVDREgtMVBVK0EyNTZLVyIsICJlbmMiOiAiQTI1NkNCQy1IUzUxMiIsICJhcHUiOiAiWkdsa09uQmxaWEk2TWk1V2VqWk5hM05yYVhCNWIyOHlSMHR5ZW1GSWFFTk1ka3BHVkRaWlkxVlJjVXcxWnpNM1dWUk5hbTFZU0V4WVYzVjNMa1Y2Tmt4VGJrVklXRm8zT1ZsQ1FtUmpXWFJET1hoRlJtbzFkVkl5U21obGFqRXpNak5ZY1hCT1NuZHhia28zWWpNdVUyVjVTakJKYW05cFdrY3dhVXhEU25wSmFuQTNTVzVXZVdGVFNUWkpibVI2VDJrNGRtSkhPV3BaVjNodllqTk9NRTlxWnpOT2FsbHBURU5LYUVscWNHSkpiVkp3V2tkT2RtSlhNSFprYWtscFdGTjNhV05wU1RaWE1URTVabEVqYTJWNUxUSSIsICJhcHYiOiAiN1B2cUNRS0pvbDQwN3pwLW5jeHBKSTZvZmNoQkxBeGJFVVhYSl9COHJEdyIsICJlcGsiOiB7ImNydiI6ICJYMjU1MTkiLCAia3R5IjogIk9LUCIsICJ4IjogIm5ESUQyaUQzUTNjNDBVOVV1VVlLZUh3aWZ0aC1yenY2NjFPeERYNTVRMGsifSwgInNraWQiOiAiZGlkOnBlZXI6Mi5WejZNa3NraXB5b28yR0tyemFIaENMdkpGVDZZY1VRcUw1ZzM3WVRNam1YSExYV3V3LkV6NkxTbkVIWFo3OVlCQmRjWXRDOXhFRmo1dVIySmhlajEzMjNYcXBOSndxbko3YjMuU2V5SjBJam9pWkcwaUxDSnpJanA3SW5WeWFTSTZJbmR6T2k4dmJHOWpZV3hvYjNOME9qZzNOallpTENKaElqcGJJbVJwWkdOdmJXMHZkaklpWFN3aWNpSTZXMTE5ZlEja2V5LTIifQ\", \"recipients\": [{\"encrypted_key\": \"A-PtbzoNith_p1PhkS6l9bSgjS8kP66ONEwO_lyUdkyx_SfKbavV7wPt3ZJWju3P2sBgFuBTnJYkHPjQ0zKCAHkCtQ1W221I\", \"header\": {\"kid\": \"did:peer:2.Vz6MksvTpc5zbWrfdZCo3NyjABQQUDqC7yksyBk7PYmCqQ74i.Ez6LSgRMYHNDvqr93XiBp5qNtF1tzQ1cm3gKaoeYukcrnEB1p.SeyJ0IjoiZG0iLCJzIjp7InVyaSI6IndzOi8vbG9jYWxob3N0Ojg3NjUiLCJhIjpbImRpZGNvbW0vdjIiXSwiciI6W119fQ#key-2\"}}], \"iv\": \"zzga5G5SR0We-N_-PjIjHQ\", \"ciphertext\": \"rnicOejy4KQgYaqOq3k-EWV6kUczIOgRWXq97H1nSSjkt7AnbhDIL89h4DF_ATPWAqAHJcqcyI3HcpQwzfmosx4kUMgQV0o6aDaVty3wUUDP6_fSRYWftM8ZipvbDY0uSZXQkdvSSxw29K_yjUtEJlUOsVxBbAEnODzBDUwHgpJ-RfVePLhTLWCSG-Zx57GarmozR9gZ4i8Zzs-jU1xxah3-z3okWOu6PDXfDZwCI0TQPDx1-4ZeiDx25I5OJayYrTSKg7AiH_Suy_SpMiLpElMm5jC5bgVPvcNOIN4B9geHRhd3iXTNjzZL_GIrWpYHtNGEIwymOh4Q1Zhz97-n-0-XTmeqEdlbIrnGoS8Er3xkbAOCwjOs3AU3gVKUoy7lGE8Qd0rZKwYeBUzG6UwvaY3l_KZBSFN50obUSAmube95yqA1OB6K0EJL-MwvnhAsAdskXIWc7AOoKWChpEUXFqOWo6gR6ot6AuuiH6g8CFF7r33bwFmHUo0h_xCapvrJK98xhmxPHzFWvdiE7F9GntOrRRmo6t8PXTepVHOKAX9fGooHlhQlMuwtzvWcdk2-Bg6YrAzmTF6m8sYcH3N0AuSCILEFPLE7NG_0gbyLNNms5ow6dxc4xhvlz83AFIv98mqCD6JfITz4CZMtwF1jwLUfDHXtBSerTHpln_Ld8hEqKNhyeIb_XOu4Mdxk6-Kvw4ynOJg1iRT7b-RweoblCg\", \"tag\": \"eOgtMcB5ekMGX0K3dIytFnuDq9sbM7-HbBXfUdrFUtM\"}'\n"
     ]
    }
   ],
   "source": [
    "asyncio.create_task(send_message(message, coordinator_did, did))"
   ]
  },
  {
   "cell_type": "markdown",
   "id": "3b19cc58-392a-4259-9e37-89d0a13e63f3",
   "metadata": {},
   "source": [
    "# Process inbox for Subscription Acknowledgement"
   ]
  },
  {
   "cell_type": "code",
   "execution_count": 17,
   "id": "90fd8b60-e1b0-4da9-8296-d8c11a780d20",
   "metadata": {},
   "outputs": [
    {
     "data": {
      "text/plain": [
       "[{'type': 'https://didcomm.org/musig2/subscribe/accept',\n",
       "  'id': '6ba57cc3-55e2-47fd-b5e4-42189ce85857',\n",
       "  'body': {},\n",
       "  'from': 'did:peer:2.Vz6MksvTpc5zbWrfdZCo3NyjABQQUDqC7yksyBk7PYmCqQ74i.Ez6LSgRMYHNDvqr93XiBp5qNtF1tzQ1cm3gKaoeYukcrnEB1p.SeyJ0IjoiZG0iLCJzIjp7InVyaSI6IndzOi8vbG9jYWxob3N0Ojg3NjUiLCJhIjpbImRpZGNvbW0vdjIiXSwiciI6W119fQ',\n",
       "  'to': 'did:peer:2.Vz6Mkskipyoo2GKrzaHhCLvJFT6YcUQqL5g37YTMjmXHLXWuw.Ez6LSnEHXZ79YBBdcYtC9xEFj5uR2Jhej1323XqpNJwqnJ7b3.SeyJ0IjoiZG0iLCJzIjp7InVyaSI6IndzOi8vbG9jYWxob3N0Ojg3NjYiLCJhIjpbImRpZGNvbW0vdjIiXSwiciI6W119fQ'}]"
      ]
     },
     "execution_count": 17,
     "metadata": {},
     "output_type": "execute_result"
    }
   ],
   "source": [
    "inbox"
   ]
  },
  {
   "cell_type": "code",
   "execution_count": 18,
   "id": "6ee4ccb7-87b3-48db-b844-eb17f3304e41",
   "metadata": {},
   "outputs": [],
   "source": [
    "musig2_coordinators = []\n"
   ]
  },
  {
   "cell_type": "code",
   "execution_count": 19,
   "id": "413c3f5c-86f8-4892-be1d-e35ebbe659da",
   "metadata": {},
   "outputs": [],
   "source": [
    "def process_inbox(inbox):\n",
    "    while len(inbox) != 0:\n",
    "        message = inbox.pop(0)\n",
    "        if message[\"type\"] == \"https://didcomm.org/musig2/subscribe/accept\":\n",
    "            coordinator = message[\"from\"]\n",
    "            if (coordinator == coordinator_did):\n",
    "                print(f\"Subscribed to a MuSig2 coordinator {coordinator}\")\n",
    "                musig2_coordinators.append(coordinator)\n",
    "            else:\n",
    "                print(coordinator)\n",
    "                print(coordinator_did)\n",
    "                "
   ]
  },
  {
   "cell_type": "code",
   "execution_count": 20,
   "id": "2874ff24-01f6-4ee0-8577-99645238fcbd",
   "metadata": {},
   "outputs": [
    {
     "name": "stdout",
     "output_type": "stream",
     "text": [
      "Subscribed to a MuSig2 coordinator did:peer:2.Vz6MksvTpc5zbWrfdZCo3NyjABQQUDqC7yksyBk7PYmCqQ74i.Ez6LSgRMYHNDvqr93XiBp5qNtF1tzQ1cm3gKaoeYukcrnEB1p.SeyJ0IjoiZG0iLCJzIjp7InVyaSI6IndzOi8vbG9jYWxob3N0Ojg3NjUiLCJhIjpbImRpZGNvbW0vdjIiXSwiciI6W119fQ\n"
     ]
    }
   ],
   "source": [
    "process_inbox(inbox)"
   ]
  },
  {
   "cell_type": "code",
   "execution_count": 21,
   "id": "529caba3-b9ed-428b-a9c1-414ac405c4e6",
   "metadata": {},
   "outputs": [
    {
     "data": {
      "text/plain": [
       "['did:peer:2.Vz6MksvTpc5zbWrfdZCo3NyjABQQUDqC7yksyBk7PYmCqQ74i.Ez6LSgRMYHNDvqr93XiBp5qNtF1tzQ1cm3gKaoeYukcrnEB1p.SeyJ0IjoiZG0iLCJzIjp7InVyaSI6IndzOi8vbG9jYWxob3N0Ojg3NjUiLCJhIjpbImRpZGNvbW0vdjIiXSwiciI6W119fQ']"
      ]
     },
     "execution_count": 21,
     "metadata": {},
     "output_type": "execute_result"
    }
   ],
   "source": [
    "musig2_coordinators"
   ]
  },
  {
   "cell_type": "code",
   "execution_count": null,
   "id": "a420190e-3251-4da1-bc35-4247775b4269",
   "metadata": {},
   "outputs": [],
   "source": []
  },
  {
   "cell_type": "code",
   "execution_count": 22,
   "id": "fd58aeed-06ef-4554-a5f4-670eee8588cb",
   "metadata": {},
   "outputs": [
    {
     "data": {
      "text/plain": [
       "[{'type': 'https://didcomm.org/musig2/keygen/new_cohort',\n",
       "  'id': 'c005a99f-093e-4597-ab5c-dee23fe174e3',\n",
       "  'thread_id': '5d51fed4-1e48-4da1-a495-0296dd73167e',\n",
       "  'body': {},\n",
       "  'from': 'did:peer:2.Vz6MksvTpc5zbWrfdZCo3NyjABQQUDqC7yksyBk7PYmCqQ74i.Ez6LSgRMYHNDvqr93XiBp5qNtF1tzQ1cm3gKaoeYukcrnEB1p.SeyJ0IjoiZG0iLCJzIjp7InVyaSI6IndzOi8vbG9jYWxob3N0Ojg3NjUiLCJhIjpbImRpZGNvbW0vdjIiXSwiciI6W119fQ',\n",
       "  'to': ['did:peer:2.Vz6Mkskipyoo2GKrzaHhCLvJFT6YcUQqL5g37YTMjmXHLXWuw.Ez6LSnEHXZ79YBBdcYtC9xEFj5uR2Jhej1323XqpNJwqnJ7b3.SeyJ0IjoiZG0iLCJzIjp7InVyaSI6IndzOi8vbG9jYWxob3N0Ojg3NjYiLCJhIjpbImRpZGNvbW0vdjIiXSwiciI6W119fQ']}]"
      ]
     },
     "execution_count": 22,
     "metadata": {},
     "output_type": "execute_result"
    }
   ],
   "source": [
    "inbox"
   ]
  },
  {
   "cell_type": "code",
   "execution_count": 23,
   "id": "4c6e0a60-d7f7-4bc9-a82d-91f87301fc3b",
   "metadata": {},
   "outputs": [],
   "source": [
    "def create_join_cohort_message(to, thread_id, participant_pk):\n",
    "    \n",
    "    message = {\n",
    "        \"type\": \"https://didcomm.org/musig2/subscribe\",\n",
    "        \"id\": str(uuid.uuid4()),\n",
    "        \"thread_id\": thread_id,\n",
    "        \"body\": {\n",
    "            \"participant_pk\": participant_pk\n",
    "        },\n",
    "        \"from\": did,\n",
    "        \"to\": [to],\n",
    "    }\n",
    "    return message"
   ]
  },
  {
   "cell_type": "code",
   "execution_count": 1,
   "id": "a34a8688-162a-4b32-96d3-082ab2701459",
   "metadata": {},
   "outputs": [
    {
     "name": "stdout",
     "output_type": "stream",
     "text": [
      "Mnemonic :  waste again network differ second draw same plug current trust there gold drift salad will olive develop shoe mammal board nature repeat bargain more\n",
      "Participant PK: 028e26d03605c7b4a56efcfe5e261cca515a00178dd088d19a59187ccfc9f839cf\n"
     ]
    }
   ],
   "source": [
    "from buidl.ecc import PrivateKey\n",
    "\n",
    "from buidl.mnemonic import secure_mnemonic\n",
    "from buidl.hd import HDPrivateKey\n",
    "\n",
    "## Run this if you want a new hardware key\n",
    "mnemonic = secure_mnemonic()\n",
    "\n",
    "# mnemonic = \"prosper can dial lumber write coconut express imitate husband isolate inside release brush media please kind comic pill science repeat basic also endorse bronze\"\n",
    "print(\"Mnemonic : \", mnemonic)\n",
    "\n",
    "root_hdpriv = HDPrivateKey.from_mnemonic(mnemonic, network=\"signet\")\n",
    "\n",
    "purpose = \"340\"\n",
    "\n",
    "initial_sk = root_hdpriv.get_private_key(purpose, address_num=2)\n",
    "initial_pk = initial_sk.point\n",
    "\n",
    "\n",
    "participant_pk = initial_pk.sec().hex()\n",
    "print(f\"Participant PK: {participant_pk}\")\n"
   ]
  },
  {
   "cell_type": "code",
   "execution_count": null,
   "id": "f9f170cb-44ef-4969-86f4-0385ae18c2fb",
   "metadata": {},
   "outputs": [],
   "source": [
    "for message in inbox:\n",
    "    if message[\"type\"] == \"https://didcomm.org/musig2/keygen/new_cohort\":\n",
    "        frm = message[\"from\"]\n",
    "        thread_id = message[\"thread_id\"]\n",
    "        reply = create_join_cohort_message([frm],thread_id,participant_pk)\n",
    "        print(reply)\n",
    "        asyncio.create_task(send_message(reply, frm, did))"
   ]
  },
  {
   "cell_type": "code",
   "execution_count": null,
   "id": "f6eb3bd6-7cc4-4361-8628-11192a1ab63e",
   "metadata": {},
   "outputs": [],
   "source": []
  },
  {
   "cell_type": "code",
   "execution_count": null,
   "id": "dc5ddbc9-c176-45ae-a924-934fd72f1a07",
   "metadata": {},
   "outputs": [],
   "source": [
    "inbox"
   ]
  },
  {
   "cell_type": "code",
   "execution_count": null,
   "id": "f9bc5b48-1a51-4ced-a3d9-1ecbf0d97974",
   "metadata": {},
   "outputs": [],
   "source": []
  }
 ],
 "metadata": {
  "kernelspec": {
   "display_name": "Python 3 (ipykernel)",
   "language": "python",
   "name": "python3"
  },
  "language_info": {
   "codemirror_mode": {
    "name": "ipython",
    "version": 3
   },
   "file_extension": ".py",
   "mimetype": "text/x-python",
   "name": "python",
   "nbconvert_exporter": "python",
   "pygments_lexer": "ipython3",
   "version": "3.12.3"
  }
 },
 "nbformat": 4,
 "nbformat_minor": 5
}
