{
 "cells": [
  {
   "cell_type": "markdown",
   "id": "7efa8d71-49dd-4e0e-8793-3649beec21d5",
   "metadata": {},
   "source": [
    "# Beacon Participant - Fred"
   ]
  },
  {
   "cell_type": "code",
   "execution_count": 3,
   "id": "0c6b0359-3b75-4aab-b3b7-d6eda35984be",
   "metadata": {},
   "outputs": [],
   "source": [
    "import asyncio\n",
    "from musig2_protocols.beacon_participant import BeaconParticipant\n",
    "from buidl.hd import HDPrivateKey, secure_mnemonic\n",
    "import json"
   ]
  },
  {
   "cell_type": "markdown",
   "id": "20b0d5a1-c7b4-47ac-bbf7-6b0639831469",
   "metadata": {},
   "source": [
    "# Generate a HD Key\n",
    "\n",
    "Actually, the coordinator does not need a HDKey in the example as it is currently developed. "
   ]
  },
  {
   "cell_type": "code",
   "execution_count": 4,
   "id": "5d269ad8-7d9d-4f5f-b871-74c322df7948",
   "metadata": {},
   "outputs": [],
   "source": [
    "secure_mnemonic = secure_mnemonic()\n",
    "hd_priv = HDPrivateKey.from_mnemonic(secure_mnemonic)"
   ]
  },
  {
   "cell_type": "markdown",
   "id": "12389ade-4e6e-4313-87cf-7c43e69438db",
   "metadata": {},
   "source": [
    "# Define DIDComm Messaging host and port"
   ]
  },
  {
   "cell_type": "code",
   "execution_count": 5,
   "id": "07a31310-0614-4fec-a182-778cf825869d",
   "metadata": {},
   "outputs": [],
   "source": [
    "didcomm_host = \"localhost\"\n",
    "didcomm_port = 8766"
   ]
  },
  {
   "cell_type": "markdown",
   "id": "af38e635-2cff-4eec-af76-2833856d3cf1",
   "metadata": {},
   "source": [
    "# Instantiate a BeaconParticipant\n",
    "\n",
    "This creates a BeaconParticipant and registers the appropriate default handlers for handling the messages of the musig2 keygen and signing protocols."
   ]
  },
  {
   "cell_type": "code",
   "execution_count": 11,
   "id": "25482a42-d7a6-434f-9515-77b9ff8de8cd",
   "metadata": {},
   "outputs": [
    {
     "name": "stdout",
     "output_type": "stream",
     "text": [
      "Fred: Registering handler for message type https://btc1.tools/musig2/keygen/subscribe_accept\n",
      "Fred: Registering handler for message type https://btc1.tools/musig2/keygen/cohort_advert\n",
      "Fred: Registering handler for message type https://btc1.tools/musig2/keygen/cohort_set\n",
      "Fred: Registering handler for message type https://btc1.tools/musig2/sign/authorization_request\n",
      "Fred: Registering handler for message type https://btc1.tools/musig2/sign/aggregated_nonce\n"
     ]
    }
   ],
   "source": [
    "# Name is for logging purposes\n",
    "name = \"Fred\"\n",
    "beacon_participant = await BeaconParticipant.create(\n",
    "    name=name, \n",
    "    port=didcomm_port,\n",
    "    host=didcomm_host,\n",
    "    root_hdpriv=hd_priv\n",
    ")"
   ]
  },
  {
   "cell_type": "code",
   "execution_count": 14,
   "id": "d6ab428a-9754-4274-9bb3-04e66c79727e",
   "metadata": {},
   "outputs": [
    {
     "data": {
      "text/plain": [
       "'did:peer:2.Vz6MkrW4B8Pyv89nQ3EdN3zCGrLEgEZ5VqsSXjqjhjuwjSzFc.Ez6LSboVcakMcH613b8S6jFgEuA4byKMZSndk7yTUtp928DL2.SeyJ0IjoiZG0iLCJzIjp7InVyaSI6IndzOi8vbG9jYWxob3N0Ojg3NjYiLCJhIjpbImRpZGNvbW0vdjIiXSwiciI6W119fQ'"
      ]
     },
     "execution_count": 14,
     "metadata": {},
     "output_type": "execute_result"
    }
   ],
   "source": [
    "# A did:peer is generated for the beacon participant\n",
    "did = beacon_participant.did\n",
    "did"
   ]
  },
  {
   "cell_type": "markdown",
   "id": "71ffe92a-ac93-4f8b-8b04-382152a1ca10",
   "metadata": {},
   "source": [
    "## Resolve the DID\n",
    "\n",
    "The DID can be resolved to its DID document, which contains a verificationMethod that can be used for Key Agreement (#key-2) and a DIDCommMessaging service with a service endpoint identifying the websocket that participants should send DIDComm messages to."
   ]
  },
  {
   "cell_type": "code",
   "execution_count": 15,
   "id": "dc6dda04-197a-4951-8f7d-650f6c9a3008",
   "metadata": {},
   "outputs": [],
   "source": [
    "from didcomm_messaging.resolver.peer import Peer2, Peer4\n",
    "from didcomm_messaging.resolver import PrefixResolver\n",
    "resolver = PrefixResolver({\"did:peer:2\": Peer2(), \"did:peer:4\": Peer4()})\n"
   ]
  },
  {
   "cell_type": "code",
   "execution_count": 16,
   "id": "aafe8e1a-158a-4f1f-b153-cc37934c3ee3",
   "metadata": {},
   "outputs": [
    {
     "name": "stdout",
     "output_type": "stream",
     "text": [
      "{\n",
      "  \"@context\": [\n",
      "    \"https://www.w3.org/ns/did/v1\",\n",
      "    \"https://w3id.org/security/multikey/v1\"\n",
      "  ],\n",
      "  \"id\": \"did:peer:2.Vz6MkrW4B8Pyv89nQ3EdN3zCGrLEgEZ5VqsSXjqjhjuwjSzFc.Ez6LSboVcakMcH613b8S6jFgEuA4byKMZSndk7yTUtp928DL2.SeyJ0IjoiZG0iLCJzIjp7InVyaSI6IndzOi8vbG9jYWxob3N0Ojg3NjYiLCJhIjpbImRpZGNvbW0vdjIiXSwiciI6W119fQ\",\n",
      "  \"verificationMethod\": [\n",
      "    {\n",
      "      \"type\": \"Multikey\",\n",
      "      \"id\": \"#key-1\",\n",
      "      \"controller\": \"did:peer:2.Vz6MkrW4B8Pyv89nQ3EdN3zCGrLEgEZ5VqsSXjqjhjuwjSzFc.Ez6LSboVcakMcH613b8S6jFgEuA4byKMZSndk7yTUtp928DL2.SeyJ0IjoiZG0iLCJzIjp7InVyaSI6IndzOi8vbG9jYWxob3N0Ojg3NjYiLCJhIjpbImRpZGNvbW0vdjIiXSwiciI6W119fQ\",\n",
      "      \"publicKeyMultibase\": \"z6MkrW4B8Pyv89nQ3EdN3zCGrLEgEZ5VqsSXjqjhjuwjSzFc\"\n",
      "    },\n",
      "    {\n",
      "      \"type\": \"Multikey\",\n",
      "      \"id\": \"#key-2\",\n",
      "      \"controller\": \"did:peer:2.Vz6MkrW4B8Pyv89nQ3EdN3zCGrLEgEZ5VqsSXjqjhjuwjSzFc.Ez6LSboVcakMcH613b8S6jFgEuA4byKMZSndk7yTUtp928DL2.SeyJ0IjoiZG0iLCJzIjp7InVyaSI6IndzOi8vbG9jYWxob3N0Ojg3NjYiLCJhIjpbImRpZGNvbW0vdjIiXSwiciI6W119fQ\",\n",
      "      \"publicKeyMultibase\": \"z6LSboVcakMcH613b8S6jFgEuA4byKMZSndk7yTUtp928DL2\"\n",
      "    }\n",
      "  ],\n",
      "  \"authentication\": [\n",
      "    \"#key-1\"\n",
      "  ],\n",
      "  \"keyAgreement\": [\n",
      "    \"#key-2\"\n",
      "  ],\n",
      "  \"service\": [\n",
      "    {\n",
      "      \"type\": \"DIDCommMessaging\",\n",
      "      \"serviceEndpoint\": {\n",
      "        \"uri\": \"ws://localhost:8766\",\n",
      "        \"accept\": [\n",
      "          \"didcomm/v2\"\n",
      "        ],\n",
      "        \"routingKeys\": []\n",
      "      },\n",
      "      \"id\": \"#service\"\n",
      "    }\n",
      "  ],\n",
      "  \"alsoKnownAs\": [\n",
      "    \"did:peer:3zQmYHta3UrCYpSYLHaUmHiwWQ7ByyRzUdGAuDsYEtcrMssh\"\n",
      "  ]\n",
      "}\n"
     ]
    }
   ],
   "source": [
    "did_document = await resolver.resolve(did)\n",
    "print(json.dumps(did_document, indent=2))"
   ]
  },
  {
   "cell_type": "code",
   "execution_count": 18,
   "id": "2b11aa3d-e5b3-480a-9d2e-a190f025f3df",
   "metadata": {},
   "outputs": [
    {
     "name": "stdout",
     "output_type": "stream",
     "text": [
      "Fred: Starting websocket server on ws://localhost:8766\n",
      "Fred: WebSocket server started successfully\n",
      "Fred: New client connected\n",
      "Fred: Received raw message\n",
      "Fred: Successfully unpacked message: {\n",
      "  \"type\": \"https://btc1.tools/musig2/keygen/subscribe_accept\",\n",
      "  \"id\": \"82620198-cb2a-4f11-9b1d-9f4f6371b9cf\",\n",
      "  \"to\": \"did:peer:2.Vz6MkrW4B8Pyv89nQ3EdN3zCGrLEgEZ5VqsSXjqjhjuwjSzFc.Ez6LSboVcakMcH613b8S6jFgEuA4byKMZSndk7yTUtp928DL2.SeyJ0IjoiZG0iLCJzIjp7InVyaSI6IndzOi8vbG9jYWxob3N0Ojg3NjYiLCJhIjpbImRpZGNvbW0vdjIiXSwiciI6W119fQ\",\n",
      "  \"from\": \"did:peer:2.Vz6MkgExXQ5es6n7Fie6SdyEdhYgYA5VDtzDwCJUGWGspWemo.Ez6LSePN8SKTBYuyMjpYZrYjFqoKARsnrPqYwBuRSByoLX8bP.SeyJ0IjoiZG0iLCJzIjp7InVyaSI6IndzOi8vbG9jYWxob3N0Ojg3NjUiLCJhIjpbImRpZGNvbW0vdjIiXSwiciI6W119fQ\",\n",
      "  \"body\": {}\n",
      "}\n",
      "Routing - https://btc1.tools/musig2/keygen/subscribe_accept\n"
     ]
    }
   ],
   "source": [
    "task = asyncio.create_task(beacon_participant.start())"
   ]
  },
  {
   "cell_type": "markdown",
   "id": "036fbbe3-6fd2-46fb-8fc8-53b0800f03b6",
   "metadata": {},
   "source": [
    "# Find Beacon Coordinator\n",
    "\n",
    "Copy the coordinator_did value generated from the [coordinator](./coordinator.ipynb) notebook"
   ]
  },
  {
   "cell_type": "code",
   "execution_count": 2,
   "id": "445806e5-e311-45fd-a1e4-70e6fa418ca2",
   "metadata": {},
   "outputs": [],
   "source": [
    "coordinator_did = 'did:peer:2.Vz6MkgExXQ5es6n7Fie6SdyEdhYgYA5VDtzDwCJUGWGspWemo.Ez6LSePN8SKTBYuyMjpYZrYjFqoKARsnrPqYwBuRSByoLX8bP.SeyJ0IjoiZG0iLCJzIjp7InVyaSI6IndzOi8vbG9jYWxob3N0Ojg3NjUiLCJhIjpbImRpZGNvbW0vdjIiXSwiciI6W119fQ'"
   ]
  },
  {
   "cell_type": "code",
   "execution_count": null,
   "id": "9c21fcce-059e-4962-84fe-e4ca6cd30358",
   "metadata": {},
   "outputs": [],
   "source": []
  },
  {
   "cell_type": "markdown",
   "id": "77e3c9fe-3e60-40ea-a37c-1f03230ae210",
   "metadata": {},
   "source": [
    "## Subscribe to Beacon Coordinator using DID"
   ]
  },
  {
   "cell_type": "code",
   "execution_count": 20,
   "id": "3f23bd3e-1732-4c7a-be7a-a2240f84f223",
   "metadata": {},
   "outputs": [
    {
     "name": "stdout",
     "output_type": "stream",
     "text": [
      "Fred: Preparing to send message to did:peer:2.Vz6MkgExXQ5es6n7Fie6SdyEdhYgYA5VDtzDwCJUGWGspWemo.Ez6LSePN8SKTBYuyMjpYZrYjFqoKARsnrPqYwBuRSByoLX8bP.SeyJ0IjoiZG0iLCJzIjp7InVyaSI6IndzOi8vbG9jYWxob3N0Ojg3NjUiLCJhIjpbImRpZGNvbW0vdjIiXSwiciI6W119fQ\n",
      "Fred: Got endpoint ws://localhost:8765 for message to did:peer:2.Vz6MkgExXQ5es6n7Fie6SdyEdhYgYA5VDtzDwCJUGWGspWemo.Ez6LSePN8SKTBYuyMjpYZrYjFqoKARsnrPqYwBuRSByoLX8bP.SeyJ0IjoiZG0iLCJzIjp7InVyaSI6IndzOi8vbG9jYWxob3N0Ojg3NjUiLCJhIjpbImRpZGNvbW0vdjIiXSwiciI6W119fQ\n",
      "Fred: Added message to queue for ws://localhost:8765\n",
      "Fred: Starting queue processor for ws://localhost:8765\n",
      "Fred: Starting message queue processor for ws://localhost:8765\n",
      "Fred: Processing message from queue for ws://localhost:8765\n",
      "Fred: Creating new connection to ws://localhost:8765\n",
      "Fred: Successfully connected to ws://localhost:8765\n",
      "Fred: Sending message to ws://localhost:8765\n"
     ]
    }
   ],
   "source": [
    "await beacon_participant.subscribe_to_coordinator(coordinator_did)"
   ]
  },
  {
   "cell_type": "code",
   "execution_count": null,
   "id": "b274c8b6-31f5-4531-8ad5-19a70c035cac",
   "metadata": {},
   "outputs": [],
   "source": []
  }
 ],
 "metadata": {
  "kernelspec": {
   "display_name": "Python 3 (ipykernel)",
   "language": "python",
   "name": "python3"
  },
  "language_info": {
   "codemirror_mode": {
    "name": "ipython",
    "version": 3
   },
   "file_extension": ".py",
   "mimetype": "text/x-python",
   "name": "python",
   "nbconvert_exporter": "python",
   "pygments_lexer": "ipython3",
   "version": "3.12.3"
  }
 },
 "nbformat": 4,
 "nbformat_minor": 5
}
