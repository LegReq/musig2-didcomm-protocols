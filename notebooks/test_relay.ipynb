{
 "cells": [
  {
   "cell_type": "code",
   "execution_count": 1,
   "id": "3fc39df4-82ac-4e2d-b098-93fba0c6e6dd",
   "metadata": {},
   "outputs": [],
   "source": [
    "from didcomm_messaging import quickstart"
   ]
  },
  {
   "cell_type": "code",
   "execution_count": 2,
   "id": "9c076294-80b9-4aef-a9cf-060e9b8426a6",
   "metadata": {},
   "outputs": [],
   "source": [
    "RELAY_DID = 'did:web:dev.cloudmediator.indiciotech.io'\n"
   ]
  },
  {
   "cell_type": "code",
   "execution_count": 3,
   "id": "32ce5f4e-cdde-4fab-b5f5-4cd45b6dbb97",
   "metadata": {},
   "outputs": [],
   "source": [
    "did, secrets = quickstart.generate_did()"
   ]
  },
  {
   "cell_type": "code",
   "execution_count": 4,
   "id": "6cf91e0a-1cfe-4aa1-8016-9c6822c1d390",
   "metadata": {},
   "outputs": [
    {
     "data": {
      "text/plain": [
       "'did:peer:2.Vz6MkpSgQKUQyDBULYeLJiZQQ3SzKSxQwGTBufwk5YcqfPpz6.Ez6LSs7G9zSbEZs34CdZZ1y7y74jLXVQ2LipETrsh6xxZay3a.SeyJ0IjoiZG0iLCJzIjp7InVyaSI6ImRpZGNvbW06dHJhbnNwb3J0L3F1ZXVlIiwiYSI6WyJkaWRjb21tL3YyIl0sInIiOltdfX0'"
      ]
     },
     "execution_count": 4,
     "metadata": {},
     "output_type": "execute_result"
    }
   ],
   "source": [
    "did"
   ]
  },
  {
   "cell_type": "code",
   "execution_count": 6,
   "id": "b2f96577-d0f9-44c9-9d60-ac78e5c645fa",
   "metadata": {},
   "outputs": [],
   "source": [
    "verkey, xkey = secrets"
   ]
  },
  {
   "cell_type": "code",
   "execution_count": 12,
   "id": "f9b27a5f-c6ba-46d1-bf96-b6f5450d311b",
   "metadata": {},
   "outputs": [],
   "source": [
    "dmp = await quickstart.setup_default(did, secrets)"
   ]
  },
  {
   "cell_type": "code",
   "execution_count": 13,
   "id": "0cd214ef-516e-467d-a21c-e0040b88833b",
   "metadata": {},
   "outputs": [],
   "source": [
    "relayed_did = await quickstart.setup_relay(dmp, did, RELAY_DID, verkey, xkey)"
   ]
  },
  {
   "cell_type": "code",
   "execution_count": 14,
   "id": "637c18a0-1bd1-4f7f-b78e-f6f61d35bb64",
   "metadata": {},
   "outputs": [
    {
     "data": {
      "text/plain": [
       "'did:peer:2.Vz6MkpSgQKUQyDBULYeLJiZQQ3SzKSxQwGTBufwk5YcqfPpz6.Ez6LSs7G9zSbEZs34CdZZ1y7y74jLXVQ2LipETrsh6xxZay3a.SeyJ0IjoiZG0iLCJzIjp7InVyaSI6ImRpZDpwZWVyOjIuRXo2TFNqdFBDbzFXTDhKSHppYm02aUxhSFU0NkVhaG9hajZCVkRlenVWclpYNlFaMS5WejZNa3RBU0VRSDZMNkY2OEt3UjQ1TWlNSlFNQzF2djlSb3RNcDhpd3pGQ2ZLa3NaLlNleUp6SWpvZ2V5SjFjbWtpT2lBaWFIUjBjSE02THk5a1pYWXVZMnh2ZFdSdFpXUnBZWFJ2Y2k1cGJtUnBZMmx2ZEdWamFDNXBieTl0WlhOellXZGxJaXdnSW1FaU9pQmJJbVJwWkdOdmJXMHZkaklpTENBaVpHbGtZMjl0YlM5aGFYQXlPMlZ1ZGoxeVptTXhPU0pkZlN3Z0luUWlPaUFpWkcwaWZRLlNleUp6SWpvZ2V5SjFjbWtpT2lBaWQzTnpPaTh2ZDNNdVpHVjJMbU5zYjNWa2JXVmthV0YwYjNJdWFXNWthV05wYjNSbFkyZ3VhVzh2ZDNNaUxDQWlZU0k2SUZzaVpHbGtZMjl0YlM5Mk1pSXNJQ0prYVdSamIyMXRMMkZwY0RJN1pXNTJQWEptWXpFNUlsMTlMQ0FpZENJNklDSmtiU0o5LlNleUp6SWpvZ0ltaDBkSEJ6T2k4dlpHVjJMbU5zYjNWa2JXVmthV0YwYjNJdWFXNWthV05wYjNSbFkyZ3VhVzh2YldWemMyRm5aU0lzSUNKaElqb2dXeUprYVdSamIyMXRMM1l5SWl3Z0ltUnBaR052YlcwdllXbHdNanRsYm5ZOWNtWmpNVGtpWFN3Z0luSmxZMmx3YVdWdWRFdGxlWE1pT2lCYklpTnJaWGt0TWlKZExDQWlkQ0k2SUNKa2FXUXRZMjl0YlhWdWFXTmhkR2x2YmlKOS5TZXlKeklqb2dJbmR6Y3pvdkwzZHpMbVJsZGk1amJHOTFaRzFsWkdsaGRHOXlMbWx1WkdsamFXOTBaV05vTG1sdkwzZHpJaXdnSW1FaU9pQmJJbVJwWkdOdmJXMHZkaklpTENBaVpHbGtZMjl0YlM5aGFYQXlPMlZ1ZGoxeVptTXhPU0pkTENBaWNtVmphWEJwWlc1MFMyVjVjeUk2SUZzaUkydGxlUzB5SWwwc0lDSjBJam9nSW1ScFpDMWpiMjF0ZFc1cFkyRjBhVzl1SW4wIiwiYSI6WyJkaWRjb21tL3YyIl19fQ'"
      ]
     },
     "execution_count": 14,
     "metadata": {},
     "output_type": "execute_result"
    }
   ],
   "source": [
    "relayed_did"
   ]
  },
  {
   "cell_type": "code",
   "execution_count": 15,
   "id": "4c3cbc88-7838-4680-8047-90952f551932",
   "metadata": {},
   "outputs": [
    {
     "data": {
      "text/plain": [
       "'did:peer:2.Vz6MkpSgQKUQyDBULYeLJiZQQ3SzKSxQwGTBufwk5YcqfPpz6.Ez6LSs7G9zSbEZs34CdZZ1y7y74jLXVQ2LipETrsh6xxZay3a.SeyJ0IjoiZG0iLCJzIjp7InVyaSI6ImRpZGNvbW06dHJhbnNwb3J0L3F1ZXVlIiwiYSI6WyJkaWRjb21tL3YyIl0sInIiOltdfX0'"
      ]
     },
     "execution_count": 15,
     "metadata": {},
     "output_type": "execute_result"
    }
   ],
   "source": [
    "did"
   ]
  },
  {
   "cell_type": "code",
   "execution_count": 17,
   "id": "d90e77af-12e8-4155-a905-89cea2739e30",
   "metadata": {},
   "outputs": [
    {
     "data": {
      "text/plain": [
       "{'@context': ['https://www.w3.org/ns/did/v1',\n",
       "  'https://w3id.org/security/multikey/v1'],\n",
       " 'id': 'did:peer:2.Vz6MkpSgQKUQyDBULYeLJiZQQ3SzKSxQwGTBufwk5YcqfPpz6.Ez6LSs7G9zSbEZs34CdZZ1y7y74jLXVQ2LipETrsh6xxZay3a.SeyJ0IjoiZG0iLCJzIjp7InVyaSI6ImRpZDpwZWVyOjIuRXo2TFNqdFBDbzFXTDhKSHppYm02aUxhSFU0NkVhaG9hajZCVkRlenVWclpYNlFaMS5WejZNa3RBU0VRSDZMNkY2OEt3UjQ1TWlNSlFNQzF2djlSb3RNcDhpd3pGQ2ZLa3NaLlNleUp6SWpvZ2V5SjFjbWtpT2lBaWFIUjBjSE02THk5a1pYWXVZMnh2ZFdSdFpXUnBZWFJ2Y2k1cGJtUnBZMmx2ZEdWamFDNXBieTl0WlhOellXZGxJaXdnSW1FaU9pQmJJbVJwWkdOdmJXMHZkaklpTENBaVpHbGtZMjl0YlM5aGFYQXlPMlZ1ZGoxeVptTXhPU0pkZlN3Z0luUWlPaUFpWkcwaWZRLlNleUp6SWpvZ2V5SjFjbWtpT2lBaWQzTnpPaTh2ZDNNdVpHVjJMbU5zYjNWa2JXVmthV0YwYjNJdWFXNWthV05wYjNSbFkyZ3VhVzh2ZDNNaUxDQWlZU0k2SUZzaVpHbGtZMjl0YlM5Mk1pSXNJQ0prYVdSamIyMXRMMkZwY0RJN1pXNTJQWEptWXpFNUlsMTlMQ0FpZENJNklDSmtiU0o5LlNleUp6SWpvZ0ltaDBkSEJ6T2k4dlpHVjJMbU5zYjNWa2JXVmthV0YwYjNJdWFXNWthV05wYjNSbFkyZ3VhVzh2YldWemMyRm5aU0lzSUNKaElqb2dXeUprYVdSamIyMXRMM1l5SWl3Z0ltUnBaR052YlcwdllXbHdNanRsYm5ZOWNtWmpNVGtpWFN3Z0luSmxZMmx3YVdWdWRFdGxlWE1pT2lCYklpTnJaWGt0TWlKZExDQWlkQ0k2SUNKa2FXUXRZMjl0YlhWdWFXTmhkR2x2YmlKOS5TZXlKeklqb2dJbmR6Y3pvdkwzZHpMbVJsZGk1amJHOTFaRzFsWkdsaGRHOXlMbWx1WkdsamFXOTBaV05vTG1sdkwzZHpJaXdnSW1FaU9pQmJJbVJwWkdOdmJXMHZkaklpTENBaVpHbGtZMjl0YlM5aGFYQXlPMlZ1ZGoxeVptTXhPU0pkTENBaWNtVmphWEJwWlc1MFMyVjVjeUk2SUZzaUkydGxlUzB5SWwwc0lDSjBJam9nSW1ScFpDMWpiMjF0ZFc1cFkyRjBhVzl1SW4wIiwiYSI6WyJkaWRjb21tL3YyIl19fQ',\n",
       " 'verificationMethod': [{'type': 'Multikey',\n",
       "   'id': '#key-1',\n",
       "   'controller': 'did:peer:2.Vz6MkpSgQKUQyDBULYeLJiZQQ3SzKSxQwGTBufwk5YcqfPpz6.Ez6LSs7G9zSbEZs34CdZZ1y7y74jLXVQ2LipETrsh6xxZay3a.SeyJ0IjoiZG0iLCJzIjp7InVyaSI6ImRpZDpwZWVyOjIuRXo2TFNqdFBDbzFXTDhKSHppYm02aUxhSFU0NkVhaG9hajZCVkRlenVWclpYNlFaMS5WejZNa3RBU0VRSDZMNkY2OEt3UjQ1TWlNSlFNQzF2djlSb3RNcDhpd3pGQ2ZLa3NaLlNleUp6SWpvZ2V5SjFjbWtpT2lBaWFIUjBjSE02THk5a1pYWXVZMnh2ZFdSdFpXUnBZWFJ2Y2k1cGJtUnBZMmx2ZEdWamFDNXBieTl0WlhOellXZGxJaXdnSW1FaU9pQmJJbVJwWkdOdmJXMHZkaklpTENBaVpHbGtZMjl0YlM5aGFYQXlPMlZ1ZGoxeVptTXhPU0pkZlN3Z0luUWlPaUFpWkcwaWZRLlNleUp6SWpvZ2V5SjFjbWtpT2lBaWQzTnpPaTh2ZDNNdVpHVjJMbU5zYjNWa2JXVmthV0YwYjNJdWFXNWthV05wYjNSbFkyZ3VhVzh2ZDNNaUxDQWlZU0k2SUZzaVpHbGtZMjl0YlM5Mk1pSXNJQ0prYVdSamIyMXRMMkZwY0RJN1pXNTJQWEptWXpFNUlsMTlMQ0FpZENJNklDSmtiU0o5LlNleUp6SWpvZ0ltaDBkSEJ6T2k4dlpHVjJMbU5zYjNWa2JXVmthV0YwYjNJdWFXNWthV05wYjNSbFkyZ3VhVzh2YldWemMyRm5aU0lzSUNKaElqb2dXeUprYVdSamIyMXRMM1l5SWl3Z0ltUnBaR052YlcwdllXbHdNanRsYm5ZOWNtWmpNVGtpWFN3Z0luSmxZMmx3YVdWdWRFdGxlWE1pT2lCYklpTnJaWGt0TWlKZExDQWlkQ0k2SUNKa2FXUXRZMjl0YlhWdWFXTmhkR2x2YmlKOS5TZXlKeklqb2dJbmR6Y3pvdkwzZHpMbVJsZGk1amJHOTFaRzFsWkdsaGRHOXlMbWx1WkdsamFXOTBaV05vTG1sdkwzZHpJaXdnSW1FaU9pQmJJbVJwWkdOdmJXMHZkaklpTENBaVpHbGtZMjl0YlM5aGFYQXlPMlZ1ZGoxeVptTXhPU0pkTENBaWNtVmphWEJwWlc1MFMyVjVjeUk2SUZzaUkydGxlUzB5SWwwc0lDSjBJam9nSW1ScFpDMWpiMjF0ZFc1cFkyRjBhVzl1SW4wIiwiYSI6WyJkaWRjb21tL3YyIl19fQ',\n",
       "   'publicKeyMultibase': 'z6MkpSgQKUQyDBULYeLJiZQQ3SzKSxQwGTBufwk5YcqfPpz6'},\n",
       "  {'type': 'Multikey',\n",
       "   'id': '#key-2',\n",
       "   'controller': 'did:peer:2.Vz6MkpSgQKUQyDBULYeLJiZQQ3SzKSxQwGTBufwk5YcqfPpz6.Ez6LSs7G9zSbEZs34CdZZ1y7y74jLXVQ2LipETrsh6xxZay3a.SeyJ0IjoiZG0iLCJzIjp7InVyaSI6ImRpZDpwZWVyOjIuRXo2TFNqdFBDbzFXTDhKSHppYm02aUxhSFU0NkVhaG9hajZCVkRlenVWclpYNlFaMS5WejZNa3RBU0VRSDZMNkY2OEt3UjQ1TWlNSlFNQzF2djlSb3RNcDhpd3pGQ2ZLa3NaLlNleUp6SWpvZ2V5SjFjbWtpT2lBaWFIUjBjSE02THk5a1pYWXVZMnh2ZFdSdFpXUnBZWFJ2Y2k1cGJtUnBZMmx2ZEdWamFDNXBieTl0WlhOellXZGxJaXdnSW1FaU9pQmJJbVJwWkdOdmJXMHZkaklpTENBaVpHbGtZMjl0YlM5aGFYQXlPMlZ1ZGoxeVptTXhPU0pkZlN3Z0luUWlPaUFpWkcwaWZRLlNleUp6SWpvZ2V5SjFjbWtpT2lBaWQzTnpPaTh2ZDNNdVpHVjJMbU5zYjNWa2JXVmthV0YwYjNJdWFXNWthV05wYjNSbFkyZ3VhVzh2ZDNNaUxDQWlZU0k2SUZzaVpHbGtZMjl0YlM5Mk1pSXNJQ0prYVdSamIyMXRMMkZwY0RJN1pXNTJQWEptWXpFNUlsMTlMQ0FpZENJNklDSmtiU0o5LlNleUp6SWpvZ0ltaDBkSEJ6T2k4dlpHVjJMbU5zYjNWa2JXVmthV0YwYjNJdWFXNWthV05wYjNSbFkyZ3VhVzh2YldWemMyRm5aU0lzSUNKaElqb2dXeUprYVdSamIyMXRMM1l5SWl3Z0ltUnBaR052YlcwdllXbHdNanRsYm5ZOWNtWmpNVGtpWFN3Z0luSmxZMmx3YVdWdWRFdGxlWE1pT2lCYklpTnJaWGt0TWlKZExDQWlkQ0k2SUNKa2FXUXRZMjl0YlhWdWFXTmhkR2x2YmlKOS5TZXlKeklqb2dJbmR6Y3pvdkwzZHpMbVJsZGk1amJHOTFaRzFsWkdsaGRHOXlMbWx1WkdsamFXOTBaV05vTG1sdkwzZHpJaXdnSW1FaU9pQmJJbVJwWkdOdmJXMHZkaklpTENBaVpHbGtZMjl0YlM5aGFYQXlPMlZ1ZGoxeVptTXhPU0pkTENBaWNtVmphWEJwWlc1MFMyVjVjeUk2SUZzaUkydGxlUzB5SWwwc0lDSjBJam9nSW1ScFpDMWpiMjF0ZFc1cFkyRjBhVzl1SW4wIiwiYSI6WyJkaWRjb21tL3YyIl19fQ',\n",
       "   'publicKeyMultibase': 'z6LSs7G9zSbEZs34CdZZ1y7y74jLXVQ2LipETrsh6xxZay3a'}],\n",
       " 'authentication': ['#key-1'],\n",
       " 'keyAgreement': ['#key-2'],\n",
       " 'service': [{'type': 'DIDCommMessaging',\n",
       "   'serviceEndpoint': {'uri': 'did:peer:2.Ez6LSjtPCo1WL8JHzibm6iLaHU46Eahoaj6BVDezuVrZX6QZ1.Vz6MktASEQH6L6F68KwR45MiMJQMC1vv9RotMp8iwzFCfKksZ.SeyJzIjogeyJ1cmkiOiAiaHR0cHM6Ly9kZXYuY2xvdWRtZWRpYXRvci5pbmRpY2lvdGVjaC5pby9tZXNzYWdlIiwgImEiOiBbImRpZGNvbW0vdjIiLCAiZGlkY29tbS9haXAyO2Vudj1yZmMxOSJdfSwgInQiOiAiZG0ifQ.SeyJzIjogeyJ1cmkiOiAid3NzOi8vd3MuZGV2LmNsb3VkbWVkaWF0b3IuaW5kaWNpb3RlY2guaW8vd3MiLCAiYSI6IFsiZGlkY29tbS92MiIsICJkaWRjb21tL2FpcDI7ZW52PXJmYzE5Il19LCAidCI6ICJkbSJ9.SeyJzIjogImh0dHBzOi8vZGV2LmNsb3VkbWVkaWF0b3IuaW5kaWNpb3RlY2guaW8vbWVzc2FnZSIsICJhIjogWyJkaWRjb21tL3YyIiwgImRpZGNvbW0vYWlwMjtlbnY9cmZjMTkiXSwgInJlY2lwaWVudEtleXMiOiBbIiNrZXktMiJdLCAidCI6ICJkaWQtY29tbXVuaWNhdGlvbiJ9.SeyJzIjogIndzczovL3dzLmRldi5jbG91ZG1lZGlhdG9yLmluZGljaW90ZWNoLmlvL3dzIiwgImEiOiBbImRpZGNvbW0vdjIiLCAiZGlkY29tbS9haXAyO2Vudj1yZmMxOSJdLCAicmVjaXBpZW50S2V5cyI6IFsiI2tleS0yIl0sICJ0IjogImRpZC1jb21tdW5pY2F0aW9uIn0',\n",
       "    'accept': ['didcomm/v2']},\n",
       "   'id': '#service'}],\n",
       " 'alsoKnownAs': ['did:peer:3zQmeayKJZ4Su85j7SAhXPBZRzMKGzL8XsHmpHSsVdohiG4W']}"
      ]
     },
     "execution_count": 17,
     "metadata": {},
     "output_type": "execute_result"
    }
   ],
   "source": [
    "await dmp.resolver.resolve(relayed_did)"
   ]
  },
  {
   "cell_type": "code",
   "execution_count": 18,
   "id": "5fd30b5b-88b6-4b22-beb6-083112a4ca37",
   "metadata": {},
   "outputs": [
    {
     "data": {
      "text/plain": [
       "{'@context': ['https://www.w3.org/ns/did/v1',\n",
       "  'https://w3id.org/security/multikey/v1'],\n",
       " 'id': 'did:peer:2.Vz6MkpSgQKUQyDBULYeLJiZQQ3SzKSxQwGTBufwk5YcqfPpz6.Ez6LSs7G9zSbEZs34CdZZ1y7y74jLXVQ2LipETrsh6xxZay3a.SeyJ0IjoiZG0iLCJzIjp7InVyaSI6ImRpZGNvbW06dHJhbnNwb3J0L3F1ZXVlIiwiYSI6WyJkaWRjb21tL3YyIl0sInIiOltdfX0',\n",
       " 'verificationMethod': [{'type': 'Multikey',\n",
       "   'id': '#key-1',\n",
       "   'controller': 'did:peer:2.Vz6MkpSgQKUQyDBULYeLJiZQQ3SzKSxQwGTBufwk5YcqfPpz6.Ez6LSs7G9zSbEZs34CdZZ1y7y74jLXVQ2LipETrsh6xxZay3a.SeyJ0IjoiZG0iLCJzIjp7InVyaSI6ImRpZGNvbW06dHJhbnNwb3J0L3F1ZXVlIiwiYSI6WyJkaWRjb21tL3YyIl0sInIiOltdfX0',\n",
       "   'publicKeyMultibase': 'z6MkpSgQKUQyDBULYeLJiZQQ3SzKSxQwGTBufwk5YcqfPpz6'},\n",
       "  {'type': 'Multikey',\n",
       "   'id': '#key-2',\n",
       "   'controller': 'did:peer:2.Vz6MkpSgQKUQyDBULYeLJiZQQ3SzKSxQwGTBufwk5YcqfPpz6.Ez6LSs7G9zSbEZs34CdZZ1y7y74jLXVQ2LipETrsh6xxZay3a.SeyJ0IjoiZG0iLCJzIjp7InVyaSI6ImRpZGNvbW06dHJhbnNwb3J0L3F1ZXVlIiwiYSI6WyJkaWRjb21tL3YyIl0sInIiOltdfX0',\n",
       "   'publicKeyMultibase': 'z6LSs7G9zSbEZs34CdZZ1y7y74jLXVQ2LipETrsh6xxZay3a'}],\n",
       " 'authentication': ['#key-1'],\n",
       " 'keyAgreement': ['#key-2'],\n",
       " 'service': [{'type': 'DIDCommMessaging',\n",
       "   'serviceEndpoint': {'uri': 'didcomm:transport/queue',\n",
       "    'accept': ['didcomm/v2'],\n",
       "    'routingKeys': []},\n",
       "   'id': '#service'}],\n",
       " 'alsoKnownAs': ['did:peer:3zQmWU2UU2RM4csjVNDxhcpUcwcoW2wpnwKLjwrRKjZZaoK6']}"
      ]
     },
     "execution_count": 18,
     "metadata": {},
     "output_type": "execute_result"
    }
   ],
   "source": [
    "await dmp.resolver.resolve(did)"
   ]
  },
  {
   "cell_type": "code",
   "execution_count": 19,
   "id": "ae36ea12-28b8-46ce-a61d-1ffc6b4dabdd",
   "metadata": {},
   "outputs": [],
   "source": [
    "from_did, from_did_secrets = quickstart.generate_did()"
   ]
  },
  {
   "cell_type": "code",
   "execution_count": 20,
   "id": "eac3fcfb-472a-476f-a4e4-937f943274f6",
   "metadata": {},
   "outputs": [],
   "source": [
    "from_dmp = await quickstart.setup_default(from_did, from_did_secrets)"
   ]
  },
  {
   "cell_type": "code",
   "execution_count": 22,
   "id": "8919a9d9-ea24-4e89-8cd3-8e341e844d8b",
   "metadata": {},
   "outputs": [],
   "source": [
    "import uuid\n",
    "basic_message = {\n",
    "        \"type\": \"https://didcomm.org/basicmessage/2.0/message\",\n",
    "        \"id\": str(uuid.uuid4()),\n",
    "        \"body\": {\n",
    "            \"content\": \"Hello!\",\n",
    "        },\n",
    "        \"from\": from_did,\n",
    "        \"to\": [did],\n",
    "    }"
   ]
  },
  {
   "cell_type": "code",
   "execution_count": 23,
   "id": "f9521eef-4bc4-427a-9fa5-741dbf3481eb",
   "metadata": {},
   "outputs": [],
   "source": [
    "await quickstart.send_http_message(from_dmp, from_did, basic_message, relayed_did)"
   ]
  },
  {
   "cell_type": "code",
   "execution_count": 28,
   "id": "784dc1d8-0ca3-4c81-b3b0-4a86e5218a11",
   "metadata": {},
   "outputs": [
    {
     "name": "stdout",
     "output_type": "stream",
     "text": [
      "{'type': 'https://didcomm.org/basicmessage/2.0/message', 'id': '61682df1-3c93-4a1d-8c27-7dd7d1a4a131', 'body': {'content': 'Hello!'}, 'from': 'did:peer:2.Vz6MksWjjGcRF4ifVo9QgCvbkKnXM8Mjiqz3nfBSLcZb73hn2.Ez6LSqW8FPXGenN6ZuYrfGizr8vUi3haAmqXcDtVy5EQVSgeD.SeyJ0IjoiZG0iLCJzIjp7InVyaSI6ImRpZGNvbW06dHJhbnNwb3J0L3F1ZXVlIiwiYSI6WyJkaWRjb21tL3YyIl0sInIiOltdfX0', 'to': ['did:peer:2.Vz6MkpSgQKUQyDBULYeLJiZQQ3SzKSxQwGTBufwk5YcqfPpz6.Ez6LSs7G9zSbEZs34CdZZ1y7y74jLXVQ2LipETrsh6xxZay3a.SeyJ0IjoiZG0iLCJzIjp7InVyaSI6ImRpZGNvbW06dHJhbnNwb3J0L3F1ZXVlIiwiYSI6WyJkaWRjb21tL3YyIl0sInIiOltdfX0'], 'typ': 'application/didcomm-plain+json', 'return_route': 'all'}\n",
      "{'type': 'https://didcomm.org/messagepickup/3.0/status-request', 'id': '8bb2edb7-16ad-4a62-a57e-1c15e15bc91f', 'body': {}, 'from': 'did:peer:2.Vz6MkpSgQKUQyDBULYeLJiZQQ3SzKSxQwGTBufwk5YcqfPpz6.Ez6LSs7G9zSbEZs34CdZZ1y7y74jLXVQ2LipETrsh6xxZay3a.SeyJ0IjoiZG0iLCJzIjp7InVyaSI6ImRpZGNvbW06dHJhbnNwb3J0L3F1ZXVlIiwiYSI6WyJkaWRjb21tL3YyIl0sInIiOltdfX0', 'to': ['did:peer:2.Vz6MkpSgQKUQyDBULYeLJiZQQ3SzKSxQwGTBufwk5YcqfPpz6.Ez6LSs7G9zSbEZs34CdZZ1y7y74jLXVQ2LipETrsh6xxZay3a.SeyJ0IjoiZG0iLCJzIjp7InVyaSI6ImRpZDpwZWVyOjIuRXo2TFNqdFBDbzFXTDhKSHppYm02aUxhSFU0NkVhaG9hajZCVkRlenVWclpYNlFaMS5WejZNa3RBU0VRSDZMNkY2OEt3UjQ1TWlNSlFNQzF2djlSb3RNcDhpd3pGQ2ZLa3NaLlNleUp6SWpvZ2V5SjFjbWtpT2lBaWFIUjBjSE02THk5a1pYWXVZMnh2ZFdSdFpXUnBZWFJ2Y2k1cGJtUnBZMmx2ZEdWamFDNXBieTl0WlhOellXZGxJaXdnSW1FaU9pQmJJbVJwWkdOdmJXMHZkaklpTENBaVpHbGtZMjl0YlM5aGFYQXlPMlZ1ZGoxeVptTXhPU0pkZlN3Z0luUWlPaUFpWkcwaWZRLlNleUp6SWpvZ2V5SjFjbWtpT2lBaWQzTnpPaTh2ZDNNdVpHVjJMbU5zYjNWa2JXVmthV0YwYjNJdWFXNWthV05wYjNSbFkyZ3VhVzh2ZDNNaUxDQWlZU0k2SUZzaVpHbGtZMjl0YlM5Mk1pSXNJQ0prYVdSamIyMXRMMkZwY0RJN1pXNTJQWEptWXpFNUlsMTlMQ0FpZENJNklDSmtiU0o5LlNleUp6SWpvZ0ltaDBkSEJ6T2k4dlpHVjJMbU5zYjNWa2JXVmthV0YwYjNJdWFXNWthV05wYjNSbFkyZ3VhVzh2YldWemMyRm5aU0lzSUNKaElqb2dXeUprYVdSamIyMXRMM1l5SWl3Z0ltUnBaR052YlcwdllXbHdNanRsYm5ZOWNtWmpNVGtpWFN3Z0luSmxZMmx3YVdWdWRFdGxlWE1pT2lCYklpTnJaWGt0TWlKZExDQWlkQ0k2SUNKa2FXUXRZMjl0YlhWdWFXTmhkR2x2YmlKOS5TZXlKeklqb2dJbmR6Y3pvdkwzZHpMbVJsZGk1amJHOTFaRzFsWkdsaGRHOXlMbWx1WkdsamFXOTBaV05vTG1sdkwzZHpJaXdnSW1FaU9pQmJJbVJwWkdOdmJXMHZkaklpTENBaVpHbGtZMjl0YlM5aGFYQXlPMlZ1ZGoxeVptTXhPU0pkTENBaWNtVmphWEJwWlc1MFMyVjVjeUk2SUZzaUkydGxlUzB5SWwwc0lDSjBJam9nSW1ScFpDMWpiMjF0ZFc1cFkyRjBhVzl1SW4wIiwiYSI6WyJkaWRjb21tL3YyIl19fQ'], 'typ': 'application/didcomm-plain+json', 'return_route': 'all'}\n"
     ]
    }
   ],
   "source": [
    "async def callback(msg):\n",
    "    print(msg)\n",
    "\n",
    "await quickstart.fetch_relayed_messages(dmp, did, RELAY_DID, callback)"
   ]
  },
  {
   "cell_type": "code",
   "execution_count": null,
   "id": "989393d3-884b-4a39-bf83-a83956f40c34",
   "metadata": {},
   "outputs": [],
   "source": []
  }
 ],
 "metadata": {
  "kernelspec": {
   "display_name": "Python 3 (ipykernel)",
   "language": "python",
   "name": "python3"
  },
  "language_info": {
   "codemirror_mode": {
    "name": "ipython",
    "version": 3
   },
   "file_extension": ".py",
   "mimetype": "text/x-python",
   "name": "python",
   "nbconvert_exporter": "python",
   "pygments_lexer": "ipython3",
   "version": "3.12.3"
  }
 },
 "nbformat": 4,
 "nbformat_minor": 5
}
