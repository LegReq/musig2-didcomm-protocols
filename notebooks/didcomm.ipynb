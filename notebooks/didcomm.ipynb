{
 "cells": [
  {
   "cell_type": "code",
   "execution_count": null,
   "id": "dea96915-42cd-4a26-acb3-3a032243583a",
   "metadata": {},
   "outputs": [],
   "source": [
    "from aries_askar import Key, KeyAlg\n",
    "from didcomm_messaging.crypto.backend.askar import AskarCryptoService, AskarSecretKey\n",
    "from didcomm_messaging.crypto.backend.basic import InMemorySecretsManager\n",
    "from didcomm_messaging.packaging import PackagingService\n",
    "from didcomm_messaging.multiformats import multibase\n",
    "from didcomm_messaging.multiformats import multicodec\n",
    "from didcomm_messaging.resolver.peer import Peer2, Peer4\n",
    "from didcomm_messaging.resolver import PrefixResolver\n",
    "from did_peer_2 import KeySpec, generate, json\n",
    "from didcomm_messaging import DIDCommMessaging\n",
    "from didcomm_messaging.routing import RoutingService\n",
    "from pydid.did import DID\n"
   ]
  },
  {
   "cell_type": "code",
   "execution_count": null,
   "id": "63aebd06-a186-4eee-bf1a-bda6fe3c93a7",
   "metadata": {},
   "outputs": [],
   "source": [
    "secrets = InMemorySecretsManager()\n",
    "crypto = AskarCryptoService()\n",
    "packaging = PackagingService()\n",
    "resolver = PrefixResolver({\"did:peer:2\": Peer2(), \"did:peer:4\": Peer4()})\n",
    "\n",
    "verkey = Key.generate(KeyAlg.ED25519)\n",
    "xkey = Key.generate(KeyAlg.X25519)\n",
    "did = generate(\n",
    "    [\n",
    "        KeySpec.verification(\n",
    "            multibase.encode(\n",
    "                multicodec.wrap(\"ed25519-pub\", verkey.get_public_bytes()),\n",
    "                \"base58btc\",\n",
    "            )\n",
    "        ),\n",
    "        KeySpec.key_agreement(\n",
    "            multibase.encode(\n",
    "                multicodec.wrap(\"x25519-pub\", xkey.get_public_bytes()), \"base58btc\"\n",
    "            )\n",
    "        ),\n",
    "    ],\n",
    "    [\n",
    "                {\n",
    "                    \"type\": \"DIDCommMessaging\",\n",
    "                    \"serviceEndpoint\": {\n",
    "                        \"uri\": \"ws://localhost:8765\",\n",
    "                        \"accept\": [\"didcomm/v2\"],\n",
    "                        \"routingKeys\": [],\n",
    "                    },\n",
    "                },\n",
    "    ],\n",
    ")\n",
    "await secrets.add_secret(AskarSecretKey(verkey, f\"{did}#key-1\"))\n",
    "await secrets.add_secret(AskarSecretKey(xkey, f\"{did}#key-2\"))\n",
    "print(did)\n",
    "message = b\"hello world\"\n",
    "packed = await packaging.pack(crypto, resolver, secrets, message, [did], did)\n",
    "print(json.dumps(json.loads(packed), indent=2))\n",
    "unpacked = await packaging.unpack(crypto, resolver, secrets, packed)\n",
    "print(unpacked)"
   ]
  },
  {
   "cell_type": "code",
   "execution_count": null,
   "id": "e4444061-d95e-4477-a797-586b49e74eec",
   "metadata": {},
   "outputs": [],
   "source": [
    "router = RoutingService()\n",
    "\n",
    "dmp = DIDCommMessaging(\n",
    "    crypto=crypto,\n",
    "    secrets=secrets,\n",
    "    resolver=resolver,\n",
    "    packaging=packaging,\n",
    "    routing=router,\n",
    ")\n"
   ]
  },
  {
   "cell_type": "code",
   "execution_count": null,
   "id": "b5b7bbad-9b26-42c0-b7ba-6dde32b1e7d7",
   "metadata": {},
   "outputs": [],
   "source": [
    "did"
   ]
  },
  {
   "cell_type": "code",
   "execution_count": null,
   "id": "70b4017b-c280-49a6-875f-690996e3ea39",
   "metadata": {},
   "outputs": [],
   "source": [
    "import uuid\n",
    "message = {\n",
    "        \"type\": \"https://didcomm.org/musig2/join\",\n",
    "        \"id\": str(uuid.uuid4()),\n",
    "        \"body\": {},\n",
    "        \"from\": did,\n",
    "        \"to\": [did],\n",
    "    }"
   ]
  },
  {
   "cell_type": "code",
   "execution_count": null,
   "id": "92b4ac8e-5e65-498c-8571-d696ddddadab",
   "metadata": {},
   "outputs": [],
   "source": [
    "packy = await dmp.pack(\n",
    "        message=message,\n",
    "        to=did,\n",
    "        frm=did,\n",
    "    )\n",
    "packed = packy.message\n",
    "\n",
    "# Get the first http endpoint from the last DID in the DID chain\n",
    "endpoint = packy.get_endpoint(\"ws\")"
   ]
  },
  {
   "cell_type": "code",
   "execution_count": null,
   "id": "f2622d62-f98f-4ce5-b324-263acaf605a1",
   "metadata": {},
   "outputs": [],
   "source": [
    "packed"
   ]
  },
  {
   "cell_type": "code",
   "execution_count": null,
   "id": "2e2a58fb-0ce9-4a98-80f0-9f2132b67408",
   "metadata": {},
   "outputs": [],
   "source": [
    "import asyncio\n",
    "import websockets\n",
    "\n",
    "# This handler will be called for every client connection.\n",
    "async def echo(websocket):\n",
    "    print(\"Client connected\")\n",
    "    try:\n",
    "        async for message in websocket:\n",
    "            print(f\"Received: {message}\")\n",
    "            # Echo the received message back to the client.\n",
    "            await websocket.send(f\"Echo: {message}\")\n",
    "\n",
    "            unpacked =  await dmp.packaging.unpack(crypto, resolver, secrets,message)\n",
    "            print(f\"Unpacked Message : {unpacked}\")\n",
    "    except websockets.exceptions.ConnectionClosed as e:\n",
    "        print(\"Connection closed\", e)\n",
    "\n",
    "# The main function to start the server.\n",
    "async def run_websocket():\n",
    "    # Start the server on localhost at port 8765.\n",
    "    async with websockets.serve(echo, \"localhost\", 8765):\n",
    "        print(\"WebSocket server started on ws://localhost:8765\")\n",
    "        # Run the server until it is manually stopped.\n",
    "        await asyncio.Future()  # Run forever\n",
    "\n"
   ]
  },
  {
   "cell_type": "code",
   "execution_count": null,
   "id": "deddf91e-9e22-42d0-9fcb-0c132abe41f3",
   "metadata": {},
   "outputs": [],
   "source": [
    "asyncio.create_task(run_websocket())"
   ]
  },
  {
   "cell_type": "code",
   "execution_count": null,
   "id": "0cc5f26c-0357-4cb8-a63d-66a8d126d627",
   "metadata": {},
   "outputs": [],
   "source": []
  },
  {
   "cell_type": "code",
   "execution_count": null,
   "id": "843c7da7-8018-4032-8fb2-da27b9a853cf",
   "metadata": {},
   "outputs": [],
   "source": [
    "async def send_message(endpoint, packed):\n",
    "    async with websockets.connect(endpoint) as websocket:\n",
    "        message = \"Hello from the client!\"\n",
    "        print(f\"Sending message: {packed}\")\n",
    "        await websocket.send(packed)  # Send message to the server\n",
    "        \n",
    "        response = await websocket.recv()  # Wait for the server's response\n",
    "        print(f\"Received response: {response}\")"
   ]
  },
  {
   "cell_type": "code",
   "execution_count": null,
   "id": "a043c35f-500f-43dd-aa68-73ba6cf4cb7e",
   "metadata": {},
   "outputs": [],
   "source": [
    "asyncio.create_task(send_message(endpoint, packed))"
   ]
  },
  {
   "cell_type": "code",
   "execution_count": null,
   "id": "c03b4cdc-6d3d-4ae9-9840-4cbe4284f814",
   "metadata": {},
   "outputs": [],
   "source": [
    "endpoint"
   ]
  },
  {
   "cell_type": "code",
   "execution_count": null,
   "id": "bd05270c-79e7-4f6e-9a52-740a754f8237",
   "metadata": {},
   "outputs": [],
   "source": []
  }
 ],
 "metadata": {
  "kernelspec": {
   "display_name": "Python 3 (ipykernel)",
   "language": "python",
   "name": "python3"
  },
  "language_info": {
   "codemirror_mode": {
    "name": "ipython",
    "version": 3
   },
   "file_extension": ".py",
   "mimetype": "text/x-python",
   "name": "python",
   "nbconvert_exporter": "python",
   "pygments_lexer": "ipython3",
   "version": "3.12.3"
  }
 },
 "nbformat": 4,
 "nbformat_minor": 5
}
