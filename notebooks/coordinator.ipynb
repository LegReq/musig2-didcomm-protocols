{
 "cells": [
  {
   "cell_type": "markdown",
   "id": "f026f330-3909-4fd5-bf3e-25d0df111cfb",
   "metadata": {},
   "source": [
    "# Coordinator of a MuSig2 Protocol.\n",
    "\n",
    "This notebook demonstrates how to use the Coordinator class to establish an 2-of-2 musig2 cohort for a btc1 SMTAggregate beacon and coordinate the signing of a Beacon signal with all cohort participants.\n",
    "\n",
    "The coordinator class makes use of the python didcomm-messaging library for the packaging and encryption of messages. These encrypted messages are then sent over websocket to an endpoint defined in the cohort participants DID documents.\n",
    "\n",
    "Initially, this example uses did:peer as the DID method against which participants and coordinators identify themselves too each other. Furthermore, the didcomm messaging library currently requires that Ed25519 keys are used to encrypt the symmetric key that is used to encrypt each message. \n",
    "\n",
    "In the future we would replace did:peer with did:btc1 and Ed25519 keys with secp256k1. This appears possible without too much additional lift."
   ]
  },
  {
   "cell_type": "code",
   "execution_count": 19,
   "id": "7b046e31-1bda-482d-af32-d77a5de60253",
   "metadata": {},
   "outputs": [],
   "source": [
    "import asyncio\n",
    "from musig2_protocols.beacon_coordinator import BeaconCoordinator\n",
    "from buidl.hd import HDPrivateKey, secure_mnemonic\n",
    "import json"
   ]
  },
  {
   "cell_type": "markdown",
   "id": "8770348d-b58c-4ccb-9ca1-bb1c360a6fc8",
   "metadata": {},
   "source": [
    "# Generate a HD Key\n",
    "\n",
    "Actually, the coordinator does not need a HDKey in the example as it is currently developed. "
   ]
  },
  {
   "cell_type": "code",
   "execution_count": 7,
   "id": "0da16d8a-c3a1-4cdb-8400-486e8c46b3c8",
   "metadata": {},
   "outputs": [],
   "source": [
    "secure_mnemonic = secure_mnemonic()\n",
    "hd_priv = HDPrivateKey.from_mnemonic(secure_mnemonic)"
   ]
  },
  {
   "cell_type": "markdown",
   "id": "120562dd-ea1e-4398-8e90-5f982864b44b",
   "metadata": {},
   "source": [
    "# Define DIDComm Messaging host and port"
   ]
  },
  {
   "cell_type": "code",
   "execution_count": 8,
   "id": "7f7711b6-85cc-4a77-9515-6e9f195db792",
   "metadata": {},
   "outputs": [],
   "source": [
    "didcomm_host = \"localhost\"\n",
    "didcomm_port = 8765"
   ]
  },
  {
   "cell_type": "markdown",
   "id": "c298ce86-f3f0-49ed-a67b-f083b128f8b1",
   "metadata": {},
   "source": [
    "# Instantiate a Coordinator\n",
    "\n",
    "This creates a BeaconCoordinator and registers the appropriate default handlers for handling the messages of the musig2 keygen and signing protocols."
   ]
  },
  {
   "cell_type": "code",
   "execution_count": 12,
   "id": "9b03e91c-9655-4fe0-9c2e-bf7cbdf68ede",
   "metadata": {},
   "outputs": [
    {
     "name": "stdout",
     "output_type": "stream",
     "text": [
      "Coordinator: Registering handler for message type https://btc1.tools/musig2/keygen/subscribe\n",
      "Coordinator: Registering handler for message type https://btc1.tools/musig2/keygen/opt_in\n",
      "Coordinator: Registering handler for message type https://btc1.tools/musig2/sign/request_signature\n",
      "Coordinator: Registering handler for message type https://btc1.tools/musig2/sign/nonce_contribution\n",
      "Coordinator: Registering handler for message type https://btc1.tools/musig2/sign/signature_authorization\n"
     ]
    }
   ],
   "source": [
    "# Name is for logging purposes\n",
    "name = \"Beacon Coordinator\"\n",
    "coordinator = await BeaconCoordinator.create(\n",
    "        name=\"Coordinator\", \n",
    "        port=didcomm_port,\n",
    "        host=didcomm_host\n",
    "    )"
   ]
  },
  {
   "cell_type": "code",
   "execution_count": 16,
   "id": "820335b6-182f-4b47-be71-609af3d881f7",
   "metadata": {},
   "outputs": [
    {
     "data": {
      "text/plain": [
       "'did:peer:2.Vz6MkgExXQ5es6n7Fie6SdyEdhYgYA5VDtzDwCJUGWGspWemo.Ez6LSePN8SKTBYuyMjpYZrYjFqoKARsnrPqYwBuRSByoLX8bP.SeyJ0IjoiZG0iLCJzIjp7InVyaSI6IndzOi8vbG9jYWxob3N0Ojg3NjUiLCJhIjpbImRpZGNvbW0vdjIiXSwiciI6W119fQ'"
      ]
     },
     "execution_count": 16,
     "metadata": {},
     "output_type": "execute_result"
    }
   ],
   "source": [
    "# A did:peer is generated for the coordinator\n",
    "# Future iterations will make this one DID per cohort participant\n",
    "# With a public DID for subscribing \n",
    "did = coordinator.did\n",
    "did"
   ]
  },
  {
   "cell_type": "markdown",
   "id": "87ecc2a8-ef14-4cc7-a983-b0dc437978d5",
   "metadata": {},
   "source": [
    "## Resolve the DID\n",
    "\n",
    "The DID can be resolved to its DID document, which contains a verificationMethod that can be used for Key Agreement (#key-2) and a DIDCommMessaging service with a service endpoint identifying the websocket that participants should send DIDComm messages to."
   ]
  },
  {
   "cell_type": "code",
   "execution_count": 17,
   "id": "3435502a-cd72-4a6f-87f9-0aa393fa3663",
   "metadata": {},
   "outputs": [],
   "source": [
    "from didcomm_messaging.resolver.peer import Peer2, Peer4\n",
    "from didcomm_messaging.resolver import PrefixResolver\n",
    "resolver = PrefixResolver({\"did:peer:2\": Peer2(), \"did:peer:4\": Peer4()})\n"
   ]
  },
  {
   "cell_type": "code",
   "execution_count": 20,
   "id": "c598bbbb-4755-4a21-af4e-6d75e8539d8c",
   "metadata": {},
   "outputs": [
    {
     "name": "stdout",
     "output_type": "stream",
     "text": [
      "{\n",
      "  \"@context\": [\n",
      "    \"https://www.w3.org/ns/did/v1\",\n",
      "    \"https://w3id.org/security/multikey/v1\"\n",
      "  ],\n",
      "  \"id\": \"did:peer:2.Vz6MkgExXQ5es6n7Fie6SdyEdhYgYA5VDtzDwCJUGWGspWemo.Ez6LSePN8SKTBYuyMjpYZrYjFqoKARsnrPqYwBuRSByoLX8bP.SeyJ0IjoiZG0iLCJzIjp7InVyaSI6IndzOi8vbG9jYWxob3N0Ojg3NjUiLCJhIjpbImRpZGNvbW0vdjIiXSwiciI6W119fQ\",\n",
      "  \"verificationMethod\": [\n",
      "    {\n",
      "      \"type\": \"Multikey\",\n",
      "      \"id\": \"#key-1\",\n",
      "      \"controller\": \"did:peer:2.Vz6MkgExXQ5es6n7Fie6SdyEdhYgYA5VDtzDwCJUGWGspWemo.Ez6LSePN8SKTBYuyMjpYZrYjFqoKARsnrPqYwBuRSByoLX8bP.SeyJ0IjoiZG0iLCJzIjp7InVyaSI6IndzOi8vbG9jYWxob3N0Ojg3NjUiLCJhIjpbImRpZGNvbW0vdjIiXSwiciI6W119fQ\",\n",
      "      \"publicKeyMultibase\": \"z6MkgExXQ5es6n7Fie6SdyEdhYgYA5VDtzDwCJUGWGspWemo\"\n",
      "    },\n",
      "    {\n",
      "      \"type\": \"Multikey\",\n",
      "      \"id\": \"#key-2\",\n",
      "      \"controller\": \"did:peer:2.Vz6MkgExXQ5es6n7Fie6SdyEdhYgYA5VDtzDwCJUGWGspWemo.Ez6LSePN8SKTBYuyMjpYZrYjFqoKARsnrPqYwBuRSByoLX8bP.SeyJ0IjoiZG0iLCJzIjp7InVyaSI6IndzOi8vbG9jYWxob3N0Ojg3NjUiLCJhIjpbImRpZGNvbW0vdjIiXSwiciI6W119fQ\",\n",
      "      \"publicKeyMultibase\": \"z6LSePN8SKTBYuyMjpYZrYjFqoKARsnrPqYwBuRSByoLX8bP\"\n",
      "    }\n",
      "  ],\n",
      "  \"authentication\": [\n",
      "    \"#key-1\"\n",
      "  ],\n",
      "  \"keyAgreement\": [\n",
      "    \"#key-2\"\n",
      "  ],\n",
      "  \"service\": [\n",
      "    {\n",
      "      \"type\": \"DIDCommMessaging\",\n",
      "      \"serviceEndpoint\": {\n",
      "        \"uri\": \"ws://localhost:8765\",\n",
      "        \"accept\": [\n",
      "          \"didcomm/v2\"\n",
      "        ],\n",
      "        \"routingKeys\": []\n",
      "      },\n",
      "      \"id\": \"#service\"\n",
      "    }\n",
      "  ],\n",
      "  \"alsoKnownAs\": [\n",
      "    \"did:peer:3zQmcgN5BxSUkf3NGwUrBH36E6ce7U3Gsp4gCJ4Gj285ydwk\"\n",
      "  ]\n",
      "}\n"
     ]
    }
   ],
   "source": [
    "did_document = await resolver.resolve(did)\n",
    "print(json.dumps(did_document, indent=2))"
   ]
  },
  {
   "cell_type": "markdown",
   "id": "06864332-b212-484c-8690-775d67e4197a",
   "metadata": {},
   "source": [
    "## Start Coordinator \n",
    "\n",
    "This starts up the websocket defined in the DID document so that the coordinator is ready to receive messages"
   ]
  },
  {
   "cell_type": "code",
   "execution_count": 22,
   "id": "a654b206-e0c2-495a-b6b4-90d5ee742075",
   "metadata": {},
   "outputs": [
    {
     "name": "stdout",
     "output_type": "stream",
     "text": [
      "Coordinator: Starting websocket server on ws://localhost:8765\n",
      "Coordinator: WebSocket server started successfully\n",
      "Coordinator: New client connected\n",
      "Coordinator: Received raw message\n",
      "Coordinator: Successfully unpacked message: {\n",
      "  \"type\": \"https://btc1.tools/musig2/keygen/subscribe\",\n",
      "  \"id\": \"d6305d82-872c-4641-96bb-fb556715a1fd\",\n",
      "  \"to\": \"did:peer:2.Vz6MkgExXQ5es6n7Fie6SdyEdhYgYA5VDtzDwCJUGWGspWemo.Ez6LSePN8SKTBYuyMjpYZrYjFqoKARsnrPqYwBuRSByoLX8bP.SeyJ0IjoiZG0iLCJzIjp7InVyaSI6IndzOi8vbG9jYWxob3N0Ojg3NjUiLCJhIjpbImRpZGNvbW0vdjIiXSwiciI6W119fQ\",\n",
      "  \"from\": \"did:peer:2.Vz6MkrW4B8Pyv89nQ3EdN3zCGrLEgEZ5VqsSXjqjhjuwjSzFc.Ez6LSboVcakMcH613b8S6jFgEuA4byKMZSndk7yTUtp928DL2.SeyJ0IjoiZG0iLCJzIjp7InVyaSI6IndzOi8vbG9jYWxob3N0Ojg3NjYiLCJhIjpbImRpZGNvbW0vdjIiXSwiciI6W119fQ\",\n",
      "  \"body\": {}\n",
      "}\n",
      "Routing - https://btc1.tools/musig2/keygen/subscribe\n",
      "Coordinator: Preparing to send message to did:peer:2.Vz6MkrW4B8Pyv89nQ3EdN3zCGrLEgEZ5VqsSXjqjhjuwjSzFc.Ez6LSboVcakMcH613b8S6jFgEuA4byKMZSndk7yTUtp928DL2.SeyJ0IjoiZG0iLCJzIjp7InVyaSI6IndzOi8vbG9jYWxob3N0Ojg3NjYiLCJhIjpbImRpZGNvbW0vdjIiXSwiciI6W119fQ\n",
      "Coordinator: Got endpoint ws://localhost:8766 for message to did:peer:2.Vz6MkrW4B8Pyv89nQ3EdN3zCGrLEgEZ5VqsSXjqjhjuwjSzFc.Ez6LSboVcakMcH613b8S6jFgEuA4byKMZSndk7yTUtp928DL2.SeyJ0IjoiZG0iLCJzIjp7InVyaSI6IndzOi8vbG9jYWxob3N0Ojg3NjYiLCJhIjpbImRpZGNvbW0vdjIiXSwiciI6W119fQ\n",
      "Coordinator: Added message to queue for ws://localhost:8766\n",
      "Coordinator: Starting queue processor for ws://localhost:8766\n",
      "Coordinator: Starting message queue processor for ws://localhost:8766\n",
      "Coordinator: Processing message from queue for ws://localhost:8766\n",
      "Coordinator: Creating new connection to ws://localhost:8766\n",
      "Coordinator: Successfully connected to ws://localhost:8766\n",
      "Coordinator: Sending message to ws://localhost:8766\n",
      "Coordinator: New client connected\n",
      "Coordinator: Received raw message\n",
      "Coordinator: Successfully unpacked message: {\n",
      "  \"type\": \"https://btc1.tools/musig2/keygen/subscribe\",\n",
      "  \"id\": \"524fb7a0-0135-4af3-9eb2-aa22a383da28\",\n",
      "  \"to\": \"did:peer:2.Vz6MkgExXQ5es6n7Fie6SdyEdhYgYA5VDtzDwCJUGWGspWemo.Ez6LSePN8SKTBYuyMjpYZrYjFqoKARsnrPqYwBuRSByoLX8bP.SeyJ0IjoiZG0iLCJzIjp7InVyaSI6IndzOi8vbG9jYWxob3N0Ojg3NjUiLCJhIjpbImRpZGNvbW0vdjIiXSwiciI6W119fQ\",\n",
      "  \"from\": \"did:peer:2.Vz6Mkq8t1GaVjQ5zf8PnnahySB2bHukdVVCUpYQiAf2Uxisxx.Ez6LSqKuutdBvc8zyQkSjJZ7zUBbopj7VDMhasaGLEZYSwsxL.SeyJ0IjoiZG0iLCJzIjp7InVyaSI6IndzOi8vbG9jYWxob3N0Ojg3NjciLCJhIjpbImRpZGNvbW0vdjIiXSwiciI6W119fQ\",\n",
      "  \"body\": {}\n",
      "}\n",
      "Routing - https://btc1.tools/musig2/keygen/subscribe\n",
      "Coordinator: Preparing to send message to did:peer:2.Vz6Mkq8t1GaVjQ5zf8PnnahySB2bHukdVVCUpYQiAf2Uxisxx.Ez6LSqKuutdBvc8zyQkSjJZ7zUBbopj7VDMhasaGLEZYSwsxL.SeyJ0IjoiZG0iLCJzIjp7InVyaSI6IndzOi8vbG9jYWxob3N0Ojg3NjciLCJhIjpbImRpZGNvbW0vdjIiXSwiciI6W119fQ\n",
      "Coordinator: Got endpoint ws://localhost:8767 for message to did:peer:2.Vz6Mkq8t1GaVjQ5zf8PnnahySB2bHukdVVCUpYQiAf2Uxisxx.Ez6LSqKuutdBvc8zyQkSjJZ7zUBbopj7VDMhasaGLEZYSwsxL.SeyJ0IjoiZG0iLCJzIjp7InVyaSI6IndzOi8vbG9jYWxob3N0Ojg3NjciLCJhIjpbImRpZGNvbW0vdjIiXSwiciI6W119fQ\n",
      "Coordinator: Added message to queue for ws://localhost:8767\n",
      "Coordinator: Starting queue processor for ws://localhost:8767\n",
      "Coordinator: Starting message queue processor for ws://localhost:8767\n",
      "Coordinator: Processing message from queue for ws://localhost:8767\n",
      "Coordinator: Creating new connection to ws://localhost:8767\n",
      "Coordinator: Successfully connected to ws://localhost:8767\n",
      "Coordinator: Sending message to ws://localhost:8767\n",
      "Coordinator: Processing message from queue for ws://localhost:8766\n",
      "Coordinator: Sending message to ws://localhost:8766\n",
      "Coordinator: Processing message from queue for ws://localhost:8767\n",
      "Coordinator: Sending message to ws://localhost:8767\n",
      "Coordinator: Received raw message\n",
      "Coordinator: Successfully unpacked message: {\n",
      "  \"type\": \"https://btc1.tools/musig2/keygen/opt_in\",\n",
      "  \"id\": \"162a1e32-74fc-4030-8d34-50574f7063ad\",\n",
      "  \"to\": \"did:peer:2.Vz6MkgExXQ5es6n7Fie6SdyEdhYgYA5VDtzDwCJUGWGspWemo.Ez6LSePN8SKTBYuyMjpYZrYjFqoKARsnrPqYwBuRSByoLX8bP.SeyJ0IjoiZG0iLCJzIjp7InVyaSI6IndzOi8vbG9jYWxob3N0Ojg3NjUiLCJhIjpbImRpZGNvbW0vdjIiXSwiciI6W119fQ\",\n",
      "  \"from\": \"did:peer:2.Vz6Mkq8t1GaVjQ5zf8PnnahySB2bHukdVVCUpYQiAf2Uxisxx.Ez6LSqKuutdBvc8zyQkSjJZ7zUBbopj7VDMhasaGLEZYSwsxL.SeyJ0IjoiZG0iLCJzIjp7InVyaSI6IndzOi8vbG9jYWxob3N0Ojg3NjciLCJhIjpbImRpZGNvbW0vdjIiXSwiciI6W119fQ\",\n",
      "  \"body\": {\n",
      "    \"cohort_id\": \"bacfedf0-428d-4b84-bd9e-75b217b93f7c\",\n",
      "    \"participant_pk\": \"02c4bef2abaaf128b7a96e689031770252533c6848739077a05032e607e2377997\"\n",
      "  }\n",
      "}\n",
      "Routing - https://btc1.tools/musig2/keygen/opt_in\n",
      "Coordinator: Received raw message\n",
      "Coordinator: Successfully unpacked message: {\n",
      "  \"type\": \"https://btc1.tools/musig2/keygen/opt_in\",\n",
      "  \"id\": \"0cc3367a-e0a8-43f3-a956-0ad6fbc26176\",\n",
      "  \"to\": \"did:peer:2.Vz6MkgExXQ5es6n7Fie6SdyEdhYgYA5VDtzDwCJUGWGspWemo.Ez6LSePN8SKTBYuyMjpYZrYjFqoKARsnrPqYwBuRSByoLX8bP.SeyJ0IjoiZG0iLCJzIjp7InVyaSI6IndzOi8vbG9jYWxob3N0Ojg3NjUiLCJhIjpbImRpZGNvbW0vdjIiXSwiciI6W119fQ\",\n",
      "  \"from\": \"did:peer:2.Vz6MkrW4B8Pyv89nQ3EdN3zCGrLEgEZ5VqsSXjqjhjuwjSzFc.Ez6LSboVcakMcH613b8S6jFgEuA4byKMZSndk7yTUtp928DL2.SeyJ0IjoiZG0iLCJzIjp7InVyaSI6IndzOi8vbG9jYWxob3N0Ojg3NjYiLCJhIjpbImRpZGNvbW0vdjIiXSwiciI6W119fQ\",\n",
      "  \"body\": {\n",
      "    \"cohort_id\": \"bacfedf0-428d-4b84-bd9e-75b217b93f7c\",\n",
      "    \"participant_pk\": \"033502603d2521611c61d28c7f1d4df61cc8dcaa69d07a8720f600a5f86d8fe987\"\n",
      "  }\n",
      "}\n",
      "Routing - https://btc1.tools/musig2/keygen/opt_in\n",
      "Starting key generation for cohort bacfedf0-428d-4b84-bd9e-75b217b93f7c\n",
      "Sending COHORT_SET message to did:peer:2.Vz6Mkq8t1GaVjQ5zf8PnnahySB2bHukdVVCUpYQiAf2Uxisxx.Ez6LSqKuutdBvc8zyQkSjJZ7zUBbopj7VDMhasaGLEZYSwsxL.SeyJ0IjoiZG0iLCJzIjp7InVyaSI6IndzOi8vbG9jYWxob3N0Ojg3NjciLCJhIjpbImRpZGNvbW0vdjIiXSwiciI6W119fQ\n",
      "Coordinator: Preparing to send message to did:peer:2.Vz6Mkq8t1GaVjQ5zf8PnnahySB2bHukdVVCUpYQiAf2Uxisxx.Ez6LSqKuutdBvc8zyQkSjJZ7zUBbopj7VDMhasaGLEZYSwsxL.SeyJ0IjoiZG0iLCJzIjp7InVyaSI6IndzOi8vbG9jYWxob3N0Ojg3NjciLCJhIjpbImRpZGNvbW0vdjIiXSwiciI6W119fQ\n",
      "Coordinator: Got endpoint ws://localhost:8767 for message to did:peer:2.Vz6Mkq8t1GaVjQ5zf8PnnahySB2bHukdVVCUpYQiAf2Uxisxx.Ez6LSqKuutdBvc8zyQkSjJZ7zUBbopj7VDMhasaGLEZYSwsxL.SeyJ0IjoiZG0iLCJzIjp7InVyaSI6IndzOi8vbG9jYWxob3N0Ojg3NjciLCJhIjpbImRpZGNvbW0vdjIiXSwiciI6W119fQ\n",
      "Coordinator: Added message to queue for ws://localhost:8767\n",
      "Sending COHORT_SET message to did:peer:2.Vz6MkrW4B8Pyv89nQ3EdN3zCGrLEgEZ5VqsSXjqjhjuwjSzFc.Ez6LSboVcakMcH613b8S6jFgEuA4byKMZSndk7yTUtp928DL2.SeyJ0IjoiZG0iLCJzIjp7InVyaSI6IndzOi8vbG9jYWxob3N0Ojg3NjYiLCJhIjpbImRpZGNvbW0vdjIiXSwiciI6W119fQ\n",
      "Coordinator: Preparing to send message to did:peer:2.Vz6MkrW4B8Pyv89nQ3EdN3zCGrLEgEZ5VqsSXjqjhjuwjSzFc.Ez6LSboVcakMcH613b8S6jFgEuA4byKMZSndk7yTUtp928DL2.SeyJ0IjoiZG0iLCJzIjp7InVyaSI6IndzOi8vbG9jYWxob3N0Ojg3NjYiLCJhIjpbImRpZGNvbW0vdjIiXSwiciI6W119fQ\n",
      "Coordinator: Got endpoint ws://localhost:8766 for message to did:peer:2.Vz6MkrW4B8Pyv89nQ3EdN3zCGrLEgEZ5VqsSXjqjhjuwjSzFc.Ez6LSboVcakMcH613b8S6jFgEuA4byKMZSndk7yTUtp928DL2.SeyJ0IjoiZG0iLCJzIjp7InVyaSI6IndzOi8vbG9jYWxob3N0Ojg3NjYiLCJhIjpbImRpZGNvbW0vdjIiXSwiciI6W119fQ\n",
      "Coordinator: Added message to queue for ws://localhost:8766\n",
      "Finished sending COHORT_SET message to 2 participants\n",
      "Coordinator: Processing message from queue for ws://localhost:8767\n",
      "Coordinator: Sending message to ws://localhost:8767\n",
      "Coordinator: Processing message from queue for ws://localhost:8766\n",
      "Coordinator: Sending message to ws://localhost:8766\n",
      "Coordinator: Received raw message\n",
      "Coordinator: Successfully unpacked message: {\n",
      "  \"type\": \"https://btc1.tools/musig2/sign/request_signature\",\n",
      "  \"id\": \"bec6e0b3-cd0b-47cf-9f83-ae6bfbc23f01\",\n",
      "  \"to\": \"did:peer:2.Vz6MkgExXQ5es6n7Fie6SdyEdhYgYA5VDtzDwCJUGWGspWemo.Ez6LSePN8SKTBYuyMjpYZrYjFqoKARsnrPqYwBuRSByoLX8bP.SeyJ0IjoiZG0iLCJzIjp7InVyaSI6IndzOi8vbG9jYWxob3N0Ojg3NjUiLCJhIjpbImRpZGNvbW0vdjIiXSwiciI6W119fQ\",\n",
      "  \"from\": \"did:peer:2.Vz6Mkq8t1GaVjQ5zf8PnnahySB2bHukdVVCUpYQiAf2Uxisxx.Ez6LSqKuutdBvc8zyQkSjJZ7zUBbopj7VDMhasaGLEZYSwsxL.SeyJ0IjoiZG0iLCJzIjp7InVyaSI6IndzOi8vbG9jYWxob3N0Ojg3NjciLCJhIjpbImRpZGNvbW0vdjIiXSwiciI6W119fQ\",\n",
      "  \"body\": {\n",
      "    \"cohort_id\": \"bacfedf0-428d-4b84-bd9e-75b217b93f7c\",\n",
      "    \"data\": \"Hello, world!\"\n",
      "  },\n",
      "  \"thread_id\": \"3ebc5c96-5b05-497a-97d7-beed9b9c2829\"\n",
      "}\n",
      "Routing - https://btc1.tools/musig2/sign/request_signature\n",
      "Received signature request from did:peer:2.Vz6Mkq8t1GaVjQ5zf8PnnahySB2bHukdVVCUpYQiAf2Uxisxx.Ez6LSqKuutdBvc8zyQkSjJZ7zUBbopj7VDMhasaGLEZYSwsxL.SeyJ0IjoiZG0iLCJzIjp7InVyaSI6IndzOi8vbG9jYWxob3N0Ojg3NjciLCJhIjpbImRpZGNvbW0vdjIiXSwiciI6W119fQ for cohort bacfedf0-428d-4b84-bd9e-75b217b93f7c\n",
      "Coordinator: Processing message from queue for ws://localhost:8767\n",
      "Coordinator: Sending message to ws://localhost:8767\n",
      "Coordinator: Processing message from queue for ws://localhost:8766\n",
      "Coordinator: Sending message to ws://localhost:8766\n",
      "Coordinator: Received raw message\n",
      "Coordinator: Successfully unpacked message: {\n",
      "  \"type\": \"https://btc1.tools/musig2/sign/nonce_contribution\",\n",
      "  \"id\": \"e6edd32e-d06b-48c9-8786-221836c3d35f\",\n",
      "  \"to\": \"did:peer:2.Vz6MkgExXQ5es6n7Fie6SdyEdhYgYA5VDtzDwCJUGWGspWemo.Ez6LSePN8SKTBYuyMjpYZrYjFqoKARsnrPqYwBuRSByoLX8bP.SeyJ0IjoiZG0iLCJzIjp7InVyaSI6IndzOi8vbG9jYWxob3N0Ojg3NjUiLCJhIjpbImRpZGNvbW0vdjIiXSwiciI6W119fQ\",\n",
      "  \"from\": \"did:peer:2.Vz6MkrW4B8Pyv89nQ3EdN3zCGrLEgEZ5VqsSXjqjhjuwjSzFc.Ez6LSboVcakMcH613b8S6jFgEuA4byKMZSndk7yTUtp928DL2.SeyJ0IjoiZG0iLCJzIjp7InVyaSI6IndzOi8vbG9jYWxob3N0Ojg3NjYiLCJhIjpbImRpZGNvbW0vdjIiXSwiciI6W119fQ\",\n",
      "  \"body\": {\n",
      "    \"session_id\": \"33356846-6e12-431d-ae02-387a1f5f3894\",\n",
      "    \"cohort_id\": \"bacfedf0-428d-4b84-bd9e-75b217b93f7c\",\n",
      "    \"nonce_contribution\": [\n",
      "      \"02df10fe476af83aedee7a4f597690a1e498cc247050a610473ed5d47588e2074e\",\n",
      "      \"021ddab44cde0d08f0cd458fbe1c37ca1cbad1f0233277ee867b2c41f952b25cca\"\n",
      "    ]\n",
      "  }\n",
      "}\n",
      "Routing - https://btc1.tools/musig2/sign/nonce_contribution\n",
      "Received nonce contribution from did:peer:2.Vz6MkrW4B8Pyv89nQ3EdN3zCGrLEgEZ5VqsSXjqjhjuwjSzFc.Ez6LSboVcakMcH613b8S6jFgEuA4byKMZSndk7yTUtp928DL2.SeyJ0IjoiZG0iLCJzIjp7InVyaSI6IndzOi8vbG9jYWxob3N0Ojg3NjYiLCJhIjpbImRpZGNvbW0vdjIiXSwiciI6W119fQ for session 33356846-6e12-431d-ae02-387a1f5f3894\n",
      "Coordinator: Received raw message\n",
      "Coordinator: Successfully unpacked message: {\n",
      "  \"type\": \"https://btc1.tools/musig2/sign/nonce_contribution\",\n",
      "  \"id\": \"b96a6667-a166-410c-bf9b-4be082e62a1e\",\n",
      "  \"to\": \"did:peer:2.Vz6MkgExXQ5es6n7Fie6SdyEdhYgYA5VDtzDwCJUGWGspWemo.Ez6LSePN8SKTBYuyMjpYZrYjFqoKARsnrPqYwBuRSByoLX8bP.SeyJ0IjoiZG0iLCJzIjp7InVyaSI6IndzOi8vbG9jYWxob3N0Ojg3NjUiLCJhIjpbImRpZGNvbW0vdjIiXSwiciI6W119fQ\",\n",
      "  \"from\": \"did:peer:2.Vz6Mkq8t1GaVjQ5zf8PnnahySB2bHukdVVCUpYQiAf2Uxisxx.Ez6LSqKuutdBvc8zyQkSjJZ7zUBbopj7VDMhasaGLEZYSwsxL.SeyJ0IjoiZG0iLCJzIjp7InVyaSI6IndzOi8vbG9jYWxob3N0Ojg3NjciLCJhIjpbImRpZGNvbW0vdjIiXSwiciI6W119fQ\",\n",
      "  \"body\": {\n",
      "    \"session_id\": \"33356846-6e12-431d-ae02-387a1f5f3894\",\n",
      "    \"cohort_id\": \"bacfedf0-428d-4b84-bd9e-75b217b93f7c\",\n",
      "    \"nonce_contribution\": [\n",
      "      \"0378abed35d5c909ca3a031fcaa5c6068d3e0804ae892bbbbefd7ba6e5e37f3e43\",\n",
      "      \"024ea2f68b4a192c90a4738e93ad12127577ef7a9e9a7c0fafd5dd530622a16374\"\n",
      "    ]\n",
      "  }\n",
      "}\n",
      "Routing - https://btc1.tools/musig2/sign/nonce_contribution\n",
      "Received nonce contribution from did:peer:2.Vz6Mkq8t1GaVjQ5zf8PnnahySB2bHukdVVCUpYQiAf2Uxisxx.Ez6LSqKuutdBvc8zyQkSjJZ7zUBbopj7VDMhasaGLEZYSwsxL.SeyJ0IjoiZG0iLCJzIjp7InVyaSI6IndzOi8vbG9jYWxob3N0Ojg3NjciLCJhIjpbImRpZGNvbW0vdjIiXSwiciI6W119fQ for session 33356846-6e12-431d-ae02-387a1f5f3894\n",
      "Coordinator: Preparing to send message to did:peer:2.Vz6Mkq8t1GaVjQ5zf8PnnahySB2bHukdVVCUpYQiAf2Uxisxx.Ez6LSqKuutdBvc8zyQkSjJZ7zUBbopj7VDMhasaGLEZYSwsxL.SeyJ0IjoiZG0iLCJzIjp7InVyaSI6IndzOi8vbG9jYWxob3N0Ojg3NjciLCJhIjpbImRpZGNvbW0vdjIiXSwiciI6W119fQ\n",
      "Coordinator: Got endpoint ws://localhost:8767 for message to did:peer:2.Vz6Mkq8t1GaVjQ5zf8PnnahySB2bHukdVVCUpYQiAf2Uxisxx.Ez6LSqKuutdBvc8zyQkSjJZ7zUBbopj7VDMhasaGLEZYSwsxL.SeyJ0IjoiZG0iLCJzIjp7InVyaSI6IndzOi8vbG9jYWxob3N0Ojg3NjciLCJhIjpbImRpZGNvbW0vdjIiXSwiciI6W119fQ\n",
      "Coordinator: Added message to queue for ws://localhost:8767\n",
      "Successfully sent aggregated nonce message to did:peer:2.Vz6Mkq8t1GaVjQ5zf8PnnahySB2bHukdVVCUpYQiAf2Uxisxx.Ez6LSqKuutdBvc8zyQkSjJZ7zUBbopj7VDMhasaGLEZYSwsxL.SeyJ0IjoiZG0iLCJzIjp7InVyaSI6IndzOi8vbG9jYWxob3N0Ojg3NjciLCJhIjpbImRpZGNvbW0vdjIiXSwiciI6W119fQ\n",
      "Coordinator: Preparing to send message to did:peer:2.Vz6MkrW4B8Pyv89nQ3EdN3zCGrLEgEZ5VqsSXjqjhjuwjSzFc.Ez6LSboVcakMcH613b8S6jFgEuA4byKMZSndk7yTUtp928DL2.SeyJ0IjoiZG0iLCJzIjp7InVyaSI6IndzOi8vbG9jYWxob3N0Ojg3NjYiLCJhIjpbImRpZGNvbW0vdjIiXSwiciI6W119fQ\n",
      "Coordinator: Got endpoint ws://localhost:8766 for message to did:peer:2.Vz6MkrW4B8Pyv89nQ3EdN3zCGrLEgEZ5VqsSXjqjhjuwjSzFc.Ez6LSboVcakMcH613b8S6jFgEuA4byKMZSndk7yTUtp928DL2.SeyJ0IjoiZG0iLCJzIjp7InVyaSI6IndzOi8vbG9jYWxob3N0Ojg3NjYiLCJhIjpbImRpZGNvbW0vdjIiXSwiciI6W119fQ\n",
      "Coordinator: Added message to queue for ws://localhost:8766\n",
      "Successfully sent aggregated nonce message to did:peer:2.Vz6MkrW4B8Pyv89nQ3EdN3zCGrLEgEZ5VqsSXjqjhjuwjSzFc.Ez6LSboVcakMcH613b8S6jFgEuA4byKMZSndk7yTUtp928DL2.SeyJ0IjoiZG0iLCJzIjp7InVyaSI6IndzOi8vbG9jYWxob3N0Ojg3NjYiLCJhIjpbImRpZGNvbW0vdjIiXSwiciI6W119fQ\n",
      "Coordinator: Processing message from queue for ws://localhost:8767\n",
      "Coordinator: Sending message to ws://localhost:8767\n",
      "Coordinator: Processing message from queue for ws://localhost:8766\n",
      "Coordinator: Sending message to ws://localhost:8766\n",
      "Coordinator: Received raw message\n",
      "Coordinator: Successfully unpacked message: {\n",
      "  \"type\": \"https://btc1.tools/musig2/sign/signature_authorization\",\n",
      "  \"id\": \"52e527ba-5537-42ae-991f-f721a333bb61\",\n",
      "  \"to\": \"did:peer:2.Vz6MkgExXQ5es6n7Fie6SdyEdhYgYA5VDtzDwCJUGWGspWemo.Ez6LSePN8SKTBYuyMjpYZrYjFqoKARsnrPqYwBuRSByoLX8bP.SeyJ0IjoiZG0iLCJzIjp7InVyaSI6IndzOi8vbG9jYWxob3N0Ojg3NjUiLCJhIjpbImRpZGNvbW0vdjIiXSwiciI6W119fQ\",\n",
      "  \"from\": \"did:peer:2.Vz6MkrW4B8Pyv89nQ3EdN3zCGrLEgEZ5VqsSXjqjhjuwjSzFc.Ez6LSboVcakMcH613b8S6jFgEuA4byKMZSndk7yTUtp928DL2.SeyJ0IjoiZG0iLCJzIjp7InVyaSI6IndzOi8vbG9jYWxob3N0Ojg3NjYiLCJhIjpbImRpZGNvbW0vdjIiXSwiciI6W119fQ\",\n",
      "  \"body\": {\n",
      "    \"session_id\": \"33356846-6e12-431d-ae02-387a1f5f3894\",\n",
      "    \"cohort_id\": \"bacfedf0-428d-4b84-bd9e-75b217b93f7c\",\n",
      "    \"partial_signature\": 16816737018355417682688468543484113059477261703736087243854178059120675290886\n",
      "  }\n",
      "}\n",
      "Routing - https://btc1.tools/musig2/sign/signature_authorization\n",
      "Received partial signature from did:peer:2.Vz6MkrW4B8Pyv89nQ3EdN3zCGrLEgEZ5VqsSXjqjhjuwjSzFc.Ez6LSboVcakMcH613b8S6jFgEuA4byKMZSndk7yTUtp928DL2.SeyJ0IjoiZG0iLCJzIjp7InVyaSI6IndzOi8vbG9jYWxob3N0Ojg3NjYiLCJhIjpbImRpZGNvbW0vdjIiXSwiciI6W119fQ for session 33356846-6e12-431d-ae02-387a1f5f3894\n",
      "Coordinator: Received raw message\n",
      "Coordinator: Successfully unpacked message: {\n",
      "  \"type\": \"https://btc1.tools/musig2/sign/signature_authorization\",\n",
      "  \"id\": \"5373df65-3596-47af-9411-689661c9e972\",\n",
      "  \"to\": \"did:peer:2.Vz6MkgExXQ5es6n7Fie6SdyEdhYgYA5VDtzDwCJUGWGspWemo.Ez6LSePN8SKTBYuyMjpYZrYjFqoKARsnrPqYwBuRSByoLX8bP.SeyJ0IjoiZG0iLCJzIjp7InVyaSI6IndzOi8vbG9jYWxob3N0Ojg3NjUiLCJhIjpbImRpZGNvbW0vdjIiXSwiciI6W119fQ\",\n",
      "  \"from\": \"did:peer:2.Vz6Mkq8t1GaVjQ5zf8PnnahySB2bHukdVVCUpYQiAf2Uxisxx.Ez6LSqKuutdBvc8zyQkSjJZ7zUBbopj7VDMhasaGLEZYSwsxL.SeyJ0IjoiZG0iLCJzIjp7InVyaSI6IndzOi8vbG9jYWxob3N0Ojg3NjciLCJhIjpbImRpZGNvbW0vdjIiXSwiciI6W119fQ\",\n",
      "  \"body\": {\n",
      "    \"session_id\": \"33356846-6e12-431d-ae02-387a1f5f3894\",\n",
      "    \"cohort_id\": \"bacfedf0-428d-4b84-bd9e-75b217b93f7c\",\n",
      "    \"partial_signature\": 31509871517633651993526705300873295992910677629490395613328688827249000005983\n",
      "  }\n",
      "}\n",
      "Routing - https://btc1.tools/musig2/sign/signature_authorization\n",
      "Received partial signature from did:peer:2.Vz6Mkq8t1GaVjQ5zf8PnnahySB2bHukdVVCUpYQiAf2Uxisxx.Ez6LSqKuutdBvc8zyQkSjJZ7zUBbopj7VDMhasaGLEZYSwsxL.SeyJ0IjoiZG0iLCJzIjp7InVyaSI6IndzOi8vbG9jYWxob3N0Ojg3NjciLCJhIjpbImRpZGNvbW0vdjIiXSwiciI6W119fQ for session 33356846-6e12-431d-ae02-387a1f5f3894\n",
      "Partial signature: 16816737018355417682688468543484113059477261703736087243854178059120675290886\n",
      "Partial signature type: <class 'int'>\n",
      "Partial signature: 31509871517633651993526705300873295992910677629490395613328688827249000005983\n",
      "Partial signature type: <class 'int'>\n",
      "Signature: f4c168ad6efce11ce809d5048fab01ab335993a1b54b0b432632036a55541aeb6271fa3e4c0ce23c2f7a49add3a091d42789e42b270211e4685052a4b40ec8b3\n",
      "Witness items: 1\n",
      "Witness item: f4c168ad6efce11ce809d5048fab01ab335993a1b54b0b432632036a55541aeb6271fa3e4c0ce23c2f7a49add3a091d42789e42b270211e4685052a4b40ec8b3 (length: 64)\n",
      "Verified: True\n",
      "btc network: signet\n",
      "Signature complete for session 33356846-6e12-431d-ae02-387a1f5f3894\n",
      "Signature: f4c168ad6efce11ce809d5048fab01ab335993a1b54b0b432632036a55541aeb6271fa3e4c0ce23c2f7a49add3a091d42789e42b270211e4685052a4b40ec8b3\n",
      "Final signature: f4c168ad6efce11ce809d5048fab01ab335993a1b54b0b432632036a55541aeb6271fa3e4c0ce23c2f7a49add3a091d42789e42b270211e4685052a4b40ec8b3\n"
     ]
    }
   ],
   "source": [
    "task = asyncio.create_task(coordinator.start())"
   ]
  },
  {
   "cell_type": "markdown",
   "id": "d5ac7a7a-85f2-4850-9185-b52e3fdad546",
   "metadata": {},
   "source": [
    "# Coordinator shares DID and awaits potential cohort participants to subscribe\n",
    "\n",
    "This is an optional feature. Coordinators need some way to announce to potential cohort participants that they are willing to coordinator beacon cohorts and will be advertising these cohorts. \n",
    "\n",
    "In this case, the coordinator is sharing a DID, maybe on a website or through a DM, interested parties then send a subscribe message which the coordinator accepts and adds the subscriber DID into their list of potential cohort participants. When the coordinator advertises a new cohort, they can send this advertisement to each subscriber.\n",
    "\n",
    "There could be many alternative approaches through which cohort participants find out about CohortAdverts from BeaconCoordinators."
   ]
  },
  {
   "cell_type": "code",
   "execution_count": 26,
   "id": "cd8ecced-ef1c-450b-9ccd-a25c1548b016",
   "metadata": {},
   "outputs": [
    {
     "name": "stdout",
     "output_type": "stream",
     "text": [
      "Copy this across to Fred and Lucia notebooks, which will act as participants in the Beacon cohort \n",
      "\n",
      "coordinator_did = 'did:peer:2.Vz6MkgExXQ5es6n7Fie6SdyEdhYgYA5VDtzDwCJUGWGspWemo.Ez6LSePN8SKTBYuyMjpYZrYjFqoKARsnrPqYwBuRSByoLX8bP.SeyJ0IjoiZG0iLCJzIjp7InVyaSI6IndzOi8vbG9jYWxob3N0Ojg3NjUiLCJhIjpbImRpZGNvbW0vdjIiXSwiciI6W119fQ'\n"
     ]
    }
   ],
   "source": [
    "print(\"Copy this across to Fred and Lucia notebooks, which will act as participants in the Beacon cohort \\n\")\n",
    "print(f\"coordinator_did = '{did}'\")"
   ]
  },
  {
   "cell_type": "markdown",
   "id": "f8d53a90-d724-4f06-9b0e-fd2525d2cff2",
   "metadata": {},
   "source": [
    "# Create Coordinator DID"
   ]
  },
  {
   "cell_type": "code",
   "execution_count": 3,
   "id": "9bec3f1d-3de4-4663-acd1-eee1e47d7134",
   "metadata": {},
   "outputs": [],
   "source": [
    "secrets = InMemorySecretsManager()\n",
    "crypto = AskarCryptoService()\n",
    "\n",
    "# verkey = Key.generate(KeyAlg.ED25519)\n",
    "# verkey_sk_bytes = verkey.get_secret_bytes()\n",
    "verkey_sk_bytes = b'\\xc4\\xce4LB/\\xf4\\xfa-\\x1e\\x9f\\xe7NqT\\x9ao\\xf1\\xb8xI[}`~\\xe0\\xdfcY\\x83<\\xae'\n",
    "verkey = Key.from_secret_bytes(KeyAlg.ED25519, verkey_sk_bytes)\n",
    "\n",
    "\n",
    "# xkey = Key.generate(KeyAlg.X25519)\n",
    "# xkey_sk_bytes = xkey.get_secret_bytes()\n",
    "xkey_sk_bytes = b'\\xe9!\\xae,\\xa8F\\xc2y\\t\\xc6\\x86\\xcd1\\xd4Ys|\\xe4\\xab\\xa8\\xe0xx\\xe9\\xff\\x11&\\xb3\\xbe\\x11\\xa8\\xef'\n",
    "xkey = Key.from_secret_bytes(KeyAlg.X25519,xkey_sk_bytes)\n"
   ]
  },
  {
   "cell_type": "code",
   "execution_count": 4,
   "id": "ee67574d-c5d7-4c56-a909-6105e99e8c42",
   "metadata": {},
   "outputs": [],
   "source": [
    "\n",
    "did = generate(\n",
    "    [\n",
    "        KeySpec.verification(\n",
    "            multibase.encode(\n",
    "                multicodec.wrap(\"ed25519-pub\", verkey.get_public_bytes()),\n",
    "                \"base58btc\",\n",
    "            )\n",
    "        ),\n",
    "        KeySpec.key_agreement(\n",
    "            multibase.encode(\n",
    "                multicodec.wrap(\"x25519-pub\", xkey.get_public_bytes()), \"base58btc\"\n",
    "            )\n",
    "        ),\n",
    "    ],\n",
    "    [\n",
    "                {\n",
    "                    \"type\": \"DIDCommMessaging\",\n",
    "                    \"serviceEndpoint\": {\n",
    "                        \"uri\": didcomm_messaging_uri,\n",
    "                        \"accept\": [\"didcomm/v2\"],\n",
    "                        \"routingKeys\": [],\n",
    "                    },\n",
    "                },\n",
    "    ],\n",
    ")\n",
    "await secrets.add_secret(AskarSecretKey(verkey, f\"{did}#key-1\"))\n",
    "await secrets.add_secret(AskarSecretKey(xkey, f\"{did}#key-2\"))\n"
   ]
  },
  {
   "cell_type": "code",
   "execution_count": 5,
   "id": "cc8d86a1-3471-4765-b4ae-bd99b4e8561f",
   "metadata": {},
   "outputs": [
    {
     "data": {
      "text/plain": [
       "'did:peer:2.Vz6MksvTpc5zbWrfdZCo3NyjABQQUDqC7yksyBk7PYmCqQ74i.Ez6LSgRMYHNDvqr93XiBp5qNtF1tzQ1cm3gKaoeYukcrnEB1p.SeyJ0IjoiZG0iLCJzIjp7InVyaSI6IndzOi8vbG9jYWxob3N0Ojg3NjUiLCJhIjpbImRpZGNvbW0vdjIiXSwiciI6W119fQ'"
      ]
     },
     "execution_count": 5,
     "metadata": {},
     "output_type": "execute_result"
    }
   ],
   "source": [
    "did"
   ]
  },
  {
   "cell_type": "code",
   "execution_count": 6,
   "id": "169446a8-166d-468a-996d-9bba7e7e5cc6",
   "metadata": {},
   "outputs": [
    {
     "name": "stdout",
     "output_type": "stream",
     "text": [
      "{\n",
      "  \"@context\": [\n",
      "    \"https://www.w3.org/ns/did/v1\",\n",
      "    \"https://w3id.org/security/multikey/v1\"\n",
      "  ],\n",
      "  \"id\": \"did:peer:2.Vz6MksvTpc5zbWrfdZCo3NyjABQQUDqC7yksyBk7PYmCqQ74i.Ez6LSgRMYHNDvqr93XiBp5qNtF1tzQ1cm3gKaoeYukcrnEB1p.SeyJ0IjoiZG0iLCJzIjp7InVyaSI6IndzOi8vbG9jYWxob3N0Ojg3NjUiLCJhIjpbImRpZGNvbW0vdjIiXSwiciI6W119fQ\",\n",
      "  \"verificationMethod\": [\n",
      "    {\n",
      "      \"type\": \"Multikey\",\n",
      "      \"id\": \"#key-1\",\n",
      "      \"controller\": \"did:peer:2.Vz6MksvTpc5zbWrfdZCo3NyjABQQUDqC7yksyBk7PYmCqQ74i.Ez6LSgRMYHNDvqr93XiBp5qNtF1tzQ1cm3gKaoeYukcrnEB1p.SeyJ0IjoiZG0iLCJzIjp7InVyaSI6IndzOi8vbG9jYWxob3N0Ojg3NjUiLCJhIjpbImRpZGNvbW0vdjIiXSwiciI6W119fQ\",\n",
      "      \"publicKeyMultibase\": \"z6MksvTpc5zbWrfdZCo3NyjABQQUDqC7yksyBk7PYmCqQ74i\"\n",
      "    },\n",
      "    {\n",
      "      \"type\": \"Multikey\",\n",
      "      \"id\": \"#key-2\",\n",
      "      \"controller\": \"did:peer:2.Vz6MksvTpc5zbWrfdZCo3NyjABQQUDqC7yksyBk7PYmCqQ74i.Ez6LSgRMYHNDvqr93XiBp5qNtF1tzQ1cm3gKaoeYukcrnEB1p.SeyJ0IjoiZG0iLCJzIjp7InVyaSI6IndzOi8vbG9jYWxob3N0Ojg3NjUiLCJhIjpbImRpZGNvbW0vdjIiXSwiciI6W119fQ\",\n",
      "      \"publicKeyMultibase\": \"z6LSgRMYHNDvqr93XiBp5qNtF1tzQ1cm3gKaoeYukcrnEB1p\"\n",
      "    }\n",
      "  ],\n",
      "  \"authentication\": [\n",
      "    \"#key-1\"\n",
      "  ],\n",
      "  \"keyAgreement\": [\n",
      "    \"#key-2\"\n",
      "  ],\n",
      "  \"service\": [\n",
      "    {\n",
      "      \"type\": \"DIDCommMessaging\",\n",
      "      \"serviceEndpoint\": {\n",
      "        \"uri\": \"ws://localhost:8765\",\n",
      "        \"accept\": [\n",
      "          \"didcomm/v2\"\n",
      "        ],\n",
      "        \"routingKeys\": []\n",
      "      },\n",
      "      \"id\": \"#service\"\n",
      "    }\n",
      "  ],\n",
      "  \"alsoKnownAs\": [\n",
      "    \"did:peer:3zQmd8B2iwQqstNxRE77xhpvAd6viJckXhdgxr9oC9gzgi9i\"\n",
      "  ]\n",
      "}\n"
     ]
    }
   ],
   "source": [
    "resolver = PrefixResolver({\"did:peer:2\": Peer2(), \"did:peer:4\": Peer4()})\n",
    "\n",
    "did_document = await resolver.resolve(did)\n",
    "print(json.dumps(did_document, indent=2))"
   ]
  },
  {
   "cell_type": "markdown",
   "id": "6664c95c-6865-4488-a93d-1af3c1f73d50",
   "metadata": {},
   "source": [
    "# Instantiate DIDComm Messaging \n",
    "\n",
    "This is used to pack and unpack DIDComm messages."
   ]
  },
  {
   "cell_type": "code",
   "execution_count": 7,
   "id": "72bd7406-33ac-409f-b14f-d75f1ad8b556",
   "metadata": {},
   "outputs": [],
   "source": [
    "packaging = PackagingService()\n",
    "router = RoutingService()\n",
    "\n",
    "dmp = DIDCommMessaging(\n",
    "    crypto=crypto,\n",
    "    secrets=secrets,\n",
    "    resolver=resolver,\n",
    "    packaging=packaging,\n",
    "    routing=router,\n",
    ")"
   ]
  },
  {
   "cell_type": "markdown",
   "id": "88e9b332-adcc-467b-b650-60f02283076f",
   "metadata": {},
   "source": [
    "# Create send message functon\n",
    "\n",
    "Sends packed DIDComm messages to a websocket endpoint"
   ]
  },
  {
   "cell_type": "code",
   "execution_count": 8,
   "id": "c02033b0-70ec-4a8c-ba12-c160144b4abf",
   "metadata": {},
   "outputs": [],
   "source": [
    "async def send_message(message, to, frm):\n",
    "    packy = await dmp.pack(\n",
    "        message=message,\n",
    "        to=to,\n",
    "        frm=frm,\n",
    "    )\n",
    "    packed = packy.message            \n",
    "    # Get the first http endpoint from the last DID in the DID chain\n",
    "    endpoint = packy.get_endpoint(\"ws\")\n",
    "    async with websockets.connect(endpoint) as websocket:\n",
    "        message = \"Hello from the client!\"\n",
    "        print(f\"Sending message: {packed}\")\n",
    "        await websocket.send(packed)  # Send message to the server\n",
    "        \n",
    "        response = await websocket.recv()  # Wait for the server's response\n",
    "        print(f\"Received response: {response}\")"
   ]
  },
  {
   "cell_type": "code",
   "execution_count": null,
   "id": "07b9a017-7aab-48ab-a535-774a4fc84fad",
   "metadata": {},
   "outputs": [],
   "source": []
  },
  {
   "cell_type": "markdown",
   "id": "25b069a4-d412-4989-9624-33b9cd7b417b",
   "metadata": {},
   "source": [
    "# Setup DIDComm Messaging Websocket\n",
    "\n",
    "This is where DIDComm messages are sent to the coordinator"
   ]
  },
  {
   "cell_type": "code",
   "execution_count": 9,
   "id": "98b72579-6c5e-4bf6-9bd4-c709c876e290",
   "metadata": {},
   "outputs": [],
   "source": [
    "import asyncio\n",
    "import websockets\n",
    "\n",
    "inbox = []\n",
    "\n",
    "\n",
    "# This handler will be called for every client connection.\n",
    "async def handle_messages(websocket):\n",
    "    print(\"Client connected\")\n",
    "    try:\n",
    "        async for message in websocket:\n",
    "            print(f\"Received DIDComm Message: \\n\\n {json.dumps(json.loads(message.decode()),indent=2)} \\n\\n\")\n",
    "            # Echo the received message back to the client.\n",
    "            # await websocket.send(f\"Echo: {message}\")\n",
    "\n",
    "            unpacked =  await dmp.packaging.unpack(crypto, resolver, secrets,message)\n",
    "            msg = json.loads(unpacked[0].decode())\n",
    "            inbox.append(msg)\n",
    "            print(f\"Unpacked Message : \\n\\n {json.dumps(msg, indent=2)} \\n\\n\")\n",
    "    except websockets.exceptions.ConnectionClosed as e:\n",
    "        print(\"Connection closed\", e)\n",
    "\n",
    "# The main function to start the server.\n",
    "async def run_websocket():\n",
    "    # Start the server on localhost at port 8765.\n",
    "    async with websockets.serve(handle_messages, didcomm_host, didcomm_port):\n",
    "        print(f\"WebSocket server started on {didcomm_messaging_uri}\")\n",
    "        # Run the server until it is manually stopped.\n",
    "        await asyncio.Future()  # Run forever"
   ]
  },
  {
   "cell_type": "code",
   "execution_count": 10,
   "id": "dee7332b-f836-431b-9dc0-8a09be96a162",
   "metadata": {},
   "outputs": [
    {
     "data": {
      "text/plain": [
       "<Task pending name='Task-7' coro=<run_websocket() running at /tmp/ipykernel_9458/3993558428.py:24>>"
      ]
     },
     "execution_count": 10,
     "metadata": {},
     "output_type": "execute_result"
    },
    {
     "name": "stdout",
     "output_type": "stream",
     "text": [
      "WebSocket server started on ws://localhost:8765\n",
      "Client connected\n",
      "Received DIDComm Message: \n",
      "\n",
      " {\n",
      "  \"protected\": \"eyJ0eXAiOiAiYXBwbGljYXRpb24vZGlkY29tbStlbmNyeXB0ZWQiLCAiYWxnIjogIkVDREgtMVBVK0EyNTZLVyIsICJlbmMiOiAiQTI1NkNCQy1IUzUxMiIsICJhcHUiOiAiWkdsa09uQmxaWEk2TWk1V2VqWk5hM05yYVhCNWIyOHlSMHR5ZW1GSWFFTk1ka3BHVkRaWlkxVlJjVXcxWnpNM1dWUk5hbTFZU0V4WVYzVjNMa1Y2Tmt4VGJrVklXRm8zT1ZsQ1FtUmpXWFJET1hoRlJtbzFkVkl5U21obGFqRXpNak5ZY1hCT1NuZHhia28zWWpNdVUyVjVTakJKYW05cFdrY3dhVXhEU25wSmFuQTNTVzVXZVdGVFNUWkpibVI2VDJrNGRtSkhPV3BaVjNodllqTk9NRTlxWnpOT2FsbHBURU5LYUVscWNHSkpiVkp3V2tkT2RtSlhNSFprYWtscFdGTjNhV05wU1RaWE1URTVabEVqYTJWNUxUSSIsICJhcHYiOiAiN1B2cUNRS0pvbDQwN3pwLW5jeHBKSTZvZmNoQkxBeGJFVVhYSl9COHJEdyIsICJlcGsiOiB7ImNydiI6ICJYMjU1MTkiLCAia3R5IjogIk9LUCIsICJ4IjogIm5ESUQyaUQzUTNjNDBVOVV1VVlLZUh3aWZ0aC1yenY2NjFPeERYNTVRMGsifSwgInNraWQiOiAiZGlkOnBlZXI6Mi5WejZNa3NraXB5b28yR0tyemFIaENMdkpGVDZZY1VRcUw1ZzM3WVRNam1YSExYV3V3LkV6NkxTbkVIWFo3OVlCQmRjWXRDOXhFRmo1dVIySmhlajEzMjNYcXBOSndxbko3YjMuU2V5SjBJam9pWkcwaUxDSnpJanA3SW5WeWFTSTZJbmR6T2k4dmJHOWpZV3hvYjNOME9qZzNOallpTENKaElqcGJJbVJwWkdOdmJXMHZkaklpWFN3aWNpSTZXMTE5ZlEja2V5LTIifQ\",\n",
      "  \"recipients\": [\n",
      "    {\n",
      "      \"encrypted_key\": \"A-PtbzoNith_p1PhkS6l9bSgjS8kP66ONEwO_lyUdkyx_SfKbavV7wPt3ZJWju3P2sBgFuBTnJYkHPjQ0zKCAHkCtQ1W221I\",\n",
      "      \"header\": {\n",
      "        \"kid\": \"did:peer:2.Vz6MksvTpc5zbWrfdZCo3NyjABQQUDqC7yksyBk7PYmCqQ74i.Ez6LSgRMYHNDvqr93XiBp5qNtF1tzQ1cm3gKaoeYukcrnEB1p.SeyJ0IjoiZG0iLCJzIjp7InVyaSI6IndzOi8vbG9jYWxob3N0Ojg3NjUiLCJhIjpbImRpZGNvbW0vdjIiXSwiciI6W119fQ#key-2\"\n",
      "      }\n",
      "    }\n",
      "  ],\n",
      "  \"iv\": \"zzga5G5SR0We-N_-PjIjHQ\",\n",
      "  \"ciphertext\": \"rnicOejy4KQgYaqOq3k-EWV6kUczIOgRWXq97H1nSSjkt7AnbhDIL89h4DF_ATPWAqAHJcqcyI3HcpQwzfmosx4kUMgQV0o6aDaVty3wUUDP6_fSRYWftM8ZipvbDY0uSZXQkdvSSxw29K_yjUtEJlUOsVxBbAEnODzBDUwHgpJ-RfVePLhTLWCSG-Zx57GarmozR9gZ4i8Zzs-jU1xxah3-z3okWOu6PDXfDZwCI0TQPDx1-4ZeiDx25I5OJayYrTSKg7AiH_Suy_SpMiLpElMm5jC5bgVPvcNOIN4B9geHRhd3iXTNjzZL_GIrWpYHtNGEIwymOh4Q1Zhz97-n-0-XTmeqEdlbIrnGoS8Er3xkbAOCwjOs3AU3gVKUoy7lGE8Qd0rZKwYeBUzG6UwvaY3l_KZBSFN50obUSAmube95yqA1OB6K0EJL-MwvnhAsAdskXIWc7AOoKWChpEUXFqOWo6gR6ot6AuuiH6g8CFF7r33bwFmHUo0h_xCapvrJK98xhmxPHzFWvdiE7F9GntOrRRmo6t8PXTepVHOKAX9fGooHlhQlMuwtzvWcdk2-Bg6YrAzmTF6m8sYcH3N0AuSCILEFPLE7NG_0gbyLNNms5ow6dxc4xhvlz83AFIv98mqCD6JfITz4CZMtwF1jwLUfDHXtBSerTHpln_Ld8hEqKNhyeIb_XOu4Mdxk6-Kvw4ynOJg1iRT7b-RweoblCg\",\n",
      "  \"tag\": \"eOgtMcB5ekMGX0K3dIytFnuDq9sbM7-HbBXfUdrFUtM\"\n",
      "} \n",
      "\n",
      "\n",
      "Unpacked Message : \n",
      "\n",
      " {\n",
      "  \"type\": \"https://didcomm.org/musig2/subscribe\",\n",
      "  \"id\": \"e7941053-5bf3-43bc-9054-1c4723ad31c2\",\n",
      "  \"body\": {},\n",
      "  \"from\": \"did:peer:2.Vz6Mkskipyoo2GKrzaHhCLvJFT6YcUQqL5g37YTMjmXHLXWuw.Ez6LSnEHXZ79YBBdcYtC9xEFj5uR2Jhej1323XqpNJwqnJ7b3.SeyJ0IjoiZG0iLCJzIjp7InVyaSI6IndzOi8vbG9jYWxob3N0Ojg3NjYiLCJhIjpbImRpZGNvbW0vdjIiXSwiciI6W119fQ\",\n",
      "  \"to\": \"did:peer:2.Vz6MksvTpc5zbWrfdZCo3NyjABQQUDqC7yksyBk7PYmCqQ74i.Ez6LSgRMYHNDvqr93XiBp5qNtF1tzQ1cm3gKaoeYukcrnEB1p.SeyJ0IjoiZG0iLCJzIjp7InVyaSI6IndzOi8vbG9jYWxob3N0Ojg3NjUiLCJhIjpbImRpZGNvbW0vdjIiXSwiciI6W119fQ\"\n",
      "} \n",
      "\n",
      "\n"
     ]
    }
   ],
   "source": [
    "asyncio.create_task(run_websocket())"
   ]
  },
  {
   "cell_type": "code",
   "execution_count": null,
   "id": "8e805e9b-b514-4857-bc33-5f0c483490b6",
   "metadata": {},
   "outputs": [],
   "source": []
  },
  {
   "cell_type": "markdown",
   "id": "fa91a981-056e-4184-89f9-9a5e611459a6",
   "metadata": {},
   "source": [
    "# Coordinator Shares DID with participants\n",
    "\n",
    "Maybe this happens on their website. Or something like that."
   ]
  },
  {
   "cell_type": "code",
   "execution_count": 12,
   "id": "96b03f76-3bad-42a5-8c58-3ebc46f74cb3",
   "metadata": {},
   "outputs": [
    {
     "name": "stdout",
     "output_type": "stream",
     "text": [
      "coordinator_did='did:peer:2.Vz6MksvTpc5zbWrfdZCo3NyjABQQUDqC7yksyBk7PYmCqQ74i.Ez6LSgRMYHNDvqr93XiBp5qNtF1tzQ1cm3gKaoeYukcrnEB1p.SeyJ0IjoiZG0iLCJzIjp7InVyaSI6IndzOi8vbG9jYWxob3N0Ojg3NjUiLCJhIjpbImRpZGNvbW0vdjIiXSwiciI6W119fQ'\n"
     ]
    }
   ],
   "source": [
    "print(f\"coordinator_did='{did}'\")"
   ]
  },
  {
   "cell_type": "code",
   "execution_count": null,
   "id": "ffea82e0-82e6-4a95-8a08-66ee73040555",
   "metadata": {},
   "outputs": [],
   "source": []
  },
  {
   "cell_type": "markdown",
   "id": "8ed11784-e656-4bcb-9d26-29740e42fd11",
   "metadata": {},
   "source": [
    "# Coordinator waits for participants to subscribe"
   ]
  },
  {
   "cell_type": "code",
   "execution_count": 27,
   "id": "ef1fd95a-999b-4bcb-a3b2-3ed13bcd7025",
   "metadata": {},
   "outputs": [
    {
     "data": {
      "text/plain": [
       "['did:peer:2.Vz6MkrW4B8Pyv89nQ3EdN3zCGrLEgEZ5VqsSXjqjhjuwjSzFc.Ez6LSboVcakMcH613b8S6jFgEuA4byKMZSndk7yTUtp928DL2.SeyJ0IjoiZG0iLCJzIjp7InVyaSI6IndzOi8vbG9jYWxob3N0Ojg3NjYiLCJhIjpbImRpZGNvbW0vdjIiXSwiciI6W119fQ',\n",
       " 'did:peer:2.Vz6Mkq8t1GaVjQ5zf8PnnahySB2bHukdVVCUpYQiAf2Uxisxx.Ez6LSqKuutdBvc8zyQkSjJZ7zUBbopj7VDMhasaGLEZYSwsxL.SeyJ0IjoiZG0iLCJzIjp7InVyaSI6IndzOi8vbG9jYWxob3N0Ojg3NjciLCJhIjpbImRpZGNvbW0vdjIiXSwiciI6W119fQ']"
      ]
     },
     "execution_count": 27,
     "metadata": {},
     "output_type": "execute_result"
    }
   ],
   "source": [
    "coordinator.subscribers"
   ]
  },
  {
   "cell_type": "markdown",
   "id": "bbd2d4c7-56cb-47a7-a1ec-a29fa3b0cb9a",
   "metadata": {},
   "source": [
    "## Coordinator Advertises a Beacon Cohort\n",
    "\n",
    "This sends a CohortAdvert message to each subscriber"
   ]
  },
  {
   "cell_type": "code",
   "execution_count": 28,
   "id": "e367906b-f562-4756-9b23-8dc13e49f363",
   "metadata": {},
   "outputs": [
    {
     "name": "stdout",
     "output_type": "stream",
     "text": [
      "Creating new cohort and announcing to 2 subscribers\n",
      "Sending cohort announcement to did:peer:2.Vz6MkrW4B8Pyv89nQ3EdN3zCGrLEgEZ5VqsSXjqjhjuwjSzFc.Ez6LSboVcakMcH613b8S6jFgEuA4byKMZSndk7yTUtp928DL2.SeyJ0IjoiZG0iLCJzIjp7InVyaSI6IndzOi8vbG9jYWxob3N0Ojg3NjYiLCJhIjpbImRpZGNvbW0vdjIiXSwiciI6W119fQ\n",
      "Coordinator: Preparing to send message to did:peer:2.Vz6MkrW4B8Pyv89nQ3EdN3zCGrLEgEZ5VqsSXjqjhjuwjSzFc.Ez6LSboVcakMcH613b8S6jFgEuA4byKMZSndk7yTUtp928DL2.SeyJ0IjoiZG0iLCJzIjp7InVyaSI6IndzOi8vbG9jYWxob3N0Ojg3NjYiLCJhIjpbImRpZGNvbW0vdjIiXSwiciI6W119fQ\n",
      "Coordinator: Got endpoint ws://localhost:8766 for message to did:peer:2.Vz6MkrW4B8Pyv89nQ3EdN3zCGrLEgEZ5VqsSXjqjhjuwjSzFc.Ez6LSboVcakMcH613b8S6jFgEuA4byKMZSndk7yTUtp928DL2.SeyJ0IjoiZG0iLCJzIjp7InVyaSI6IndzOi8vbG9jYWxob3N0Ojg3NjYiLCJhIjpbImRpZGNvbW0vdjIiXSwiciI6W119fQ\n",
      "Coordinator: Added message to queue for ws://localhost:8766\n",
      "Successfully sent cohort announcement https://btc1.tools/musig2/keygen/cohort_advert to did:peer:2.Vz6MkrW4B8Pyv89nQ3EdN3zCGrLEgEZ5VqsSXjqjhjuwjSzFc.Ez6LSboVcakMcH613b8S6jFgEuA4byKMZSndk7yTUtp928DL2.SeyJ0IjoiZG0iLCJzIjp7InVyaSI6IndzOi8vbG9jYWxob3N0Ojg3NjYiLCJhIjpbImRpZGNvbW0vdjIiXSwiciI6W119fQ\n",
      "Sending cohort announcement to did:peer:2.Vz6Mkq8t1GaVjQ5zf8PnnahySB2bHukdVVCUpYQiAf2Uxisxx.Ez6LSqKuutdBvc8zyQkSjJZ7zUBbopj7VDMhasaGLEZYSwsxL.SeyJ0IjoiZG0iLCJzIjp7InVyaSI6IndzOi8vbG9jYWxob3N0Ojg3NjciLCJhIjpbImRpZGNvbW0vdjIiXSwiciI6W119fQ\n",
      "Coordinator: Preparing to send message to did:peer:2.Vz6Mkq8t1GaVjQ5zf8PnnahySB2bHukdVVCUpYQiAf2Uxisxx.Ez6LSqKuutdBvc8zyQkSjJZ7zUBbopj7VDMhasaGLEZYSwsxL.SeyJ0IjoiZG0iLCJzIjp7InVyaSI6IndzOi8vbG9jYWxob3N0Ojg3NjciLCJhIjpbImRpZGNvbW0vdjIiXSwiciI6W119fQ\n",
      "Coordinator: Got endpoint ws://localhost:8767 for message to did:peer:2.Vz6Mkq8t1GaVjQ5zf8PnnahySB2bHukdVVCUpYQiAf2Uxisxx.Ez6LSqKuutdBvc8zyQkSjJZ7zUBbopj7VDMhasaGLEZYSwsxL.SeyJ0IjoiZG0iLCJzIjp7InVyaSI6IndzOi8vbG9jYWxob3N0Ojg3NjciLCJhIjpbImRpZGNvbW0vdjIiXSwiciI6W119fQ\n",
      "Coordinator: Added message to queue for ws://localhost:8767\n",
      "Successfully sent cohort announcement https://btc1.tools/musig2/keygen/cohort_advert to did:peer:2.Vz6Mkq8t1GaVjQ5zf8PnnahySB2bHukdVVCUpYQiAf2Uxisxx.Ez6LSqKuutdBvc8zyQkSjJZ7zUBbopj7VDMhasaGLEZYSwsxL.SeyJ0IjoiZG0iLCJzIjp7InVyaSI6IndzOi8vbG9jYWxob3N0Ojg3NjciLCJhIjpbImRpZGNvbW0vdjIiXSwiciI6W119fQ\n"
     ]
    },
    {
     "data": {
      "text/plain": [
       "<musig2_protocols.protocols.keygen.models.cohort.Musig2Cohort at 0x7f10bfa339e0>"
      ]
     },
     "execution_count": 28,
     "metadata": {},
     "output_type": "execute_result"
    }
   ],
   "source": [
    "\n",
    "# TODO: refine the data model of the message. At least include the type of cohort.\n",
    "await coordinator.announce_new_cohort(min_participants=2)"
   ]
  },
  {
   "cell_type": "markdown",
   "id": "2c29befd-03b8-4465-8e5e-61e83130ab20",
   "metadata": {},
   "source": [
    "# Coordinator checks cohort is set and active"
   ]
  },
  {
   "cell_type": "code",
   "execution_count": 30,
   "id": "e4e2a447-5b12-45af-af78-261bb42904b9",
   "metadata": {},
   "outputs": [],
   "source": [
    "cohort = coordinator.cohorts[0]"
   ]
  },
  {
   "cell_type": "code",
   "execution_count": 31,
   "id": "3b1ec270-bfed-4924-8330-6197ebb04851",
   "metadata": {},
   "outputs": [],
   "source": [
    "if cohort.status != \"COHORT_SET\":\n",
    "    print(\"Cohort not yet set, waiting for beacon participants to join\")"
   ]
  },
  {
   "cell_type": "markdown",
   "id": "25582cfe-fcc0-43fb-84d4-e563056cfb7e",
   "metadata": {},
   "source": [
    "# Coordinator waits for signatures to be requested by participants\n",
    "\n",
    "Or maybe they wait for a certain amount of time. "
   ]
  },
  {
   "cell_type": "code",
   "execution_count": 32,
   "id": "4ba738c1-c8f4-43fd-9d45-53260db25313",
   "metadata": {},
   "outputs": [
    {
     "data": {
      "text/plain": [
       "{'did:peer:2.Vz6Mkq8t1GaVjQ5zf8PnnahySB2bHukdVVCUpYQiAf2Uxisxx.Ez6LSqKuutdBvc8zyQkSjJZ7zUBbopj7VDMhasaGLEZYSwsxL.SeyJ0IjoiZG0iLCJzIjp7InVyaSI6IndzOi8vbG9jYWxob3N0Ojg3NjciLCJhIjpbImRpZGNvbW0vdjIiXSwiciI6W119fQ': 'Hello, world!'}"
      ]
     },
     "execution_count": 32,
     "metadata": {},
     "output_type": "execute_result"
    }
   ],
   "source": [
    "cohort.pending_signature_requests"
   ]
  },
  {
   "cell_type": "markdown",
   "id": "a09cef26-a4c6-4eef-8c96-b1f948570581",
   "metadata": {},
   "source": [
    "# Coordinator starts signing session"
   ]
  },
  {
   "cell_type": "code",
   "execution_count": 33,
   "id": "e9015bbb-6e0d-46ad-96b1-c16dc50ec215",
   "metadata": {},
   "outputs": [
    {
     "name": "stdout",
     "output_type": "stream",
     "text": [
      "Attempting to start signing session for bacfedf0-428d-4b84-bd9e-75b217b93f7c\n",
      "Cohort bacfedf0-428d-4b84-bd9e-75b217b93f7c found. Starting signing session.\n",
      "DEBUG: Starting start_signing_session\n",
      "Starting signing session for cohort bacfedf0-428d-4b84-bd9e-75b217b93f7c with status COHORT_SET\n",
      "DEBUG: Creating SMT root bytes\n",
      "DEBUG: Setting up transaction inputs\n",
      "DEBUG: Creating script pubkey\n",
      "DEBUG: Creating beacon signal txout\n",
      "DEBUG: Creating refund output\n",
      "DEBUG: Creating pending beacon signal\n",
      "DEBUG: Creating signing session\n",
      "DEBUG: Cleaning up and returning\n",
      "Signing session 33356846-6e12-431d-ae02-387a1f5f3894 created for cohort bacfedf0-428d-4b84-bd9e-75b217b93f7c\n",
      "Starting signing session 33356846-6e12-431d-ae02-387a1f5f3894 for cohort bacfedf0-428d-4b84-bd9e-75b217b93f7c\n",
      "Sending authorization request to did:peer:2.Vz6Mkq8t1GaVjQ5zf8PnnahySB2bHukdVVCUpYQiAf2Uxisxx.Ez6LSqKuutdBvc8zyQkSjJZ7zUBbopj7VDMhasaGLEZYSwsxL.SeyJ0IjoiZG0iLCJzIjp7InVyaSI6IndzOi8vbG9jYWxob3N0Ojg3NjciLCJhIjpbImRpZGNvbW0vdjIiXSwiciI6W119fQ\n",
      "Coordinator: Preparing to send message to did:peer:2.Vz6Mkq8t1GaVjQ5zf8PnnahySB2bHukdVVCUpYQiAf2Uxisxx.Ez6LSqKuutdBvc8zyQkSjJZ7zUBbopj7VDMhasaGLEZYSwsxL.SeyJ0IjoiZG0iLCJzIjp7InVyaSI6IndzOi8vbG9jYWxob3N0Ojg3NjciLCJhIjpbImRpZGNvbW0vdjIiXSwiciI6W119fQ\n",
      "Coordinator: Got endpoint ws://localhost:8767 for message to did:peer:2.Vz6Mkq8t1GaVjQ5zf8PnnahySB2bHukdVVCUpYQiAf2Uxisxx.Ez6LSqKuutdBvc8zyQkSjJZ7zUBbopj7VDMhasaGLEZYSwsxL.SeyJ0IjoiZG0iLCJzIjp7InVyaSI6IndzOi8vbG9jYWxob3N0Ojg3NjciLCJhIjpbImRpZGNvbW0vdjIiXSwiciI6W119fQ\n",
      "Coordinator: Added message to queue for ws://localhost:8767\n",
      "Sending authorization request to did:peer:2.Vz6MkrW4B8Pyv89nQ3EdN3zCGrLEgEZ5VqsSXjqjhjuwjSzFc.Ez6LSboVcakMcH613b8S6jFgEuA4byKMZSndk7yTUtp928DL2.SeyJ0IjoiZG0iLCJzIjp7InVyaSI6IndzOi8vbG9jYWxob3N0Ojg3NjYiLCJhIjpbImRpZGNvbW0vdjIiXSwiciI6W119fQ\n",
      "Coordinator: Preparing to send message to did:peer:2.Vz6MkrW4B8Pyv89nQ3EdN3zCGrLEgEZ5VqsSXjqjhjuwjSzFc.Ez6LSboVcakMcH613b8S6jFgEuA4byKMZSndk7yTUtp928DL2.SeyJ0IjoiZG0iLCJzIjp7InVyaSI6IndzOi8vbG9jYWxob3N0Ojg3NjYiLCJhIjpbImRpZGNvbW0vdjIiXSwiciI6W119fQ\n",
      "Coordinator: Got endpoint ws://localhost:8766 for message to did:peer:2.Vz6MkrW4B8Pyv89nQ3EdN3zCGrLEgEZ5VqsSXjqjhjuwjSzFc.Ez6LSboVcakMcH613b8S6jFgEuA4byKMZSndk7yTUtp928DL2.SeyJ0IjoiZG0iLCJzIjp7InVyaSI6IndzOi8vbG9jYWxob3N0Ojg3NjYiLCJhIjpbImRpZGNvbW0vdjIiXSwiciI6W119fQ\n",
      "Coordinator: Added message to queue for ws://localhost:8766\n"
     ]
    }
   ],
   "source": [
    "await coordinator.start_signing_session(cohort.id)"
   ]
  },
  {
   "cell_type": "code",
   "execution_count": null,
   "id": "e58443c6-e255-47c4-8d53-2f9be611b591",
   "metadata": {},
   "outputs": [],
   "source": []
  }
 ],
 "metadata": {
  "kernelspec": {
   "display_name": "Python 3 (ipykernel)",
   "language": "python",
   "name": "python3"
  },
  "language_info": {
   "codemirror_mode": {
    "name": "ipython",
    "version": 3
   },
   "file_extension": ".py",
   "mimetype": "text/x-python",
   "name": "python",
   "nbconvert_exporter": "python",
   "pygments_lexer": "ipython3",
   "version": "3.12.3"
  }
 },
 "nbformat": 4,
 "nbformat_minor": 5
}
