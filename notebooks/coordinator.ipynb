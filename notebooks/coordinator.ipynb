{
 "cells": [
  {
   "cell_type": "markdown",
   "id": "f026f330-3909-4fd5-bf3e-25d0df111cfb",
   "metadata": {},
   "source": [
    "# Coordinator of a MuSig2 Protocol.\n",
    "\n",
    "Note: Coordinator could also be a participant."
   ]
  },
  {
   "cell_type": "code",
   "execution_count": 1,
   "id": "7b046e31-1bda-482d-af32-d77a5de60253",
   "metadata": {},
   "outputs": [],
   "source": [
    "import json\n",
    "from aries_askar import Key, KeyAlg\n",
    "from didcomm_messaging.crypto.backend.askar import AskarCryptoService, AskarSecretKey\n",
    "from didcomm_messaging.crypto.backend.basic import InMemorySecretsManager\n",
    "from didcomm_messaging.packaging import PackagingService\n",
    "from didcomm_messaging.multiformats import multibase\n",
    "from didcomm_messaging.multiformats import multicodec\n",
    "from didcomm_messaging.resolver.peer import Peer2, Peer4\n",
    "from didcomm_messaging.resolver import PrefixResolver\n",
    "from did_peer_2 import KeySpec, generate, json\n",
    "from didcomm_messaging import DIDCommMessaging\n",
    "from didcomm_messaging.routing import RoutingService\n",
    "from pydid.did import DID\n"
   ]
  },
  {
   "cell_type": "markdown",
   "id": "120562dd-ea1e-4398-8e90-5f982864b44b",
   "metadata": {},
   "source": [
    "# Define DIDComm Messaging Service Endpoint"
   ]
  },
  {
   "cell_type": "code",
   "execution_count": 2,
   "id": "7f7711b6-85cc-4a77-9515-6e9f195db792",
   "metadata": {},
   "outputs": [],
   "source": [
    "didcomm_host = \"localhost\"\n",
    "didcomm_port = 8765\n",
    "didcomm_messaging_uri = f\"ws://{didcomm_host}:{didcomm_port}\""
   ]
  },
  {
   "cell_type": "markdown",
   "id": "f8d53a90-d724-4f06-9b0e-fd2525d2cff2",
   "metadata": {},
   "source": [
    "# Create Coordinator DID"
   ]
  },
  {
   "cell_type": "code",
   "execution_count": 3,
   "id": "9bec3f1d-3de4-4663-acd1-eee1e47d7134",
   "metadata": {},
   "outputs": [],
   "source": [
    "secrets = InMemorySecretsManager()\n",
    "crypto = AskarCryptoService()\n",
    "\n",
    "# verkey = Key.generate(KeyAlg.ED25519)\n",
    "# verkey_sk_bytes = verkey.get_secret_bytes()\n",
    "verkey_sk_bytes = b'\\xc4\\xce4LB/\\xf4\\xfa-\\x1e\\x9f\\xe7NqT\\x9ao\\xf1\\xb8xI[}`~\\xe0\\xdfcY\\x83<\\xae'\n",
    "verkey = Key.from_secret_bytes(KeyAlg.ED25519, verkey_sk_bytes)\n",
    "\n",
    "\n",
    "# xkey = Key.generate(KeyAlg.X25519)\n",
    "# xkey_sk_bytes = xkey.get_secret_bytes()\n",
    "xkey_sk_bytes = b'\\xe9!\\xae,\\xa8F\\xc2y\\t\\xc6\\x86\\xcd1\\xd4Ys|\\xe4\\xab\\xa8\\xe0xx\\xe9\\xff\\x11&\\xb3\\xbe\\x11\\xa8\\xef'\n",
    "xkey = Key.from_secret_bytes(KeyAlg.X25519,xkey_sk_bytes)\n"
   ]
  },
  {
   "cell_type": "code",
   "execution_count": 4,
   "id": "ee67574d-c5d7-4c56-a909-6105e99e8c42",
   "metadata": {},
   "outputs": [],
   "source": [
    "\n",
    "did = generate(\n",
    "    [\n",
    "        KeySpec.verification(\n",
    "            multibase.encode(\n",
    "                multicodec.wrap(\"ed25519-pub\", verkey.get_public_bytes()),\n",
    "                \"base58btc\",\n",
    "            )\n",
    "        ),\n",
    "        KeySpec.key_agreement(\n",
    "            multibase.encode(\n",
    "                multicodec.wrap(\"x25519-pub\", xkey.get_public_bytes()), \"base58btc\"\n",
    "            )\n",
    "        ),\n",
    "    ],\n",
    "    [\n",
    "                {\n",
    "                    \"type\": \"DIDCommMessaging\",\n",
    "                    \"serviceEndpoint\": {\n",
    "                        \"uri\": didcomm_messaging_uri,\n",
    "                        \"accept\": [\"didcomm/v2\"],\n",
    "                        \"routingKeys\": [],\n",
    "                    },\n",
    "                },\n",
    "    ],\n",
    ")\n",
    "await secrets.add_secret(AskarSecretKey(verkey, f\"{did}#key-1\"))\n",
    "await secrets.add_secret(AskarSecretKey(xkey, f\"{did}#key-2\"))\n"
   ]
  },
  {
   "cell_type": "code",
   "execution_count": 5,
   "id": "cc8d86a1-3471-4765-b4ae-bd99b4e8561f",
   "metadata": {},
   "outputs": [
    {
     "data": {
      "text/plain": [
       "'did:peer:2.Vz6MksvTpc5zbWrfdZCo3NyjABQQUDqC7yksyBk7PYmCqQ74i.Ez6LSgRMYHNDvqr93XiBp5qNtF1tzQ1cm3gKaoeYukcrnEB1p.SeyJ0IjoiZG0iLCJzIjp7InVyaSI6IndzOi8vbG9jYWxob3N0Ojg3NjUiLCJhIjpbImRpZGNvbW0vdjIiXSwiciI6W119fQ'"
      ]
     },
     "execution_count": 5,
     "metadata": {},
     "output_type": "execute_result"
    }
   ],
   "source": [
    "did"
   ]
  },
  {
   "cell_type": "code",
   "execution_count": 6,
   "id": "169446a8-166d-468a-996d-9bba7e7e5cc6",
   "metadata": {},
   "outputs": [
    {
     "name": "stdout",
     "output_type": "stream",
     "text": [
      "{\n",
      "  \"@context\": [\n",
      "    \"https://www.w3.org/ns/did/v1\",\n",
      "    \"https://w3id.org/security/multikey/v1\"\n",
      "  ],\n",
      "  \"id\": \"did:peer:2.Vz6MksvTpc5zbWrfdZCo3NyjABQQUDqC7yksyBk7PYmCqQ74i.Ez6LSgRMYHNDvqr93XiBp5qNtF1tzQ1cm3gKaoeYukcrnEB1p.SeyJ0IjoiZG0iLCJzIjp7InVyaSI6IndzOi8vbG9jYWxob3N0Ojg3NjUiLCJhIjpbImRpZGNvbW0vdjIiXSwiciI6W119fQ\",\n",
      "  \"verificationMethod\": [\n",
      "    {\n",
      "      \"type\": \"Multikey\",\n",
      "      \"id\": \"#key-1\",\n",
      "      \"controller\": \"did:peer:2.Vz6MksvTpc5zbWrfdZCo3NyjABQQUDqC7yksyBk7PYmCqQ74i.Ez6LSgRMYHNDvqr93XiBp5qNtF1tzQ1cm3gKaoeYukcrnEB1p.SeyJ0IjoiZG0iLCJzIjp7InVyaSI6IndzOi8vbG9jYWxob3N0Ojg3NjUiLCJhIjpbImRpZGNvbW0vdjIiXSwiciI6W119fQ\",\n",
      "      \"publicKeyMultibase\": \"z6MksvTpc5zbWrfdZCo3NyjABQQUDqC7yksyBk7PYmCqQ74i\"\n",
      "    },\n",
      "    {\n",
      "      \"type\": \"Multikey\",\n",
      "      \"id\": \"#key-2\",\n",
      "      \"controller\": \"did:peer:2.Vz6MksvTpc5zbWrfdZCo3NyjABQQUDqC7yksyBk7PYmCqQ74i.Ez6LSgRMYHNDvqr93XiBp5qNtF1tzQ1cm3gKaoeYukcrnEB1p.SeyJ0IjoiZG0iLCJzIjp7InVyaSI6IndzOi8vbG9jYWxob3N0Ojg3NjUiLCJhIjpbImRpZGNvbW0vdjIiXSwiciI6W119fQ\",\n",
      "      \"publicKeyMultibase\": \"z6LSgRMYHNDvqr93XiBp5qNtF1tzQ1cm3gKaoeYukcrnEB1p\"\n",
      "    }\n",
      "  ],\n",
      "  \"authentication\": [\n",
      "    \"#key-1\"\n",
      "  ],\n",
      "  \"keyAgreement\": [\n",
      "    \"#key-2\"\n",
      "  ],\n",
      "  \"service\": [\n",
      "    {\n",
      "      \"type\": \"DIDCommMessaging\",\n",
      "      \"serviceEndpoint\": {\n",
      "        \"uri\": \"ws://localhost:8765\",\n",
      "        \"accept\": [\n",
      "          \"didcomm/v2\"\n",
      "        ],\n",
      "        \"routingKeys\": []\n",
      "      },\n",
      "      \"id\": \"#service\"\n",
      "    }\n",
      "  ],\n",
      "  \"alsoKnownAs\": [\n",
      "    \"did:peer:3zQmd8B2iwQqstNxRE77xhpvAd6viJckXhdgxr9oC9gzgi9i\"\n",
      "  ]\n",
      "}\n"
     ]
    }
   ],
   "source": [
    "resolver = PrefixResolver({\"did:peer:2\": Peer2(), \"did:peer:4\": Peer4()})\n",
    "\n",
    "did_document = await resolver.resolve(did)\n",
    "print(json.dumps(did_document, indent=2))"
   ]
  },
  {
   "cell_type": "markdown",
   "id": "6664c95c-6865-4488-a93d-1af3c1f73d50",
   "metadata": {},
   "source": [
    "# Instantiate DIDComm Messaging \n",
    "\n",
    "This is used to pack and unpack DIDComm messages."
   ]
  },
  {
   "cell_type": "code",
   "execution_count": 7,
   "id": "72bd7406-33ac-409f-b14f-d75f1ad8b556",
   "metadata": {},
   "outputs": [],
   "source": [
    "packaging = PackagingService()\n",
    "router = RoutingService()\n",
    "\n",
    "dmp = DIDCommMessaging(\n",
    "    crypto=crypto,\n",
    "    secrets=secrets,\n",
    "    resolver=resolver,\n",
    "    packaging=packaging,\n",
    "    routing=router,\n",
    ")"
   ]
  },
  {
   "cell_type": "markdown",
   "id": "88e9b332-adcc-467b-b650-60f02283076f",
   "metadata": {},
   "source": [
    "# Create send message functon\n",
    "\n",
    "Sends packed DIDComm messages to a websocket endpoint"
   ]
  },
  {
   "cell_type": "code",
   "execution_count": 8,
   "id": "c02033b0-70ec-4a8c-ba12-c160144b4abf",
   "metadata": {},
   "outputs": [],
   "source": [
    "async def send_message(message, to, frm):\n",
    "    packy = await dmp.pack(\n",
    "        message=message,\n",
    "        to=to,\n",
    "        frm=frm,\n",
    "    )\n",
    "    packed = packy.message            \n",
    "    # Get the first http endpoint from the last DID in the DID chain\n",
    "    endpoint = packy.get_endpoint(\"ws\")\n",
    "    async with websockets.connect(endpoint) as websocket:\n",
    "        message = \"Hello from the client!\"\n",
    "        print(f\"Sending message: {packed}\")\n",
    "        await websocket.send(packed)  # Send message to the server\n",
    "        \n",
    "        response = await websocket.recv()  # Wait for the server's response\n",
    "        print(f\"Received response: {response}\")"
   ]
  },
  {
   "cell_type": "code",
   "execution_count": null,
   "id": "07b9a017-7aab-48ab-a535-774a4fc84fad",
   "metadata": {},
   "outputs": [],
   "source": []
  },
  {
   "cell_type": "markdown",
   "id": "25b069a4-d412-4989-9624-33b9cd7b417b",
   "metadata": {},
   "source": [
    "# Setup DIDComm Messaging Websocket\n",
    "\n",
    "This is where DIDComm messages are sent to the coordinator"
   ]
  },
  {
   "cell_type": "code",
   "execution_count": 9,
   "id": "98b72579-6c5e-4bf6-9bd4-c709c876e290",
   "metadata": {},
   "outputs": [],
   "source": [
    "import asyncio\n",
    "import websockets\n",
    "\n",
    "inbox = []\n",
    "\n",
    "\n",
    "# This handler will be called for every client connection.\n",
    "async def handle_messages(websocket):\n",
    "    print(\"Client connected\")\n",
    "    try:\n",
    "        async for message in websocket:\n",
    "            print(f\"Received DIDComm Message: \\n\\n {json.dumps(json.loads(message.decode()),indent=2)} \\n\\n\")\n",
    "            # Echo the received message back to the client.\n",
    "            # await websocket.send(f\"Echo: {message}\")\n",
    "\n",
    "            unpacked =  await dmp.packaging.unpack(crypto, resolver, secrets,message)\n",
    "            msg = json.loads(unpacked[0].decode())\n",
    "            inbox.append(msg)\n",
    "            print(f\"Unpacked Message : \\n\\n {json.dumps(msg, indent=2)} \\n\\n\")\n",
    "    except websockets.exceptions.ConnectionClosed as e:\n",
    "        print(\"Connection closed\", e)\n",
    "\n",
    "# The main function to start the server.\n",
    "async def run_websocket():\n",
    "    # Start the server on localhost at port 8765.\n",
    "    async with websockets.serve(handle_messages, didcomm_host, didcomm_port):\n",
    "        print(f\"WebSocket server started on {didcomm_messaging_uri}\")\n",
    "        # Run the server until it is manually stopped.\n",
    "        await asyncio.Future()  # Run forever"
   ]
  },
  {
   "cell_type": "code",
   "execution_count": 10,
   "id": "dee7332b-f836-431b-9dc0-8a09be96a162",
   "metadata": {},
   "outputs": [
    {
     "data": {
      "text/plain": [
       "<Task pending name='Task-7' coro=<run_websocket() running at /tmp/ipykernel_9458/3993558428.py:24>>"
      ]
     },
     "execution_count": 10,
     "metadata": {},
     "output_type": "execute_result"
    },
    {
     "name": "stdout",
     "output_type": "stream",
     "text": [
      "WebSocket server started on ws://localhost:8765\n",
      "Client connected\n",
      "Received DIDComm Message: \n",
      "\n",
      " {\n",
      "  \"protected\": \"eyJ0eXAiOiAiYXBwbGljYXRpb24vZGlkY29tbStlbmNyeXB0ZWQiLCAiYWxnIjogIkVDREgtMVBVK0EyNTZLVyIsICJlbmMiOiAiQTI1NkNCQy1IUzUxMiIsICJhcHUiOiAiWkdsa09uQmxaWEk2TWk1V2VqWk5hM05yYVhCNWIyOHlSMHR5ZW1GSWFFTk1ka3BHVkRaWlkxVlJjVXcxWnpNM1dWUk5hbTFZU0V4WVYzVjNMa1Y2Tmt4VGJrVklXRm8zT1ZsQ1FtUmpXWFJET1hoRlJtbzFkVkl5U21obGFqRXpNak5ZY1hCT1NuZHhia28zWWpNdVUyVjVTakJKYW05cFdrY3dhVXhEU25wSmFuQTNTVzVXZVdGVFNUWkpibVI2VDJrNGRtSkhPV3BaVjNodllqTk9NRTlxWnpOT2FsbHBURU5LYUVscWNHSkpiVkp3V2tkT2RtSlhNSFprYWtscFdGTjNhV05wU1RaWE1URTVabEVqYTJWNUxUSSIsICJhcHYiOiAiN1B2cUNRS0pvbDQwN3pwLW5jeHBKSTZvZmNoQkxBeGJFVVhYSl9COHJEdyIsICJlcGsiOiB7ImNydiI6ICJYMjU1MTkiLCAia3R5IjogIk9LUCIsICJ4IjogIm5ESUQyaUQzUTNjNDBVOVV1VVlLZUh3aWZ0aC1yenY2NjFPeERYNTVRMGsifSwgInNraWQiOiAiZGlkOnBlZXI6Mi5WejZNa3NraXB5b28yR0tyemFIaENMdkpGVDZZY1VRcUw1ZzM3WVRNam1YSExYV3V3LkV6NkxTbkVIWFo3OVlCQmRjWXRDOXhFRmo1dVIySmhlajEzMjNYcXBOSndxbko3YjMuU2V5SjBJam9pWkcwaUxDSnpJanA3SW5WeWFTSTZJbmR6T2k4dmJHOWpZV3hvYjNOME9qZzNOallpTENKaElqcGJJbVJwWkdOdmJXMHZkaklpWFN3aWNpSTZXMTE5ZlEja2V5LTIifQ\",\n",
      "  \"recipients\": [\n",
      "    {\n",
      "      \"encrypted_key\": \"A-PtbzoNith_p1PhkS6l9bSgjS8kP66ONEwO_lyUdkyx_SfKbavV7wPt3ZJWju3P2sBgFuBTnJYkHPjQ0zKCAHkCtQ1W221I\",\n",
      "      \"header\": {\n",
      "        \"kid\": \"did:peer:2.Vz6MksvTpc5zbWrfdZCo3NyjABQQUDqC7yksyBk7PYmCqQ74i.Ez6LSgRMYHNDvqr93XiBp5qNtF1tzQ1cm3gKaoeYukcrnEB1p.SeyJ0IjoiZG0iLCJzIjp7InVyaSI6IndzOi8vbG9jYWxob3N0Ojg3NjUiLCJhIjpbImRpZGNvbW0vdjIiXSwiciI6W119fQ#key-2\"\n",
      "      }\n",
      "    }\n",
      "  ],\n",
      "  \"iv\": \"zzga5G5SR0We-N_-PjIjHQ\",\n",
      "  \"ciphertext\": \"rnicOejy4KQgYaqOq3k-EWV6kUczIOgRWXq97H1nSSjkt7AnbhDIL89h4DF_ATPWAqAHJcqcyI3HcpQwzfmosx4kUMgQV0o6aDaVty3wUUDP6_fSRYWftM8ZipvbDY0uSZXQkdvSSxw29K_yjUtEJlUOsVxBbAEnODzBDUwHgpJ-RfVePLhTLWCSG-Zx57GarmozR9gZ4i8Zzs-jU1xxah3-z3okWOu6PDXfDZwCI0TQPDx1-4ZeiDx25I5OJayYrTSKg7AiH_Suy_SpMiLpElMm5jC5bgVPvcNOIN4B9geHRhd3iXTNjzZL_GIrWpYHtNGEIwymOh4Q1Zhz97-n-0-XTmeqEdlbIrnGoS8Er3xkbAOCwjOs3AU3gVKUoy7lGE8Qd0rZKwYeBUzG6UwvaY3l_KZBSFN50obUSAmube95yqA1OB6K0EJL-MwvnhAsAdskXIWc7AOoKWChpEUXFqOWo6gR6ot6AuuiH6g8CFF7r33bwFmHUo0h_xCapvrJK98xhmxPHzFWvdiE7F9GntOrRRmo6t8PXTepVHOKAX9fGooHlhQlMuwtzvWcdk2-Bg6YrAzmTF6m8sYcH3N0AuSCILEFPLE7NG_0gbyLNNms5ow6dxc4xhvlz83AFIv98mqCD6JfITz4CZMtwF1jwLUfDHXtBSerTHpln_Ld8hEqKNhyeIb_XOu4Mdxk6-Kvw4ynOJg1iRT7b-RweoblCg\",\n",
      "  \"tag\": \"eOgtMcB5ekMGX0K3dIytFnuDq9sbM7-HbBXfUdrFUtM\"\n",
      "} \n",
      "\n",
      "\n",
      "Unpacked Message : \n",
      "\n",
      " {\n",
      "  \"type\": \"https://didcomm.org/musig2/subscribe\",\n",
      "  \"id\": \"e7941053-5bf3-43bc-9054-1c4723ad31c2\",\n",
      "  \"body\": {},\n",
      "  \"from\": \"did:peer:2.Vz6Mkskipyoo2GKrzaHhCLvJFT6YcUQqL5g37YTMjmXHLXWuw.Ez6LSnEHXZ79YBBdcYtC9xEFj5uR2Jhej1323XqpNJwqnJ7b3.SeyJ0IjoiZG0iLCJzIjp7InVyaSI6IndzOi8vbG9jYWxob3N0Ojg3NjYiLCJhIjpbImRpZGNvbW0vdjIiXSwiciI6W119fQ\",\n",
      "  \"to\": \"did:peer:2.Vz6MksvTpc5zbWrfdZCo3NyjABQQUDqC7yksyBk7PYmCqQ74i.Ez6LSgRMYHNDvqr93XiBp5qNtF1tzQ1cm3gKaoeYukcrnEB1p.SeyJ0IjoiZG0iLCJzIjp7InVyaSI6IndzOi8vbG9jYWxob3N0Ojg3NjUiLCJhIjpbImRpZGNvbW0vdjIiXSwiciI6W119fQ\"\n",
      "} \n",
      "\n",
      "\n"
     ]
    }
   ],
   "source": [
    "asyncio.create_task(run_websocket())"
   ]
  },
  {
   "cell_type": "code",
   "execution_count": null,
   "id": "8e805e9b-b514-4857-bc33-5f0c483490b6",
   "metadata": {},
   "outputs": [],
   "source": []
  },
  {
   "cell_type": "markdown",
   "id": "fa91a981-056e-4184-89f9-9a5e611459a6",
   "metadata": {},
   "source": [
    "# Coordinator Shares DID with participants\n",
    "\n",
    "Maybe this happens on their website. Or something like that."
   ]
  },
  {
   "cell_type": "code",
   "execution_count": 12,
   "id": "96b03f76-3bad-42a5-8c58-3ebc46f74cb3",
   "metadata": {},
   "outputs": [
    {
     "name": "stdout",
     "output_type": "stream",
     "text": [
      "coordinator_did='did:peer:2.Vz6MksvTpc5zbWrfdZCo3NyjABQQUDqC7yksyBk7PYmCqQ74i.Ez6LSgRMYHNDvqr93XiBp5qNtF1tzQ1cm3gKaoeYukcrnEB1p.SeyJ0IjoiZG0iLCJzIjp7InVyaSI6IndzOi8vbG9jYWxob3N0Ojg3NjUiLCJhIjpbImRpZGNvbW0vdjIiXSwiciI6W119fQ'\n"
     ]
    }
   ],
   "source": [
    "print(f\"coordinator_did='{did}'\")"
   ]
  },
  {
   "cell_type": "markdown",
   "id": "bbe49353-cf7f-4cbf-9d8d-523c6b7265ba",
   "metadata": {},
   "source": [
    "# Process Inbox for Subscription Requests"
   ]
  },
  {
   "cell_type": "code",
   "execution_count": 13,
   "id": "3c578dc6-d24b-48a7-a7c7-86d68e01a6b2",
   "metadata": {},
   "outputs": [],
   "source": [
    "import uuid\n",
    "def create_accept_subscription_message(to):\n",
    "    print(\"create_accept_subscription_message\")\n",
    "    msg_id = str(uuid.uuid4())\n",
    "    msg = {\n",
    "        \"type\": \"https://didcomm.org/musig2/subscribe/accept\",\n",
    "        \"id\": msg_id,\n",
    "        \"body\": {},\n",
    "        \"from\": did,\n",
    "        \"to\": to,\n",
    "    }\n",
    "    return msg"
   ]
  },
  {
   "cell_type": "code",
   "execution_count": 14,
   "id": "d78221db-6a95-41f6-be3d-61525d1c694e",
   "metadata": {},
   "outputs": [],
   "source": [
    "musig2_subscribers = []"
   ]
  },
  {
   "cell_type": "code",
   "execution_count": 15,
   "id": "5e177f5f-5572-4a75-a28b-03d0b7077938",
   "metadata": {},
   "outputs": [],
   "source": [
    "async def process_inbox(inbox):\n",
    "    while len(inbox) != 0:\n",
    "        message = inbox.pop(0)\n",
    "        print(\"process message\", message)\n",
    "        msg_sender = message[\"from\"]\n",
    "        if message[\"type\"] == 'https://didcomm.org/musig2/subscribe':\n",
    "            print(\"Process subscribe\")\n",
    "            msg = create_accept_subscription_message(msg_sender)\n",
    "            print(msg)\n",
    "            asyncio.create_task(send_message(msg, msg_sender, did))\n",
    "            musig2_subscribers.append(msg_sender)\n",
    "\n"
   ]
  },
  {
   "cell_type": "code",
   "execution_count": 16,
   "id": "acf39895-d4fd-4dd8-83e4-d17458ffaca7",
   "metadata": {},
   "outputs": [
    {
     "data": {
      "text/plain": [
       "<Task pending name='Task-12' coro=<process_inbox() running at /tmp/ipykernel_9458/391074589.py:1>>"
      ]
     },
     "execution_count": 16,
     "metadata": {},
     "output_type": "execute_result"
    },
    {
     "name": "stdout",
     "output_type": "stream",
     "text": [
      "process message {'type': 'https://didcomm.org/musig2/subscribe', 'id': 'e7941053-5bf3-43bc-9054-1c4723ad31c2', 'body': {}, 'from': 'did:peer:2.Vz6Mkskipyoo2GKrzaHhCLvJFT6YcUQqL5g37YTMjmXHLXWuw.Ez6LSnEHXZ79YBBdcYtC9xEFj5uR2Jhej1323XqpNJwqnJ7b3.SeyJ0IjoiZG0iLCJzIjp7InVyaSI6IndzOi8vbG9jYWxob3N0Ojg3NjYiLCJhIjpbImRpZGNvbW0vdjIiXSwiciI6W119fQ', 'to': 'did:peer:2.Vz6MksvTpc5zbWrfdZCo3NyjABQQUDqC7yksyBk7PYmCqQ74i.Ez6LSgRMYHNDvqr93XiBp5qNtF1tzQ1cm3gKaoeYukcrnEB1p.SeyJ0IjoiZG0iLCJzIjp7InVyaSI6IndzOi8vbG9jYWxob3N0Ojg3NjUiLCJhIjpbImRpZGNvbW0vdjIiXSwiciI6W119fQ'}\n",
      "Process subscribe\n",
      "create_accept_subscription_message\n",
      "{'type': 'https://didcomm.org/musig2/subscribe/accept', 'id': '6ba57cc3-55e2-47fd-b5e4-42189ce85857', 'body': {}, 'from': 'did:peer:2.Vz6MksvTpc5zbWrfdZCo3NyjABQQUDqC7yksyBk7PYmCqQ74i.Ez6LSgRMYHNDvqr93XiBp5qNtF1tzQ1cm3gKaoeYukcrnEB1p.SeyJ0IjoiZG0iLCJzIjp7InVyaSI6IndzOi8vbG9jYWxob3N0Ojg3NjUiLCJhIjpbImRpZGNvbW0vdjIiXSwiciI6W119fQ', 'to': 'did:peer:2.Vz6Mkskipyoo2GKrzaHhCLvJFT6YcUQqL5g37YTMjmXHLXWuw.Ez6LSnEHXZ79YBBdcYtC9xEFj5uR2Jhej1323XqpNJwqnJ7b3.SeyJ0IjoiZG0iLCJzIjp7InVyaSI6IndzOi8vbG9jYWxob3N0Ojg3NjYiLCJhIjpbImRpZGNvbW0vdjIiXSwiciI6W119fQ'}\n",
      "Sending message: b'{\"protected\": \"eyJ0eXAiOiAiYXBwbGljYXRpb24vZGlkY29tbStlbmNyeXB0ZWQiLCAiYWxnIjogIkVDREgtMVBVK0EyNTZLVyIsICJlbmMiOiAiQTI1NkNCQy1IUzUxMiIsICJhcHUiOiAiWkdsa09uQmxaWEk2TWk1V2VqWk5hM04yVkhCak5YcGlWM0ptWkZwRGJ6Tk9lV3BCUWxGUlZVUnhRemQ1YTNONVFtczNVRmx0UTNGUk56UnBMa1Y2Tmt4VFoxSk5XVWhPUkhaeGNqa3pXR2xDY0RWeFRuUkdNWFI2VVRGamJUTm5TMkZ2WlZsMWEyTnlia1ZDTVhBdVUyVjVTakJKYW05cFdrY3dhVXhEU25wSmFuQTNTVzVXZVdGVFNUWkpibVI2VDJrNGRtSkhPV3BaVjNodllqTk9NRTlxWnpOT2FsVnBURU5LYUVscWNHSkpiVkp3V2tkT2RtSlhNSFprYWtscFdGTjNhV05wU1RaWE1URTVabEVqYTJWNUxUSSIsICJhcHYiOiAiUTZSTG1vOHVrNHV0V3lkZXpIdnJrdWo4OUZPbDZIbDJNUjBka1ZoTHN0RSIsICJlcGsiOiB7ImNydiI6ICJYMjU1MTkiLCAia3R5IjogIk9LUCIsICJ4IjogImlDaExqSWQ2cU5hZC12eGtXdTJYQzFtZXBNR0d5Ty00N2RBWm5pM081SDAifSwgInNraWQiOiAiZGlkOnBlZXI6Mi5WejZNa3N2VHBjNXpiV3JmZFpDbzNOeWpBQlFRVURxQzd5a3N5Qms3UFltQ3FRNzRpLkV6NkxTZ1JNWUhORHZxcjkzWGlCcDVxTnRGMXR6UTFjbTNnS2FvZVl1a2NybkVCMXAuU2V5SjBJam9pWkcwaUxDSnpJanA3SW5WeWFTSTZJbmR6T2k4dmJHOWpZV3hvYjNOME9qZzNOalVpTENKaElqcGJJbVJwWkdOdmJXMHZkaklpWFN3aWNpSTZXMTE5ZlEja2V5LTIifQ\", \"recipients\": [{\"encrypted_key\": \"LKw7f6XpnjHaW1EDA_QFRZ-G-mC1AGJevRTzY0-AUpXfeR4dVtrpslCynOBiKn64JupAXMcvmQqu6ItJnUvukmDdQLhnKlbL\", \"header\": {\"kid\": \"did:peer:2.Vz6Mkskipyoo2GKrzaHhCLvJFT6YcUQqL5g37YTMjmXHLXWuw.Ez6LSnEHXZ79YBBdcYtC9xEFj5uR2Jhej1323XqpNJwqnJ7b3.SeyJ0IjoiZG0iLCJzIjp7InVyaSI6IndzOi8vbG9jYWxob3N0Ojg3NjYiLCJhIjpbImRpZGNvbW0vdjIiXSwiciI6W119fQ#key-2\"}}], \"iv\": \"ouVpsW1B4Z6OSAQpGTlkfw\", \"ciphertext\": \"VFdOinxTJx2wmuQCtVX4yz3xE7oyAKXZTgiKBVHHgv0_iN6SmJZdqAJxWCbqF0DaW_5Tjn04l5ccUFpvLlHQjfSvEIj-303ok2-C13ChK_Xp3eyUgiOzjgPFLd7HLs9EZtbSKeYVpYxhVLJW83lE3VYKQwVMoYfynK0aV72dAM1gGVDvDzmxoHqzdgekC-pp0CA8SCVcwBAXIkeT4DFEIzGSyKoSs3XJLorLyptLyVBJ5sMNqT7ZTk4on5v1nDyFFsZ9pArEuY9DJ5t0p_igjgjf8fV8gywx7EWTPMV9frsW_a9StTcibn9x8EQapu4HcGNOn4cq4S8X3empevWwEjeFN0PHPtQKeJGV1eET2_jhMygylk5OezQnUO1jDq1YQlSUtg6jpbCkg0V6F1Gk4V-0fY97BNrAYFjpIBxKo0s_zc50l0CrO3SRFXy6pM9hvMmbJSscd3VsB3YzIVh1Kyr8uuL9G8rSAL9Q01zikS-Nok7nq7oM85Q7zsssn9KjFLhJdtq9wvmFyKhe4djCxZ9eN02XklXmihPYuth4UuakWkbVg1I_yascivTnkSXifEQ4aI0Nw9gbJrYE23E_xJeA_5PVSX4fpNt1m-4xaptprclbKXKKDo4K9B5VUN6GrjPw2Eu_HJ4-juZPkzEC6dxErA56GsC-U4CBLrUjYFyk3-1ihbYN5eqrtU-5Kbw54yXRo6abqY1cAnSc2wJj0GVlNqFxhbbaCwlVc3oEgzM\", \"tag\": \"8JgEF1UU0JzSsfuVy4Ttj1raJEB_Il9Xa6vGHIoZun8\"}'\n"
     ]
    }
   ],
   "source": [
    "asyncio.create_task(process_inbox(inbox))\n"
   ]
  },
  {
   "cell_type": "code",
   "execution_count": null,
   "id": "3a90bfd2-6bba-4563-98f2-1341cc4923ff",
   "metadata": {},
   "outputs": [],
   "source": [
    "inbox"
   ]
  },
  {
   "cell_type": "code",
   "execution_count": null,
   "id": "ceeaf47c-ef3f-4fd2-90d0-3078118571fc",
   "metadata": {},
   "outputs": [],
   "source": []
  },
  {
   "cell_type": "code",
   "execution_count": 17,
   "id": "94b185f7-47b3-4da9-83b7-4c21c4e92842",
   "metadata": {},
   "outputs": [
    {
     "data": {
      "text/plain": [
       "['did:peer:2.Vz6Mkskipyoo2GKrzaHhCLvJFT6YcUQqL5g37YTMjmXHLXWuw.Ez6LSnEHXZ79YBBdcYtC9xEFj5uR2Jhej1323XqpNJwqnJ7b3.SeyJ0IjoiZG0iLCJzIjp7InVyaSI6IndzOi8vbG9jYWxob3N0Ojg3NjYiLCJhIjpbImRpZGNvbW0vdjIiXSwiciI6W119fQ']"
      ]
     },
     "execution_count": 17,
     "metadata": {},
     "output_type": "execute_result"
    }
   ],
   "source": [
    "musig2_subscribers"
   ]
  },
  {
   "cell_type": "code",
   "execution_count": 18,
   "id": "fdffe7d6-fabb-4289-8763-768ea413b7d8",
   "metadata": {},
   "outputs": [],
   "source": [
    "def create_new_cohort_message(to, thread_id):\n",
    "    print(\"create_new_cohort_message\")\n",
    "    msg_id = str(uuid.uuid4())\n",
    "    msg = {\n",
    "        \"type\": \"https://didcomm.org/musig2/keygen/new_cohort\",\n",
    "        \"id\": msg_id,\n",
    "        \"thread_id\": thread_id,\n",
    "        \"body\": {},\n",
    "        \"from\": did,\n",
    "        \"to\": to,\n",
    "    }\n",
    "    return msg"
   ]
  },
  {
   "cell_type": "code",
   "execution_count": 19,
   "id": "59f436f4-f4f0-4918-b171-1e49b6804e7f",
   "metadata": {},
   "outputs": [],
   "source": [
    "class Musig2Cohort():\n",
    "\n",
    "    def __init__(self):\n",
    "        self.id = str(uuid.uuid4())\n",
    "        self.participants = []\n",
    "        self.cohort_keys = []\n",
    "\n",
    "    # def finalize_cohort(self):\n",
    "        \n",
    "\n"
   ]
  },
  {
   "cell_type": "code",
   "execution_count": 20,
   "id": "e30ae9d8-3231-4325-a997-5e26232cc531",
   "metadata": {},
   "outputs": [],
   "source": [
    "musig2_cohorts = []"
   ]
  },
  {
   "cell_type": "code",
   "execution_count": 21,
   "id": "63a4ef44-ee4c-4893-bcb4-1b9511063d39",
   "metadata": {},
   "outputs": [],
   "source": [
    "async def announce_new_cohort():\n",
    "    cohort = Musig2Cohort()\n",
    "    for subscriber in musig2_subscribers:\n",
    "        to_array = [subscriber]\n",
    "        thread_id = cohort.id\n",
    "        msg = create_new_cohort_message(to_array, thread_id)\n",
    "        asyncio.create_task(send_message(msg, subscriber, did))\n",
    "    musig2_cohorts.append(cohort)\n",
    "                              \n",
    "        \n",
    "        "
   ]
  },
  {
   "cell_type": "code",
   "execution_count": 22,
   "id": "e008a7ca-d700-4f59-b330-188a2a0b4209",
   "metadata": {},
   "outputs": [
    {
     "data": {
      "text/plain": [
       "<Task pending name='Task-15' coro=<announce_new_cohort() running at /tmp/ipykernel_9458/202562631.py:1>>"
      ]
     },
     "execution_count": 22,
     "metadata": {},
     "output_type": "execute_result"
    },
    {
     "name": "stdout",
     "output_type": "stream",
     "text": [
      "create_new_cohort_message\n",
      "Sending message: b'{\"protected\": \"eyJ0eXAiOiAiYXBwbGljYXRpb24vZGlkY29tbStlbmNyeXB0ZWQiLCAiYWxnIjogIkVDREgtMVBVK0EyNTZLVyIsICJlbmMiOiAiQTI1NkNCQy1IUzUxMiIsICJhcHUiOiAiWkdsa09uQmxaWEk2TWk1V2VqWk5hM04yVkhCak5YcGlWM0ptWkZwRGJ6Tk9lV3BCUWxGUlZVUnhRemQ1YTNONVFtczNVRmx0UTNGUk56UnBMa1Y2Tmt4VFoxSk5XVWhPUkhaeGNqa3pXR2xDY0RWeFRuUkdNWFI2VVRGamJUTm5TMkZ2WlZsMWEyTnlia1ZDTVhBdVUyVjVTakJKYW05cFdrY3dhVXhEU25wSmFuQTNTVzVXZVdGVFNUWkpibVI2VDJrNGRtSkhPV3BaVjNodllqTk9NRTlxWnpOT2FsVnBURU5LYUVscWNHSkpiVkp3V2tkT2RtSlhNSFprYWtscFdGTjNhV05wU1RaWE1URTVabEVqYTJWNUxUSSIsICJhcHYiOiAiUTZSTG1vOHVrNHV0V3lkZXpIdnJrdWo4OUZPbDZIbDJNUjBka1ZoTHN0RSIsICJlcGsiOiB7ImNydiI6ICJYMjU1MTkiLCAia3R5IjogIk9LUCIsICJ4IjogImNkVGhsLXp0ZUliMWtjYktoMUxZUUVHUkN4a01iQXJWQVVxRHdCR0hFRm8ifSwgInNraWQiOiAiZGlkOnBlZXI6Mi5WejZNa3N2VHBjNXpiV3JmZFpDbzNOeWpBQlFRVURxQzd5a3N5Qms3UFltQ3FRNzRpLkV6NkxTZ1JNWUhORHZxcjkzWGlCcDVxTnRGMXR6UTFjbTNnS2FvZVl1a2NybkVCMXAuU2V5SjBJam9pWkcwaUxDSnpJanA3SW5WeWFTSTZJbmR6T2k4dmJHOWpZV3hvYjNOME9qZzNOalVpTENKaElqcGJJbVJwWkdOdmJXMHZkaklpWFN3aWNpSTZXMTE5ZlEja2V5LTIifQ\", \"recipients\": [{\"encrypted_key\": \"Z_yeZqE1M5ouykEiteN_Hhg_FCn7lHJP_AOiBAzeyaUZZk--9CLOKu-fs28oeztNuWu5KG7ZP2tCiYilIVH67O-kDP16JTYm\", \"header\": {\"kid\": \"did:peer:2.Vz6Mkskipyoo2GKrzaHhCLvJFT6YcUQqL5g37YTMjmXHLXWuw.Ez6LSnEHXZ79YBBdcYtC9xEFj5uR2Jhej1323XqpNJwqnJ7b3.SeyJ0IjoiZG0iLCJzIjp7InVyaSI6IndzOi8vbG9jYWxob3N0Ojg3NjYiLCJhIjpbImRpZGNvbW0vdjIiXSwiciI6W119fQ#key-2\"}}], \"iv\": \"P1a6jXZL415OG7aG7FukCg\", \"ciphertext\": \"CRZxz6N5zs1GvB0Mh47T_NszaymeU43EXZgAA08htqhX5VIc5HWrWQ67Q3EINF9haqIBSXp30yXQCPrtzNXsh9uL8tw8zDGfp--7r24_TbP5fx5Xhub2x3ARa5HmfJxkcwQh80-TObjwISvQVyE6JBNQvx_-jTP9aibcLASpgLeDxeWdwIVsCwiulBpkUdNceiW0In555QrlKR4Q0yf3Mk-GzvfNXkLjq3cX6zvwxIicT3RWg-B2w6bAxOlMKPDM2ivojfyGEMQMcsn4zImBqOVWUurbTbQJlB34ol5R6VuLKXuUfTk-RTu27Rodfrgyhu3B0b3xAh6x7Fp9a85iloxvHmka1jBB1kx3jruB6B8GJeTaiBQCZUcRbCLNI-785Os_mYjPlDq_RUYNIUgij3-PNEwu9kr1ZdohlhvBsT0XHhHL-P6LjTifTFCBtWKUGtA9JzOCqd3CRETj1tbcONDRQwOopoP4Mc4tunKsjz_crX5UKjfFWtZFQ1wFNQ5_wE_ASSnLQxfQo29s-ffQ2uT-aJOzWP1zaFvXUPEbou3c3Js90N4PMtUiZNE797XHo6S9DxGDMk-BJIJiNxdGZToxgz18kDoC4QEx_Xmg4uvsRlb08qzmIgUdQyXoMaiXcMKw0l2HnGfm-qYcnqyWaV_i0EblFGPkD8EHE5yqC752SGn13HW144fMLdkwGZsIL8Bh6t-yML8kT9atooBXZypWQ0OVvhOAYuoNVs7QdHBAhTJaLWK6cG8NRsBEWtFzlqmVLY9uZK301GmWEiH-Hej4VE-SvC0SkD-BCZm-MIM\", \"tag\": \"2IdRf2dpeOoExB0KpkTGv5iSITrGxh3YTwzEi2hXPgc\"}'\n"
     ]
    }
   ],
   "source": [
    "asyncio.create_task(announce_new_cohort())"
   ]
  },
  {
   "cell_type": "code",
   "execution_count": null,
   "id": "664b857f-6be1-4c0c-8f29-eaa1bbab365f",
   "metadata": {},
   "outputs": [],
   "source": [
    "inbox"
   ]
  },
  {
   "cell_type": "code",
   "execution_count": null,
   "id": "0e1691ad-7dfe-42b9-9460-e3d50f374332",
   "metadata": {},
   "outputs": [],
   "source": []
  }
 ],
 "metadata": {
  "kernelspec": {
   "display_name": "Python 3 (ipykernel)",
   "language": "python",
   "name": "python3"
  },
  "language_info": {
   "codemirror_mode": {
    "name": "ipython",
    "version": 3
   },
   "file_extension": ".py",
   "mimetype": "text/x-python",
   "name": "python",
   "nbconvert_exporter": "python",
   "pygments_lexer": "ipython3",
   "version": "3.12.3"
  }
 },
 "nbformat": 4,
 "nbformat_minor": 5
}
