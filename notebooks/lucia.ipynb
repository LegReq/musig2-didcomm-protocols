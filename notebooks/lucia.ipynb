{
 "cells": [
  {
   "cell_type": "markdown",
   "id": "82cb57ec-2564-4657-926b-5b7d64c16b6f",
   "metadata": {},
   "source": [
    "# Lucia"
   ]
  },
  {
   "cell_type": "code",
   "execution_count": 9,
   "id": "7b046e31-1bda-482d-af32-d77a5de60253",
   "metadata": {},
   "outputs": [],
   "source": [
    "import json\n",
    "from aries_askar import Key, KeyAlg\n",
    "from didcomm_messaging.crypto.backend.askar import AskarCryptoService, AskarSecretKey\n",
    "from didcomm_messaging.crypto.backend.basic import InMemorySecretsManager\n",
    "from didcomm_messaging.packaging import PackagingService\n",
    "from didcomm_messaging.multiformats import multibase\n",
    "from didcomm_messaging.multiformats import multicodec\n",
    "from didcomm_messaging.resolver.peer import Peer2, Peer4\n",
    "from didcomm_messaging.resolver import PrefixResolver\n",
    "from did_peer_2 import KeySpec, generate, json\n",
    "from didcomm_messaging import DIDCommMessaging\n",
    "from didcomm_messaging.routing import RoutingService\n",
    "from pydid.did import DID\n"
   ]
  },
  {
   "cell_type": "markdown",
   "id": "120562dd-ea1e-4398-8e90-5f982864b44b",
   "metadata": {},
   "source": [
    "# Define DIDComm Messaging Service Endpoint"
   ]
  },
  {
   "cell_type": "code",
   "execution_count": 10,
   "id": "7f7711b6-85cc-4a77-9515-6e9f195db792",
   "metadata": {},
   "outputs": [],
   "source": [
    "didcomm_host = \"localhost\"\n",
    "didcomm_port = 8767\n",
    "didcomm_messaging_uri = f\"ws://{didcomm_host}:{didcomm_port}\""
   ]
  },
  {
   "cell_type": "markdown",
   "id": "f8d53a90-d724-4f06-9b0e-fd2525d2cff2",
   "metadata": {},
   "source": [
    "# Create Coordinator DID"
   ]
  },
  {
   "cell_type": "code",
   "execution_count": 11,
   "id": "ee67574d-c5d7-4c56-a909-6105e99e8c42",
   "metadata": {},
   "outputs": [],
   "source": [
    "secrets = InMemorySecretsManager()\n",
    "crypto = AskarCryptoService()\n",
    "verkey = Key.generate(KeyAlg.ED25519)\n",
    "xkey = Key.generate(KeyAlg.X25519)\n",
    "did = generate(\n",
    "    [\n",
    "        KeySpec.verification(\n",
    "            multibase.encode(\n",
    "                multicodec.wrap(\"ed25519-pub\", verkey.get_public_bytes()),\n",
    "                \"base58btc\",\n",
    "            )\n",
    "        ),\n",
    "        KeySpec.key_agreement(\n",
    "            multibase.encode(\n",
    "                multicodec.wrap(\"x25519-pub\", xkey.get_public_bytes()), \"base58btc\"\n",
    "            )\n",
    "        ),\n",
    "    ],\n",
    "    [\n",
    "                {\n",
    "                    \"type\": \"DIDCommMessaging\",\n",
    "                    \"serviceEndpoint\": {\n",
    "                        \"uri\": didcomm_messaging_uri,\n",
    "                        \"accept\": [\"didcomm/v2\"],\n",
    "                        \"routingKeys\": [],\n",
    "                    },\n",
    "                },\n",
    "    ],\n",
    ")\n",
    "await secrets.add_secret(AskarSecretKey(verkey, f\"{did}#key-1\"))\n",
    "await secrets.add_secret(AskarSecretKey(xkey, f\"{did}#key-2\"))\n"
   ]
  },
  {
   "cell_type": "code",
   "execution_count": 12,
   "id": "169446a8-166d-468a-996d-9bba7e7e5cc6",
   "metadata": {},
   "outputs": [
    {
     "name": "stdout",
     "output_type": "stream",
     "text": [
      "{\n",
      "  \"@context\": [\n",
      "    \"https://www.w3.org/ns/did/v1\",\n",
      "    \"https://w3id.org/security/multikey/v1\"\n",
      "  ],\n",
      "  \"id\": \"did:peer:2.Vz6MkiN6uhd8HP4RCyuYsQLg3ysWEAej1hkRHk9miJsKmx4xe.Ez6LSdkAdh4dmeBcFciCR71qDRrivNAEegRTDYANGCeDat6YH.SeyJ0IjoiZG0iLCJzIjp7InVyaSI6IndzOi8vbG9jYWxob3N0Ojg3NjciLCJhIjpbImRpZGNvbW0vdjIiXSwiciI6W119fQ\",\n",
      "  \"verificationMethod\": [\n",
      "    {\n",
      "      \"type\": \"Multikey\",\n",
      "      \"id\": \"#key-1\",\n",
      "      \"controller\": \"did:peer:2.Vz6MkiN6uhd8HP4RCyuYsQLg3ysWEAej1hkRHk9miJsKmx4xe.Ez6LSdkAdh4dmeBcFciCR71qDRrivNAEegRTDYANGCeDat6YH.SeyJ0IjoiZG0iLCJzIjp7InVyaSI6IndzOi8vbG9jYWxob3N0Ojg3NjciLCJhIjpbImRpZGNvbW0vdjIiXSwiciI6W119fQ\",\n",
      "      \"publicKeyMultibase\": \"z6MkiN6uhd8HP4RCyuYsQLg3ysWEAej1hkRHk9miJsKmx4xe\"\n",
      "    },\n",
      "    {\n",
      "      \"type\": \"Multikey\",\n",
      "      \"id\": \"#key-2\",\n",
      "      \"controller\": \"did:peer:2.Vz6MkiN6uhd8HP4RCyuYsQLg3ysWEAej1hkRHk9miJsKmx4xe.Ez6LSdkAdh4dmeBcFciCR71qDRrivNAEegRTDYANGCeDat6YH.SeyJ0IjoiZG0iLCJzIjp7InVyaSI6IndzOi8vbG9jYWxob3N0Ojg3NjciLCJhIjpbImRpZGNvbW0vdjIiXSwiciI6W119fQ\",\n",
      "      \"publicKeyMultibase\": \"z6LSdkAdh4dmeBcFciCR71qDRrivNAEegRTDYANGCeDat6YH\"\n",
      "    }\n",
      "  ],\n",
      "  \"authentication\": [\n",
      "    \"#key-1\"\n",
      "  ],\n",
      "  \"keyAgreement\": [\n",
      "    \"#key-2\"\n",
      "  ],\n",
      "  \"service\": [\n",
      "    {\n",
      "      \"type\": \"DIDCommMessaging\",\n",
      "      \"serviceEndpoint\": {\n",
      "        \"uri\": \"ws://localhost:8767\",\n",
      "        \"accept\": [\n",
      "          \"didcomm/v2\"\n",
      "        ],\n",
      "        \"routingKeys\": []\n",
      "      },\n",
      "      \"id\": \"#service\"\n",
      "    }\n",
      "  ],\n",
      "  \"alsoKnownAs\": [\n",
      "    \"did:peer:3zQmRbqu62tuo5vpe45paRF3YoWbew28haLaRyJiuGFXwaWU\"\n",
      "  ]\n",
      "}\n"
     ]
    }
   ],
   "source": [
    "resolver = PrefixResolver({\"did:peer:2\": Peer2(), \"did:peer:4\": Peer4()})\n",
    "\n",
    "did_document = await resolver.resolve(did)\n",
    "print(json.dumps(did_document, indent=2))"
   ]
  },
  {
   "cell_type": "markdown",
   "id": "6664c95c-6865-4488-a93d-1af3c1f73d50",
   "metadata": {},
   "source": [
    "# Instantiate DIDComm Messaging \n",
    "\n",
    "This is used to pack and unpack DIDComm messages."
   ]
  },
  {
   "cell_type": "code",
   "execution_count": 13,
   "id": "72bd7406-33ac-409f-b14f-d75f1ad8b556",
   "metadata": {},
   "outputs": [],
   "source": [
    "packaging = PackagingService()\n",
    "router = RoutingService()\n",
    "\n",
    "dmp = DIDCommMessaging(\n",
    "    crypto=crypto,\n",
    "    secrets=secrets,\n",
    "    resolver=resolver,\n",
    "    packaging=packaging,\n",
    "    routing=router,\n",
    ")"
   ]
  },
  {
   "cell_type": "markdown",
   "id": "88e9b332-adcc-467b-b650-60f02283076f",
   "metadata": {},
   "source": [
    "# Create send message functon\n",
    "\n",
    "Sends packed DIDComm messages to a websocket endpoint"
   ]
  },
  {
   "cell_type": "code",
   "execution_count": 14,
   "id": "c02033b0-70ec-4a8c-ba12-c160144b4abf",
   "metadata": {},
   "outputs": [],
   "source": [
    "async def send_message(endpoint, packed):\n",
    "    async with websockets.connect(endpoint) as websocket:\n",
    "        message = \"Hello from the client!\"\n",
    "        print(f\"Sending message: {packed}\")\n",
    "        await websocket.send(packed)  # Send message to the server\n",
    "        \n",
    "        response = await websocket.recv()  # Wait for the server's response\n",
    "        print(f\"Received response: {response}\")"
   ]
  },
  {
   "cell_type": "code",
   "execution_count": null,
   "id": "07b9a017-7aab-48ab-a535-774a4fc84fad",
   "metadata": {},
   "outputs": [],
   "source": []
  },
  {
   "cell_type": "markdown",
   "id": "25b069a4-d412-4989-9624-33b9cd7b417b",
   "metadata": {},
   "source": [
    "# Setup DIDComm Messaging Websocket\n",
    "\n",
    "This is where DIDComm messages are sent to the coordinator"
   ]
  },
  {
   "cell_type": "code",
   "execution_count": 15,
   "id": "98b72579-6c5e-4bf6-9bd4-c709c876e290",
   "metadata": {},
   "outputs": [],
   "source": [
    "import asyncio\n",
    "import websockets\n",
    "\n",
    "received_messages = []\n",
    "\n",
    "\n",
    "# This handler will be called for every client connection.\n",
    "async def handle_messages(websocket):\n",
    "    print(\"Client connected\")\n",
    "    try:\n",
    "        async for message in websocket:\n",
    "            print(f\"Received: {message}\")\n",
    "            # Echo the received message back to the client.\n",
    "            # await websocket.send(f\"Echo: {message}\")\n",
    "\n",
    "            unpacked =  await dmp.packaging.unpack(crypto, resolver, secrets,message)\n",
    "            received_messages.append(unpacked)\n",
    "            print(f\"Unpacked Message : {unpacked}\")\n",
    "    except websockets.exceptions.ConnectionClosed as e:\n",
    "        print(\"Connection closed\", e)\n",
    "\n",
    "# The main function to start the server.\n",
    "async def run_websocket():\n",
    "    # Start the server on localhost at port 8765.\n",
    "    async with websockets.serve(handle_messages, didcomm_host, didcomm_port):\n",
    "        print(f\"WebSocket server started on {didcomm_messaging_uri}\")\n",
    "        # Run the server until it is manually stopped.\n",
    "        await asyncio.Future()  # Run forever"
   ]
  },
  {
   "cell_type": "code",
   "execution_count": 16,
   "id": "dee7332b-f836-431b-9dc0-8a09be96a162",
   "metadata": {},
   "outputs": [
    {
     "data": {
      "text/plain": [
       "<Task pending name='Task-11' coro=<run_websocket() running at /tmp/ipykernel_45484/2569901432.py:23>>"
      ]
     },
     "execution_count": 16,
     "metadata": {},
     "output_type": "execute_result"
    }
   ],
   "source": [
    "asyncio.create_task(run_websocket())"
   ]
  },
  {
   "cell_type": "code",
   "execution_count": null,
   "id": "8e805e9b-b514-4857-bc33-5f0c483490b6",
   "metadata": {},
   "outputs": [],
   "source": []
  },
  {
   "cell_type": "code",
   "execution_count": null,
   "id": "15cb2ab9-3608-44df-aca2-514a302752f0",
   "metadata": {},
   "outputs": [],
   "source": []
  }
 ],
 "metadata": {
  "kernelspec": {
   "display_name": "Python 3 (ipykernel)",
   "language": "python",
   "name": "python3"
  },
  "language_info": {
   "codemirror_mode": {
    "name": "ipython",
    "version": 3
   },
   "file_extension": ".py",
   "mimetype": "text/x-python",
   "name": "python",
   "nbconvert_exporter": "python",
   "pygments_lexer": "ipython3",
   "version": "3.12.3"
  }
 },
 "nbformat": 4,
 "nbformat_minor": 5
}
