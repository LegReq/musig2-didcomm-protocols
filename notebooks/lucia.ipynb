{
 "cells": [
  {
   "cell_type": "markdown",
   "id": "7efa8d71-49dd-4e0e-8793-3649beec21d5",
   "metadata": {},
   "source": [
    "# Beacon Participant - Lucia"
   ]
  },
  {
   "cell_type": "code",
   "execution_count": 1,
   "id": "0c6b0359-3b75-4aab-b3b7-d6eda35984be",
   "metadata": {},
   "outputs": [],
   "source": [
    "import asyncio\n",
    "from musig2_protocols.beacon_participant import BeaconParticipant\n",
    "from buidl.hd import HDPrivateKey, secure_mnemonic\n",
    "import json"
   ]
  },
  {
   "cell_type": "markdown",
   "id": "20b0d5a1-c7b4-47ac-bbf7-6b0639831469",
   "metadata": {},
   "source": [
    "# Generate a HD Key\n",
    "\n",
    "Actually, the coordinator does not need a HDKey in the example as it is currently developed. "
   ]
  },
  {
   "cell_type": "code",
   "execution_count": 2,
   "id": "5d269ad8-7d9d-4f5f-b871-74c322df7948",
   "metadata": {},
   "outputs": [],
   "source": [
    "secure_mnemonic = secure_mnemonic()\n",
    "hd_priv = HDPrivateKey.from_mnemonic(secure_mnemonic)"
   ]
  },
  {
   "cell_type": "markdown",
   "id": "12389ade-4e6e-4313-87cf-7c43e69438db",
   "metadata": {},
   "source": [
    "# Define DIDComm Messaging host and port"
   ]
  },
  {
   "cell_type": "code",
   "execution_count": 3,
   "id": "07a31310-0614-4fec-a182-778cf825869d",
   "metadata": {},
   "outputs": [],
   "source": [
    "didcomm_host = \"localhost\"\n",
    "didcomm_port = 8767"
   ]
  },
  {
   "cell_type": "markdown",
   "id": "af38e635-2cff-4eec-af76-2833856d3cf1",
   "metadata": {},
   "source": [
    "# Instantiate a BeaconParticipant\n",
    "\n",
    "This creates a BeaconParticipant and registers the appropriate default handlers for handling the messages of the musig2 keygen and signing protocols."
   ]
  },
  {
   "cell_type": "code",
   "execution_count": 4,
   "id": "25482a42-d7a6-434f-9515-77b9ff8de8cd",
   "metadata": {},
   "outputs": [
    {
     "name": "stdout",
     "output_type": "stream",
     "text": [
      "Lucia: Registering handler for message type https://btc1.tools/musig2/keygen/subscribe_accept\n",
      "Lucia: Registering handler for message type https://btc1.tools/musig2/keygen/cohort_advert\n",
      "Lucia: Registering handler for message type https://btc1.tools/musig2/keygen/cohort_set\n",
      "Lucia: Registering handler for message type https://btc1.tools/musig2/sign/authorization_request\n",
      "Lucia: Registering handler for message type https://btc1.tools/musig2/sign/aggregated_nonce\n"
     ]
    }
   ],
   "source": [
    "# Name is for logging purposes\n",
    "name = \"Lucia\"\n",
    "beacon_participant = await BeaconParticipant.create(\n",
    "    name=name, \n",
    "    port=didcomm_port,\n",
    "    host=didcomm_host,\n",
    "    root_hdpriv=hd_priv\n",
    ")"
   ]
  },
  {
   "cell_type": "code",
   "execution_count": 5,
   "id": "d6ab428a-9754-4274-9bb3-04e66c79727e",
   "metadata": {},
   "outputs": [
    {
     "data": {
      "text/plain": [
       "'did:peer:2.Vz6Mkq8t1GaVjQ5zf8PnnahySB2bHukdVVCUpYQiAf2Uxisxx.Ez6LSqKuutdBvc8zyQkSjJZ7zUBbopj7VDMhasaGLEZYSwsxL.SeyJ0IjoiZG0iLCJzIjp7InVyaSI6IndzOi8vbG9jYWxob3N0Ojg3NjciLCJhIjpbImRpZGNvbW0vdjIiXSwiciI6W119fQ'"
      ]
     },
     "execution_count": 5,
     "metadata": {},
     "output_type": "execute_result"
    }
   ],
   "source": [
    "# A did:peer is generated for the beacon participant\n",
    "did = beacon_participant.did\n",
    "did"
   ]
  },
  {
   "cell_type": "markdown",
   "id": "71ffe92a-ac93-4f8b-8b04-382152a1ca10",
   "metadata": {},
   "source": [
    "## Resolve the DID\n",
    "\n",
    "The DID can be resolved to its DID document, which contains a verificationMethod that can be used for Key Agreement (#key-2) and a DIDCommMessaging service with a service endpoint identifying the websocket that participants should send DIDComm messages to."
   ]
  },
  {
   "cell_type": "code",
   "execution_count": 6,
   "id": "dc6dda04-197a-4951-8f7d-650f6c9a3008",
   "metadata": {},
   "outputs": [],
   "source": [
    "from didcomm_messaging.resolver.peer import Peer2, Peer4\n",
    "from didcomm_messaging.resolver import PrefixResolver\n",
    "resolver = PrefixResolver({\"did:peer:2\": Peer2(), \"did:peer:4\": Peer4()})\n"
   ]
  },
  {
   "cell_type": "code",
   "execution_count": 7,
   "id": "aafe8e1a-158a-4f1f-b153-cc37934c3ee3",
   "metadata": {},
   "outputs": [
    {
     "name": "stdout",
     "output_type": "stream",
     "text": [
      "{\n",
      "  \"@context\": [\n",
      "    \"https://www.w3.org/ns/did/v1\",\n",
      "    \"https://w3id.org/security/multikey/v1\"\n",
      "  ],\n",
      "  \"id\": \"did:peer:2.Vz6Mkq8t1GaVjQ5zf8PnnahySB2bHukdVVCUpYQiAf2Uxisxx.Ez6LSqKuutdBvc8zyQkSjJZ7zUBbopj7VDMhasaGLEZYSwsxL.SeyJ0IjoiZG0iLCJzIjp7InVyaSI6IndzOi8vbG9jYWxob3N0Ojg3NjciLCJhIjpbImRpZGNvbW0vdjIiXSwiciI6W119fQ\",\n",
      "  \"verificationMethod\": [\n",
      "    {\n",
      "      \"type\": \"Multikey\",\n",
      "      \"id\": \"#key-1\",\n",
      "      \"controller\": \"did:peer:2.Vz6Mkq8t1GaVjQ5zf8PnnahySB2bHukdVVCUpYQiAf2Uxisxx.Ez6LSqKuutdBvc8zyQkSjJZ7zUBbopj7VDMhasaGLEZYSwsxL.SeyJ0IjoiZG0iLCJzIjp7InVyaSI6IndzOi8vbG9jYWxob3N0Ojg3NjciLCJhIjpbImRpZGNvbW0vdjIiXSwiciI6W119fQ\",\n",
      "      \"publicKeyMultibase\": \"z6Mkq8t1GaVjQ5zf8PnnahySB2bHukdVVCUpYQiAf2Uxisxx\"\n",
      "    },\n",
      "    {\n",
      "      \"type\": \"Multikey\",\n",
      "      \"id\": \"#key-2\",\n",
      "      \"controller\": \"did:peer:2.Vz6Mkq8t1GaVjQ5zf8PnnahySB2bHukdVVCUpYQiAf2Uxisxx.Ez6LSqKuutdBvc8zyQkSjJZ7zUBbopj7VDMhasaGLEZYSwsxL.SeyJ0IjoiZG0iLCJzIjp7InVyaSI6IndzOi8vbG9jYWxob3N0Ojg3NjciLCJhIjpbImRpZGNvbW0vdjIiXSwiciI6W119fQ\",\n",
      "      \"publicKeyMultibase\": \"z6LSqKuutdBvc8zyQkSjJZ7zUBbopj7VDMhasaGLEZYSwsxL\"\n",
      "    }\n",
      "  ],\n",
      "  \"authentication\": [\n",
      "    \"#key-1\"\n",
      "  ],\n",
      "  \"keyAgreement\": [\n",
      "    \"#key-2\"\n",
      "  ],\n",
      "  \"service\": [\n",
      "    {\n",
      "      \"type\": \"DIDCommMessaging\",\n",
      "      \"serviceEndpoint\": {\n",
      "        \"uri\": \"ws://localhost:8767\",\n",
      "        \"accept\": [\n",
      "          \"didcomm/v2\"\n",
      "        ],\n",
      "        \"routingKeys\": []\n",
      "      },\n",
      "      \"id\": \"#service\"\n",
      "    }\n",
      "  ],\n",
      "  \"alsoKnownAs\": [\n",
      "    \"did:peer:3zQmXfHp2CPLh1zLUSiuaqt43ex6g7Ze9wJziEmtkbwVUNKr\"\n",
      "  ]\n",
      "}\n"
     ]
    }
   ],
   "source": [
    "did_document = await resolver.resolve(did)\n",
    "print(json.dumps(did_document, indent=2))"
   ]
  },
  {
   "cell_type": "code",
   "execution_count": 8,
   "id": "2b11aa3d-e5b3-480a-9d2e-a190f025f3df",
   "metadata": {},
   "outputs": [
    {
     "name": "stdout",
     "output_type": "stream",
     "text": [
      "Lucia: Starting websocket server on ws://localhost:8767\n",
      "Lucia: WebSocket server started successfully\n",
      "Lucia: New client connected\n",
      "Lucia: Received raw message\n",
      "Lucia: Successfully unpacked message: {\n",
      "  \"type\": \"https://btc1.tools/musig2/keygen/subscribe_accept\",\n",
      "  \"id\": \"7858b467-9b6b-4b21-919f-b9c28b8945ae\",\n",
      "  \"to\": \"did:peer:2.Vz6Mkq8t1GaVjQ5zf8PnnahySB2bHukdVVCUpYQiAf2Uxisxx.Ez6LSqKuutdBvc8zyQkSjJZ7zUBbopj7VDMhasaGLEZYSwsxL.SeyJ0IjoiZG0iLCJzIjp7InVyaSI6IndzOi8vbG9jYWxob3N0Ojg3NjciLCJhIjpbImRpZGNvbW0vdjIiXSwiciI6W119fQ\",\n",
      "  \"from\": \"did:peer:2.Vz6MkgExXQ5es6n7Fie6SdyEdhYgYA5VDtzDwCJUGWGspWemo.Ez6LSePN8SKTBYuyMjpYZrYjFqoKARsnrPqYwBuRSByoLX8bP.SeyJ0IjoiZG0iLCJzIjp7InVyaSI6IndzOi8vbG9jYWxob3N0Ojg3NjUiLCJhIjpbImRpZGNvbW0vdjIiXSwiciI6W119fQ\",\n",
      "  \"body\": {}\n",
      "}\n",
      "Routing - https://btc1.tools/musig2/keygen/subscribe_accept\n",
      "Lucia: Received raw message\n",
      "Lucia: Successfully unpacked message: {\n",
      "  \"type\": \"https://btc1.tools/musig2/keygen/cohort_advert\",\n",
      "  \"id\": \"adba988e-f192-4f31-8c64-bf387058a3a2\",\n",
      "  \"to\": \"did:peer:2.Vz6Mkq8t1GaVjQ5zf8PnnahySB2bHukdVVCUpYQiAf2Uxisxx.Ez6LSqKuutdBvc8zyQkSjJZ7zUBbopj7VDMhasaGLEZYSwsxL.SeyJ0IjoiZG0iLCJzIjp7InVyaSI6IndzOi8vbG9jYWxob3N0Ojg3NjciLCJhIjpbImRpZGNvbW0vdjIiXSwiciI6W119fQ\",\n",
      "  \"from\": \"did:peer:2.Vz6MkgExXQ5es6n7Fie6SdyEdhYgYA5VDtzDwCJUGWGspWemo.Ez6LSePN8SKTBYuyMjpYZrYjFqoKARsnrPqYwBuRSByoLX8bP.SeyJ0IjoiZG0iLCJzIjp7InVyaSI6IndzOi8vbG9jYWxob3N0Ojg3NjUiLCJhIjpbImRpZGNvbW0vdjIiXSwiciI6W119fQ\",\n",
      "  \"body\": {\n",
      "    \"cohort_id\": \"bacfedf0-428d-4b84-bd9e-75b217b93f7c\",\n",
      "    \"btc_network\": \"signet\",\n",
      "    \"cohort_size\": 2\n",
      "  }\n",
      "}\n",
      "Routing - https://btc1.tools/musig2/keygen/cohort_advert\n",
      "BeaconParticipant did:peer:2.Vz6Mkq8t1GaVjQ5zf8PnnahySB2bHukdVVCUpYQiAf2Uxisxx.Ez6LSqKuutdBvc8zyQkSjJZ7zUBbopj7VDMhasaGLEZYSwsxL.SeyJ0IjoiZG0iLCJzIjp7InVyaSI6IndzOi8vbG9jYWxob3N0Ojg3NjciLCJhIjpbImRpZGNvbW0vdjIiXSwiciI6W119fQ received new cohort announcement from did:peer:2.Vz6MkgExXQ5es6n7Fie6SdyEdhYgYA5VDtzDwCJUGWGspWemo.Ez6LSePN8SKTBYuyMjpYZrYjFqoKARsnrPqYwBuRSByoLX8bP.SeyJ0IjoiZG0iLCJzIjp7InVyaSI6IndzOi8vbG9jYWxob3N0Ojg3NjUiLCJhIjpbImRpZGNvbW0vdjIiXSwiciI6W119fQ\n",
      "BeaconParticipant did:peer:2.Vz6Mkq8t1GaVjQ5zf8PnnahySB2bHukdVVCUpYQiAf2Uxisxx.Ez6LSqKuutdBvc8zyQkSjJZ7zUBbopj7VDMhasaGLEZYSwsxL.SeyJ0IjoiZG0iLCJzIjp7InVyaSI6IndzOi8vbG9jYWxob3N0Ojg3NjciLCJhIjpbImRpZGNvbW0vdjIiXSwiciI6W119fQ joining cohort bacfedf0-428d-4b84-bd9e-75b217b93f7c with coordinator did:peer:2.Vz6MkgExXQ5es6n7Fie6SdyEdhYgYA5VDtzDwCJUGWGspWemo.Ez6LSePN8SKTBYuyMjpYZrYjFqoKARsnrPqYwBuRSByoLX8bP.SeyJ0IjoiZG0iLCJzIjp7InVyaSI6IndzOi8vbG9jYWxob3N0Ojg3NjUiLCJhIjpbImRpZGNvbW0vdjIiXSwiciI6W119fQ\n",
      "Lucia: Preparing to send message to did:peer:2.Vz6MkgExXQ5es6n7Fie6SdyEdhYgYA5VDtzDwCJUGWGspWemo.Ez6LSePN8SKTBYuyMjpYZrYjFqoKARsnrPqYwBuRSByoLX8bP.SeyJ0IjoiZG0iLCJzIjp7InVyaSI6IndzOi8vbG9jYWxob3N0Ojg3NjUiLCJhIjpbImRpZGNvbW0vdjIiXSwiciI6W119fQ\n",
      "Lucia: Got endpoint ws://localhost:8765 for message to did:peer:2.Vz6MkgExXQ5es6n7Fie6SdyEdhYgYA5VDtzDwCJUGWGspWemo.Ez6LSePN8SKTBYuyMjpYZrYjFqoKARsnrPqYwBuRSByoLX8bP.SeyJ0IjoiZG0iLCJzIjp7InVyaSI6IndzOi8vbG9jYWxob3N0Ojg3NjUiLCJhIjpbImRpZGNvbW0vdjIiXSwiciI6W119fQ\n",
      "Lucia: Added message to queue for ws://localhost:8765\n",
      "Lucia: Received raw message\n",
      "Lucia: Successfully unpacked message: {\n",
      "  \"type\": \"https://btc1.tools/musig2/keygen/cohort_set\",\n",
      "  \"id\": \"2f759e2a-c607-45b0-92f0-324291e463e2\",\n",
      "  \"to\": \"did:peer:2.Vz6Mkq8t1GaVjQ5zf8PnnahySB2bHukdVVCUpYQiAf2Uxisxx.Ez6LSqKuutdBvc8zyQkSjJZ7zUBbopj7VDMhasaGLEZYSwsxL.SeyJ0IjoiZG0iLCJzIjp7InVyaSI6IndzOi8vbG9jYWxob3N0Ojg3NjciLCJhIjpbImRpZGNvbW0vdjIiXSwiciI6W119fQ\",\n",
      "  \"from\": \"did:peer:2.Vz6MkgExXQ5es6n7Fie6SdyEdhYgYA5VDtzDwCJUGWGspWemo.Ez6LSePN8SKTBYuyMjpYZrYjFqoKARsnrPqYwBuRSByoLX8bP.SeyJ0IjoiZG0iLCJzIjp7InVyaSI6IndzOi8vbG9jYWxob3N0Ojg3NjUiLCJhIjpbImRpZGNvbW0vdjIiXSwiciI6W119fQ\",\n",
      "  \"body\": {\n",
      "    \"cohort_id\": \"bacfedf0-428d-4b84-bd9e-75b217b93f7c\",\n",
      "    \"beacon_address\": \"tb1p8s3kjv9r6p5520l8v564e4pfzenygs20hpd8kr0mytlx27p8vtqq47ugq8\",\n",
      "    \"cohort_keys\": [\n",
      "      \"02c4bef2abaaf128b7a96e689031770252533c6848739077a05032e607e2377997\",\n",
      "      \"033502603d2521611c61d28c7f1d4df61cc8dcaa69d07a8720f600a5f86d8fe987\"\n",
      "    ]\n",
      "  }\n",
      "}\n",
      "Routing - https://btc1.tools/musig2/keygen/cohort_set\n",
      "BeaconParticipant Lucia validated cohort bacfedf0-428d-4b84-bd9e-75b217b93f7c with beacon address tb1p8s3kjv9r6p5520l8v564e4pfzenygs20hpd8kr0mytlx27p8vtqq47ugq8. Cohort status: COHORT_SET\n"
     ]
    }
   ],
   "source": [
    "task = asyncio.create_task(beacon_participant.start())"
   ]
  },
  {
   "cell_type": "markdown",
   "id": "036fbbe3-6fd2-46fb-8fc8-53b0800f03b6",
   "metadata": {},
   "source": [
    "# Find Beacon Coordinator\n",
    "\n",
    "Copy the coordinator_did value generated from the [coordinator](./coordinator.ipynb) notebook"
   ]
  },
  {
   "cell_type": "code",
   "execution_count": 9,
   "id": "445806e5-e311-45fd-a1e4-70e6fa418ca2",
   "metadata": {},
   "outputs": [],
   "source": [
    "coordinator_did = 'did:peer:2.Vz6MkgExXQ5es6n7Fie6SdyEdhYgYA5VDtzDwCJUGWGspWemo.Ez6LSePN8SKTBYuyMjpYZrYjFqoKARsnrPqYwBuRSByoLX8bP.SeyJ0IjoiZG0iLCJzIjp7InVyaSI6IndzOi8vbG9jYWxob3N0Ojg3NjUiLCJhIjpbImRpZGNvbW0vdjIiXSwiciI6W119fQ'"
   ]
  },
  {
   "cell_type": "code",
   "execution_count": null,
   "id": "9c21fcce-059e-4962-84fe-e4ca6cd30358",
   "metadata": {},
   "outputs": [],
   "source": []
  },
  {
   "cell_type": "markdown",
   "id": "77e3c9fe-3e60-40ea-a37c-1f03230ae210",
   "metadata": {},
   "source": [
    "## Subscribe to Beacon Coordinator using DID"
   ]
  },
  {
   "cell_type": "code",
   "execution_count": 10,
   "id": "3f23bd3e-1732-4c7a-be7a-a2240f84f223",
   "metadata": {},
   "outputs": [
    {
     "name": "stdout",
     "output_type": "stream",
     "text": [
      "Lucia: Preparing to send message to did:peer:2.Vz6MkgExXQ5es6n7Fie6SdyEdhYgYA5VDtzDwCJUGWGspWemo.Ez6LSePN8SKTBYuyMjpYZrYjFqoKARsnrPqYwBuRSByoLX8bP.SeyJ0IjoiZG0iLCJzIjp7InVyaSI6IndzOi8vbG9jYWxob3N0Ojg3NjUiLCJhIjpbImRpZGNvbW0vdjIiXSwiciI6W119fQ\n",
      "Lucia: Got endpoint ws://localhost:8765 for message to did:peer:2.Vz6MkgExXQ5es6n7Fie6SdyEdhYgYA5VDtzDwCJUGWGspWemo.Ez6LSePN8SKTBYuyMjpYZrYjFqoKARsnrPqYwBuRSByoLX8bP.SeyJ0IjoiZG0iLCJzIjp7InVyaSI6IndzOi8vbG9jYWxob3N0Ojg3NjUiLCJhIjpbImRpZGNvbW0vdjIiXSwiciI6W119fQ\n",
      "Lucia: Added message to queue for ws://localhost:8765\n",
      "Lucia: Starting queue processor for ws://localhost:8765\n",
      "Lucia: Starting message queue processor for ws://localhost:8765\n",
      "Lucia: Processing message from queue for ws://localhost:8765\n",
      "Lucia: Creating new connection to ws://localhost:8765\n",
      "Lucia: Successfully connected to ws://localhost:8765\n",
      "Lucia: Sending message to ws://localhost:8765\n",
      "Lucia: Processing message from queue for ws://localhost:8765\n",
      "Lucia: Sending message to ws://localhost:8765\n",
      "Lucia: Processing message from queue for ws://localhost:8765\n",
      "Lucia: Sending message to ws://localhost:8765\n"
     ]
    }
   ],
   "source": [
    "await beacon_participant.subscribe_to_coordinator(coordinator_did)"
   ]
  },
  {
   "cell_type": "markdown",
   "id": "b051c00c-2508-4dcd-915e-cd5d4d4cf783",
   "metadata": {},
   "source": [
    "## Participant now has the beacon coordinator DID stored\n",
    "\n",
    "This is used when checking BeaconAdverts, to make sure they are not unsolicited.\n",
    "\n",
    "Any cohort adverts received from coordinators subscribed to will automatically be replied to and accepted currently. This is determined and can be overwritten by the handlers."
   ]
  },
  {
   "cell_type": "code",
   "execution_count": 12,
   "id": "b274c8b6-31f5-4531-8ad5-19a70c035cac",
   "metadata": {},
   "outputs": [
    {
     "data": {
      "text/plain": [
       "['did:peer:2.Vz6MkgExXQ5es6n7Fie6SdyEdhYgYA5VDtzDwCJUGWGspWemo.Ez6LSePN8SKTBYuyMjpYZrYjFqoKARsnrPqYwBuRSByoLX8bP.SeyJ0IjoiZG0iLCJzIjp7InVyaSI6IndzOi8vbG9jYWxob3N0Ojg3NjUiLCJhIjpbImRpZGNvbW0vdjIiXSwiciI6W119fQ']"
      ]
     },
     "execution_count": 12,
     "metadata": {},
     "output_type": "execute_result"
    }
   ],
   "source": [
    "beacon_participant.coordinator_dids"
   ]
  },
  {
   "cell_type": "markdown",
   "id": "2493e842-3331-4069-b6c7-679e0f963224",
   "metadata": {},
   "source": [
    "# Participant has an active cohort\n",
    "\n",
    "Once the coordinator has sent out a advert, the participant replies with a secp256k1 public key, the coordinator receives and aggregates these keys to generate a musig2 bitcoin address."
   ]
  },
  {
   "cell_type": "code",
   "execution_count": 20,
   "id": "96037080-ad9a-455a-bdf4-67316b10214e",
   "metadata": {},
   "outputs": [
    {
     "name": "stdout",
     "output_type": "stream",
     "text": [
      "COHORT_SET\n"
     ]
    }
   ],
   "source": [
    "cohort = beacon_participant.cohorts[0]\n",
    "if not cohort:\n",
    "    print(\"No beacon cohort yet, wait for coordinator to advertise\")\n",
    "\n",
    "print(cohort.status)"
   ]
  },
  {
   "cell_type": "code",
   "execution_count": 18,
   "id": "655e5900-dfbf-45e3-aca5-2f324fdac241",
   "metadata": {},
   "outputs": [
    {
     "name": "stdout",
     "output_type": "stream",
     "text": [
      "Beacon address : tb1p8s3kjv9r6p5520l8v564e4pfzenygs20hpd8kr0mytlx27p8vtqq47ugq8\n",
      "\n",
      "Calculated from cohort keys \n",
      "\n"
     ]
    },
    {
     "data": {
      "text/plain": [
       "[S256Point(02c4bef2abaaf128b7a96e689031770252533c6848739077a05032e607e2377997),\n",
       " S256Point(033502603d2521611c61d28c7f1d4df61cc8dcaa69d07a8720f600a5f86d8fe987)]"
      ]
     },
     "execution_count": 18,
     "metadata": {},
     "output_type": "execute_result"
    }
   ],
   "source": [
    "print(f\"Beacon address : {beacon_participant.cohorts[0].beacon_address}\")\n",
    "print(\"\\nCalculated from cohort keys \\n\")\n",
    "beacon_participant.cohorts[0].cohort_keys"
   ]
  },
  {
   "cell_type": "markdown",
   "id": "ec2ff36c-38a7-42b7-90a6-ca15b701a45d",
   "metadata": {},
   "source": [
    "## Participant sends update to beacon coordinator\n",
    "\n",
    "The would depend on the type of Beacon the cohort is for. They would at least send a hash of the update plus any additional information, like the key of the update."
   ]
  },
  {
   "cell_type": "code",
   "execution_count": 21,
   "id": "297aece9-d898-40df-8f19-e62be08c1e9d",
   "metadata": {},
   "outputs": [
    {
     "name": "stdout",
     "output_type": "stream",
     "text": [
      "Lucia: Preparing to send message to did:peer:2.Vz6MkgExXQ5es6n7Fie6SdyEdhYgYA5VDtzDwCJUGWGspWemo.Ez6LSePN8SKTBYuyMjpYZrYjFqoKARsnrPqYwBuRSByoLX8bP.SeyJ0IjoiZG0iLCJzIjp7InVyaSI6IndzOi8vbG9jYWxob3N0Ojg3NjUiLCJhIjpbImRpZGNvbW0vdjIiXSwiciI6W119fQ\n",
      "Lucia: Got endpoint ws://localhost:8765 for message to did:peer:2.Vz6MkgExXQ5es6n7Fie6SdyEdhYgYA5VDtzDwCJUGWGspWemo.Ez6LSePN8SKTBYuyMjpYZrYjFqoKARsnrPqYwBuRSByoLX8bP.SeyJ0IjoiZG0iLCJzIjp7InVyaSI6IndzOi8vbG9jYWxob3N0Ojg3NjUiLCJhIjpbImRpZGNvbW0vdjIiXSwiciI6W119fQ\n",
      "Lucia: Added message to queue for ws://localhost:8765\n"
     ]
    },
    {
     "data": {
      "text/plain": [
       "True"
      ]
     },
     "execution_count": 21,
     "metadata": {},
     "output_type": "execute_result"
    }
   ],
   "source": [
    "# TODO: actually send relevant data\n",
    "await beacon_participant.request_cohort_signature(cohort.id, \"Hello, world!\")"
   ]
  },
  {
   "cell_type": "code",
   "execution_count": null,
   "id": "75f00f18-4d2c-4474-89f2-c6e0f5ae1f23",
   "metadata": {},
   "outputs": [],
   "source": []
  }
 ],
 "metadata": {
  "kernelspec": {
   "display_name": "Python 3 (ipykernel)",
   "language": "python",
   "name": "python3"
  },
  "language_info": {
   "codemirror_mode": {
    "name": "ipython",
    "version": 3
   },
   "file_extension": ".py",
   "mimetype": "text/x-python",
   "name": "python",
   "nbconvert_exporter": "python",
   "pygments_lexer": "ipython3",
   "version": "3.12.3"
  }
 },
 "nbformat": 4,
 "nbformat_minor": 5
}
